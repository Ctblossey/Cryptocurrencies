{
 "cells": [
  {
   "cell_type": "markdown",
   "metadata": {},
   "source": [
    "# Clustering Crypto"
   ]
  },
  {
   "cell_type": "code",
   "execution_count": 125,
   "metadata": {},
   "outputs": [],
   "source": [
    "# Initial imports\n",
    "import pandas as pd\n",
    "import hvplot.pandas\n",
    "import plotly.express as px\n",
    "from sklearn.preprocessing import StandardScaler, MinMaxScaler\n",
    "from sklearn.decomposition import PCA\n",
    "from sklearn.cluster import KMeans\n"
   ]
  },
  {
   "cell_type": "markdown",
   "metadata": {},
   "source": [
    "### Deliverable 1: Preprocessing the Data for PCA"
   ]
  },
  {
   "cell_type": "code",
   "execution_count": 126,
   "metadata": {},
   "outputs": [
    {
     "data": {
      "text/html": [
       "<div>\n",
       "<style scoped>\n",
       "    .dataframe tbody tr th:only-of-type {\n",
       "        vertical-align: middle;\n",
       "    }\n",
       "\n",
       "    .dataframe tbody tr th {\n",
       "        vertical-align: top;\n",
       "    }\n",
       "\n",
       "    .dataframe thead th {\n",
       "        text-align: right;\n",
       "    }\n",
       "</style>\n",
       "<table border=\"1\" class=\"dataframe\">\n",
       "  <thead>\n",
       "    <tr style=\"text-align: right;\">\n",
       "      <th></th>\n",
       "      <th>CoinName</th>\n",
       "      <th>Algorithm</th>\n",
       "      <th>IsTrading</th>\n",
       "      <th>ProofType</th>\n",
       "      <th>TotalCoinsMined</th>\n",
       "      <th>TotalCoinSupply</th>\n",
       "    </tr>\n",
       "  </thead>\n",
       "  <tbody>\n",
       "    <tr>\n",
       "      <th>42</th>\n",
       "      <td>42 Coin</td>\n",
       "      <td>Scrypt</td>\n",
       "      <td>True</td>\n",
       "      <td>PoW/PoS</td>\n",
       "      <td>4.199995e+01</td>\n",
       "      <td>42</td>\n",
       "    </tr>\n",
       "    <tr>\n",
       "      <th>365</th>\n",
       "      <td>365Coin</td>\n",
       "      <td>X11</td>\n",
       "      <td>True</td>\n",
       "      <td>PoW/PoS</td>\n",
       "      <td>NaN</td>\n",
       "      <td>2300000000</td>\n",
       "    </tr>\n",
       "    <tr>\n",
       "      <th>404</th>\n",
       "      <td>404Coin</td>\n",
       "      <td>Scrypt</td>\n",
       "      <td>True</td>\n",
       "      <td>PoW/PoS</td>\n",
       "      <td>1.055185e+09</td>\n",
       "      <td>532000000</td>\n",
       "    </tr>\n",
       "    <tr>\n",
       "      <th>611</th>\n",
       "      <td>SixEleven</td>\n",
       "      <td>SHA-256</td>\n",
       "      <td>True</td>\n",
       "      <td>PoW</td>\n",
       "      <td>NaN</td>\n",
       "      <td>611000</td>\n",
       "    </tr>\n",
       "    <tr>\n",
       "      <th>808</th>\n",
       "      <td>808</td>\n",
       "      <td>SHA-256</td>\n",
       "      <td>True</td>\n",
       "      <td>PoW/PoS</td>\n",
       "      <td>0.000000e+00</td>\n",
       "      <td>0</td>\n",
       "    </tr>\n",
       "    <tr>\n",
       "      <th>1337</th>\n",
       "      <td>EliteCoin</td>\n",
       "      <td>X13</td>\n",
       "      <td>True</td>\n",
       "      <td>PoW/PoS</td>\n",
       "      <td>2.927942e+10</td>\n",
       "      <td>314159265359</td>\n",
       "    </tr>\n",
       "    <tr>\n",
       "      <th>2015</th>\n",
       "      <td>2015 coin</td>\n",
       "      <td>X11</td>\n",
       "      <td>True</td>\n",
       "      <td>PoW/PoS</td>\n",
       "      <td>NaN</td>\n",
       "      <td>0</td>\n",
       "    </tr>\n",
       "    <tr>\n",
       "      <th>BTC</th>\n",
       "      <td>Bitcoin</td>\n",
       "      <td>SHA-256</td>\n",
       "      <td>True</td>\n",
       "      <td>PoW</td>\n",
       "      <td>1.792718e+07</td>\n",
       "      <td>21000000</td>\n",
       "    </tr>\n",
       "    <tr>\n",
       "      <th>ETH</th>\n",
       "      <td>Ethereum</td>\n",
       "      <td>Ethash</td>\n",
       "      <td>True</td>\n",
       "      <td>PoW</td>\n",
       "      <td>1.076842e+08</td>\n",
       "      <td>0</td>\n",
       "    </tr>\n",
       "    <tr>\n",
       "      <th>LTC</th>\n",
       "      <td>Litecoin</td>\n",
       "      <td>Scrypt</td>\n",
       "      <td>True</td>\n",
       "      <td>PoW</td>\n",
       "      <td>6.303924e+07</td>\n",
       "      <td>84000000</td>\n",
       "    </tr>\n",
       "  </tbody>\n",
       "</table>\n",
       "</div>"
      ],
      "text/plain": [
       "       CoinName Algorithm  IsTrading ProofType  TotalCoinsMined  \\\n",
       "42      42 Coin    Scrypt       True   PoW/PoS     4.199995e+01   \n",
       "365     365Coin       X11       True   PoW/PoS              NaN   \n",
       "404     404Coin    Scrypt       True   PoW/PoS     1.055185e+09   \n",
       "611   SixEleven   SHA-256       True       PoW              NaN   \n",
       "808         808   SHA-256       True   PoW/PoS     0.000000e+00   \n",
       "1337  EliteCoin       X13       True   PoW/PoS     2.927942e+10   \n",
       "2015  2015 coin       X11       True   PoW/PoS              NaN   \n",
       "BTC     Bitcoin   SHA-256       True       PoW     1.792718e+07   \n",
       "ETH    Ethereum    Ethash       True       PoW     1.076842e+08   \n",
       "LTC    Litecoin    Scrypt       True       PoW     6.303924e+07   \n",
       "\n",
       "     TotalCoinSupply  \n",
       "42                42  \n",
       "365       2300000000  \n",
       "404        532000000  \n",
       "611           611000  \n",
       "808                0  \n",
       "1337    314159265359  \n",
       "2015               0  \n",
       "BTC         21000000  \n",
       "ETH                0  \n",
       "LTC         84000000  "
      ]
     },
     "execution_count": 126,
     "metadata": {},
     "output_type": "execute_result"
    }
   ],
   "source": [
    "# Load the crypto_data.csv dataset.\n",
    "file = \"crypto_data.csv\"\n",
    "crypto_df = pd.read_csv(file,index_col=0)\n",
    "crypto_df.head(10)"
   ]
  },
  {
   "cell_type": "code",
   "execution_count": 127,
   "metadata": {},
   "outputs": [
    {
     "data": {
      "text/html": [
       "<div>\n",
       "<style scoped>\n",
       "    .dataframe tbody tr th:only-of-type {\n",
       "        vertical-align: middle;\n",
       "    }\n",
       "\n",
       "    .dataframe tbody tr th {\n",
       "        vertical-align: top;\n",
       "    }\n",
       "\n",
       "    .dataframe thead th {\n",
       "        text-align: right;\n",
       "    }\n",
       "</style>\n",
       "<table border=\"1\" class=\"dataframe\">\n",
       "  <thead>\n",
       "    <tr style=\"text-align: right;\">\n",
       "      <th></th>\n",
       "      <th>CoinName</th>\n",
       "      <th>Algorithm</th>\n",
       "      <th>IsTrading</th>\n",
       "      <th>ProofType</th>\n",
       "      <th>TotalCoinsMined</th>\n",
       "      <th>TotalCoinSupply</th>\n",
       "    </tr>\n",
       "  </thead>\n",
       "  <tbody>\n",
       "    <tr>\n",
       "      <th>42</th>\n",
       "      <td>42 Coin</td>\n",
       "      <td>Scrypt</td>\n",
       "      <td>True</td>\n",
       "      <td>PoW/PoS</td>\n",
       "      <td>4.199995e+01</td>\n",
       "      <td>42</td>\n",
       "    </tr>\n",
       "    <tr>\n",
       "      <th>365</th>\n",
       "      <td>365Coin</td>\n",
       "      <td>X11</td>\n",
       "      <td>True</td>\n",
       "      <td>PoW/PoS</td>\n",
       "      <td>NaN</td>\n",
       "      <td>2300000000</td>\n",
       "    </tr>\n",
       "    <tr>\n",
       "      <th>404</th>\n",
       "      <td>404Coin</td>\n",
       "      <td>Scrypt</td>\n",
       "      <td>True</td>\n",
       "      <td>PoW/PoS</td>\n",
       "      <td>1.055185e+09</td>\n",
       "      <td>532000000</td>\n",
       "    </tr>\n",
       "    <tr>\n",
       "      <th>611</th>\n",
       "      <td>SixEleven</td>\n",
       "      <td>SHA-256</td>\n",
       "      <td>True</td>\n",
       "      <td>PoW</td>\n",
       "      <td>NaN</td>\n",
       "      <td>611000</td>\n",
       "    </tr>\n",
       "    <tr>\n",
       "      <th>808</th>\n",
       "      <td>808</td>\n",
       "      <td>SHA-256</td>\n",
       "      <td>True</td>\n",
       "      <td>PoW/PoS</td>\n",
       "      <td>0.000000e+00</td>\n",
       "      <td>0</td>\n",
       "    </tr>\n",
       "    <tr>\n",
       "      <th>1337</th>\n",
       "      <td>EliteCoin</td>\n",
       "      <td>X13</td>\n",
       "      <td>True</td>\n",
       "      <td>PoW/PoS</td>\n",
       "      <td>2.927942e+10</td>\n",
       "      <td>314159265359</td>\n",
       "    </tr>\n",
       "    <tr>\n",
       "      <th>2015</th>\n",
       "      <td>2015 coin</td>\n",
       "      <td>X11</td>\n",
       "      <td>True</td>\n",
       "      <td>PoW/PoS</td>\n",
       "      <td>NaN</td>\n",
       "      <td>0</td>\n",
       "    </tr>\n",
       "    <tr>\n",
       "      <th>BTC</th>\n",
       "      <td>Bitcoin</td>\n",
       "      <td>SHA-256</td>\n",
       "      <td>True</td>\n",
       "      <td>PoW</td>\n",
       "      <td>1.792718e+07</td>\n",
       "      <td>21000000</td>\n",
       "    </tr>\n",
       "    <tr>\n",
       "      <th>ETH</th>\n",
       "      <td>Ethereum</td>\n",
       "      <td>Ethash</td>\n",
       "      <td>True</td>\n",
       "      <td>PoW</td>\n",
       "      <td>1.076842e+08</td>\n",
       "      <td>0</td>\n",
       "    </tr>\n",
       "    <tr>\n",
       "      <th>LTC</th>\n",
       "      <td>Litecoin</td>\n",
       "      <td>Scrypt</td>\n",
       "      <td>True</td>\n",
       "      <td>PoW</td>\n",
       "      <td>6.303924e+07</td>\n",
       "      <td>84000000</td>\n",
       "    </tr>\n",
       "  </tbody>\n",
       "</table>\n",
       "</div>"
      ],
      "text/plain": [
       "       CoinName Algorithm  IsTrading ProofType  TotalCoinsMined  \\\n",
       "42      42 Coin    Scrypt       True   PoW/PoS     4.199995e+01   \n",
       "365     365Coin       X11       True   PoW/PoS              NaN   \n",
       "404     404Coin    Scrypt       True   PoW/PoS     1.055185e+09   \n",
       "611   SixEleven   SHA-256       True       PoW              NaN   \n",
       "808         808   SHA-256       True   PoW/PoS     0.000000e+00   \n",
       "1337  EliteCoin       X13       True   PoW/PoS     2.927942e+10   \n",
       "2015  2015 coin       X11       True   PoW/PoS              NaN   \n",
       "BTC     Bitcoin   SHA-256       True       PoW     1.792718e+07   \n",
       "ETH    Ethereum    Ethash       True       PoW     1.076842e+08   \n",
       "LTC    Litecoin    Scrypt       True       PoW     6.303924e+07   \n",
       "\n",
       "     TotalCoinSupply  \n",
       "42                42  \n",
       "365       2300000000  \n",
       "404        532000000  \n",
       "611           611000  \n",
       "808                0  \n",
       "1337    314159265359  \n",
       "2015               0  \n",
       "BTC         21000000  \n",
       "ETH                0  \n",
       "LTC         84000000  "
      ]
     },
     "execution_count": 127,
     "metadata": {},
     "output_type": "execute_result"
    }
   ],
   "source": [
    "# Keep all the cryptocurrencies that are being traded.\n",
    "crypto_df_traded = crypto_df.loc[crypto_df['IsTrading'] == True]\n",
    "crypto_df_traded.head(10)"
   ]
  },
  {
   "cell_type": "code",
   "execution_count": 128,
   "metadata": {},
   "outputs": [
    {
     "name": "stderr",
     "output_type": "stream",
     "text": [
      "/Users/carterblossey/opt/anaconda3/envs/mlenv/lib/python3.7/site-packages/pandas/core/frame.py:4913: SettingWithCopyWarning:\n",
      "\n",
      "\n",
      "A value is trying to be set on a copy of a slice from a DataFrame\n",
      "\n",
      "See the caveats in the documentation: https://pandas.pydata.org/pandas-docs/stable/user_guide/indexing.html#returning-a-view-versus-a-copy\n",
      "\n"
     ]
    },
    {
     "data": {
      "text/html": [
       "<div>\n",
       "<style scoped>\n",
       "    .dataframe tbody tr th:only-of-type {\n",
       "        vertical-align: middle;\n",
       "    }\n",
       "\n",
       "    .dataframe tbody tr th {\n",
       "        vertical-align: top;\n",
       "    }\n",
       "\n",
       "    .dataframe thead th {\n",
       "        text-align: right;\n",
       "    }\n",
       "</style>\n",
       "<table border=\"1\" class=\"dataframe\">\n",
       "  <thead>\n",
       "    <tr style=\"text-align: right;\">\n",
       "      <th></th>\n",
       "      <th>CoinName</th>\n",
       "      <th>Algorithm</th>\n",
       "      <th>ProofType</th>\n",
       "      <th>TotalCoinsMined</th>\n",
       "      <th>TotalCoinSupply</th>\n",
       "    </tr>\n",
       "  </thead>\n",
       "  <tbody>\n",
       "    <tr>\n",
       "      <th>42</th>\n",
       "      <td>42 Coin</td>\n",
       "      <td>Scrypt</td>\n",
       "      <td>PoW/PoS</td>\n",
       "      <td>4.199995e+01</td>\n",
       "      <td>42</td>\n",
       "    </tr>\n",
       "    <tr>\n",
       "      <th>365</th>\n",
       "      <td>365Coin</td>\n",
       "      <td>X11</td>\n",
       "      <td>PoW/PoS</td>\n",
       "      <td>NaN</td>\n",
       "      <td>2300000000</td>\n",
       "    </tr>\n",
       "    <tr>\n",
       "      <th>404</th>\n",
       "      <td>404Coin</td>\n",
       "      <td>Scrypt</td>\n",
       "      <td>PoW/PoS</td>\n",
       "      <td>1.055185e+09</td>\n",
       "      <td>532000000</td>\n",
       "    </tr>\n",
       "    <tr>\n",
       "      <th>611</th>\n",
       "      <td>SixEleven</td>\n",
       "      <td>SHA-256</td>\n",
       "      <td>PoW</td>\n",
       "      <td>NaN</td>\n",
       "      <td>611000</td>\n",
       "    </tr>\n",
       "    <tr>\n",
       "      <th>808</th>\n",
       "      <td>808</td>\n",
       "      <td>SHA-256</td>\n",
       "      <td>PoW/PoS</td>\n",
       "      <td>0.000000e+00</td>\n",
       "      <td>0</td>\n",
       "    </tr>\n",
       "    <tr>\n",
       "      <th>1337</th>\n",
       "      <td>EliteCoin</td>\n",
       "      <td>X13</td>\n",
       "      <td>PoW/PoS</td>\n",
       "      <td>2.927942e+10</td>\n",
       "      <td>314159265359</td>\n",
       "    </tr>\n",
       "    <tr>\n",
       "      <th>2015</th>\n",
       "      <td>2015 coin</td>\n",
       "      <td>X11</td>\n",
       "      <td>PoW/PoS</td>\n",
       "      <td>NaN</td>\n",
       "      <td>0</td>\n",
       "    </tr>\n",
       "    <tr>\n",
       "      <th>BTC</th>\n",
       "      <td>Bitcoin</td>\n",
       "      <td>SHA-256</td>\n",
       "      <td>PoW</td>\n",
       "      <td>1.792718e+07</td>\n",
       "      <td>21000000</td>\n",
       "    </tr>\n",
       "    <tr>\n",
       "      <th>ETH</th>\n",
       "      <td>Ethereum</td>\n",
       "      <td>Ethash</td>\n",
       "      <td>PoW</td>\n",
       "      <td>1.076842e+08</td>\n",
       "      <td>0</td>\n",
       "    </tr>\n",
       "    <tr>\n",
       "      <th>LTC</th>\n",
       "      <td>Litecoin</td>\n",
       "      <td>Scrypt</td>\n",
       "      <td>PoW</td>\n",
       "      <td>6.303924e+07</td>\n",
       "      <td>84000000</td>\n",
       "    </tr>\n",
       "  </tbody>\n",
       "</table>\n",
       "</div>"
      ],
      "text/plain": [
       "       CoinName Algorithm ProofType  TotalCoinsMined TotalCoinSupply\n",
       "42      42 Coin    Scrypt   PoW/PoS     4.199995e+01              42\n",
       "365     365Coin       X11   PoW/PoS              NaN      2300000000\n",
       "404     404Coin    Scrypt   PoW/PoS     1.055185e+09       532000000\n",
       "611   SixEleven   SHA-256       PoW              NaN          611000\n",
       "808         808   SHA-256   PoW/PoS     0.000000e+00               0\n",
       "1337  EliteCoin       X13   PoW/PoS     2.927942e+10    314159265359\n",
       "2015  2015 coin       X11   PoW/PoS              NaN               0\n",
       "BTC     Bitcoin   SHA-256       PoW     1.792718e+07        21000000\n",
       "ETH    Ethereum    Ethash       PoW     1.076842e+08               0\n",
       "LTC    Litecoin    Scrypt       PoW     6.303924e+07        84000000"
      ]
     },
     "execution_count": 128,
     "metadata": {},
     "output_type": "execute_result"
    }
   ],
   "source": [
    "# Remove the \"IsTrading\" column. \n",
    "crypto_df_traded.drop(columns=[\"IsTrading\"],inplace=True)\n",
    "crypto_df_traded.head(10)"
   ]
  },
  {
   "cell_type": "code",
   "execution_count": 129,
   "metadata": {},
   "outputs": [
    {
     "data": {
      "text/html": [
       "<div>\n",
       "<style scoped>\n",
       "    .dataframe tbody tr th:only-of-type {\n",
       "        vertical-align: middle;\n",
       "    }\n",
       "\n",
       "    .dataframe tbody tr th {\n",
       "        vertical-align: top;\n",
       "    }\n",
       "\n",
       "    .dataframe thead th {\n",
       "        text-align: right;\n",
       "    }\n",
       "</style>\n",
       "<table border=\"1\" class=\"dataframe\">\n",
       "  <thead>\n",
       "    <tr style=\"text-align: right;\">\n",
       "      <th></th>\n",
       "      <th>CoinName</th>\n",
       "      <th>Algorithm</th>\n",
       "      <th>ProofType</th>\n",
       "      <th>TotalCoinsMined</th>\n",
       "      <th>TotalCoinSupply</th>\n",
       "    </tr>\n",
       "  </thead>\n",
       "  <tbody>\n",
       "    <tr>\n",
       "      <th>42</th>\n",
       "      <td>42 Coin</td>\n",
       "      <td>Scrypt</td>\n",
       "      <td>PoW/PoS</td>\n",
       "      <td>4.199995e+01</td>\n",
       "      <td>42</td>\n",
       "    </tr>\n",
       "    <tr>\n",
       "      <th>404</th>\n",
       "      <td>404Coin</td>\n",
       "      <td>Scrypt</td>\n",
       "      <td>PoW/PoS</td>\n",
       "      <td>1.055185e+09</td>\n",
       "      <td>532000000</td>\n",
       "    </tr>\n",
       "    <tr>\n",
       "      <th>808</th>\n",
       "      <td>808</td>\n",
       "      <td>SHA-256</td>\n",
       "      <td>PoW/PoS</td>\n",
       "      <td>0.000000e+00</td>\n",
       "      <td>0</td>\n",
       "    </tr>\n",
       "    <tr>\n",
       "      <th>1337</th>\n",
       "      <td>EliteCoin</td>\n",
       "      <td>X13</td>\n",
       "      <td>PoW/PoS</td>\n",
       "      <td>2.927942e+10</td>\n",
       "      <td>314159265359</td>\n",
       "    </tr>\n",
       "    <tr>\n",
       "      <th>BTC</th>\n",
       "      <td>Bitcoin</td>\n",
       "      <td>SHA-256</td>\n",
       "      <td>PoW</td>\n",
       "      <td>1.792718e+07</td>\n",
       "      <td>21000000</td>\n",
       "    </tr>\n",
       "    <tr>\n",
       "      <th>ETH</th>\n",
       "      <td>Ethereum</td>\n",
       "      <td>Ethash</td>\n",
       "      <td>PoW</td>\n",
       "      <td>1.076842e+08</td>\n",
       "      <td>0</td>\n",
       "    </tr>\n",
       "    <tr>\n",
       "      <th>LTC</th>\n",
       "      <td>Litecoin</td>\n",
       "      <td>Scrypt</td>\n",
       "      <td>PoW</td>\n",
       "      <td>6.303924e+07</td>\n",
       "      <td>84000000</td>\n",
       "    </tr>\n",
       "    <tr>\n",
       "      <th>DASH</th>\n",
       "      <td>Dash</td>\n",
       "      <td>X11</td>\n",
       "      <td>PoW/PoS</td>\n",
       "      <td>9.031294e+06</td>\n",
       "      <td>22000000</td>\n",
       "    </tr>\n",
       "    <tr>\n",
       "      <th>XMR</th>\n",
       "      <td>Monero</td>\n",
       "      <td>CryptoNight-V7</td>\n",
       "      <td>PoW</td>\n",
       "      <td>1.720114e+07</td>\n",
       "      <td>0</td>\n",
       "    </tr>\n",
       "    <tr>\n",
       "      <th>ETC</th>\n",
       "      <td>Ethereum Classic</td>\n",
       "      <td>Ethash</td>\n",
       "      <td>PoW</td>\n",
       "      <td>1.133597e+08</td>\n",
       "      <td>210000000</td>\n",
       "    </tr>\n",
       "  </tbody>\n",
       "</table>\n",
       "</div>"
      ],
      "text/plain": [
       "              CoinName       Algorithm ProofType  TotalCoinsMined  \\\n",
       "42             42 Coin          Scrypt   PoW/PoS     4.199995e+01   \n",
       "404            404Coin          Scrypt   PoW/PoS     1.055185e+09   \n",
       "808                808         SHA-256   PoW/PoS     0.000000e+00   \n",
       "1337         EliteCoin             X13   PoW/PoS     2.927942e+10   \n",
       "BTC            Bitcoin         SHA-256       PoW     1.792718e+07   \n",
       "ETH           Ethereum          Ethash       PoW     1.076842e+08   \n",
       "LTC           Litecoin          Scrypt       PoW     6.303924e+07   \n",
       "DASH              Dash             X11   PoW/PoS     9.031294e+06   \n",
       "XMR             Monero  CryptoNight-V7       PoW     1.720114e+07   \n",
       "ETC   Ethereum Classic          Ethash       PoW     1.133597e+08   \n",
       "\n",
       "     TotalCoinSupply  \n",
       "42                42  \n",
       "404        532000000  \n",
       "808                0  \n",
       "1337    314159265359  \n",
       "BTC         21000000  \n",
       "ETH                0  \n",
       "LTC         84000000  \n",
       "DASH        22000000  \n",
       "XMR                0  \n",
       "ETC        210000000  "
      ]
     },
     "execution_count": 129,
     "metadata": {},
     "output_type": "execute_result"
    }
   ],
   "source": [
    "# Remove rows that have at least 1 null value.\n",
    "crypto_filtered = crypto_df_traded.dropna()\n",
    "crypto_filtered.head(10)"
   ]
  },
  {
   "cell_type": "code",
   "execution_count": 130,
   "metadata": {},
   "outputs": [
    {
     "data": {
      "text/html": [
       "<div>\n",
       "<style scoped>\n",
       "    .dataframe tbody tr th:only-of-type {\n",
       "        vertical-align: middle;\n",
       "    }\n",
       "\n",
       "    .dataframe tbody tr th {\n",
       "        vertical-align: top;\n",
       "    }\n",
       "\n",
       "    .dataframe thead th {\n",
       "        text-align: right;\n",
       "    }\n",
       "</style>\n",
       "<table border=\"1\" class=\"dataframe\">\n",
       "  <thead>\n",
       "    <tr style=\"text-align: right;\">\n",
       "      <th></th>\n",
       "      <th>CoinName</th>\n",
       "      <th>Algorithm</th>\n",
       "      <th>ProofType</th>\n",
       "      <th>TotalCoinsMined</th>\n",
       "      <th>TotalCoinSupply</th>\n",
       "    </tr>\n",
       "  </thead>\n",
       "  <tbody>\n",
       "    <tr>\n",
       "      <th>42</th>\n",
       "      <td>42 Coin</td>\n",
       "      <td>Scrypt</td>\n",
       "      <td>PoW/PoS</td>\n",
       "      <td>4.199995e+01</td>\n",
       "      <td>42</td>\n",
       "    </tr>\n",
       "    <tr>\n",
       "      <th>404</th>\n",
       "      <td>404Coin</td>\n",
       "      <td>Scrypt</td>\n",
       "      <td>PoW/PoS</td>\n",
       "      <td>1.055185e+09</td>\n",
       "      <td>532000000</td>\n",
       "    </tr>\n",
       "    <tr>\n",
       "      <th>1337</th>\n",
       "      <td>EliteCoin</td>\n",
       "      <td>X13</td>\n",
       "      <td>PoW/PoS</td>\n",
       "      <td>2.927942e+10</td>\n",
       "      <td>314159265359</td>\n",
       "    </tr>\n",
       "    <tr>\n",
       "      <th>BTC</th>\n",
       "      <td>Bitcoin</td>\n",
       "      <td>SHA-256</td>\n",
       "      <td>PoW</td>\n",
       "      <td>1.792718e+07</td>\n",
       "      <td>21000000</td>\n",
       "    </tr>\n",
       "    <tr>\n",
       "      <th>ETH</th>\n",
       "      <td>Ethereum</td>\n",
       "      <td>Ethash</td>\n",
       "      <td>PoW</td>\n",
       "      <td>1.076842e+08</td>\n",
       "      <td>0</td>\n",
       "    </tr>\n",
       "    <tr>\n",
       "      <th>LTC</th>\n",
       "      <td>Litecoin</td>\n",
       "      <td>Scrypt</td>\n",
       "      <td>PoW</td>\n",
       "      <td>6.303924e+07</td>\n",
       "      <td>84000000</td>\n",
       "    </tr>\n",
       "    <tr>\n",
       "      <th>DASH</th>\n",
       "      <td>Dash</td>\n",
       "      <td>X11</td>\n",
       "      <td>PoW/PoS</td>\n",
       "      <td>9.031294e+06</td>\n",
       "      <td>22000000</td>\n",
       "    </tr>\n",
       "    <tr>\n",
       "      <th>XMR</th>\n",
       "      <td>Monero</td>\n",
       "      <td>CryptoNight-V7</td>\n",
       "      <td>PoW</td>\n",
       "      <td>1.720114e+07</td>\n",
       "      <td>0</td>\n",
       "    </tr>\n",
       "    <tr>\n",
       "      <th>ETC</th>\n",
       "      <td>Ethereum Classic</td>\n",
       "      <td>Ethash</td>\n",
       "      <td>PoW</td>\n",
       "      <td>1.133597e+08</td>\n",
       "      <td>210000000</td>\n",
       "    </tr>\n",
       "    <tr>\n",
       "      <th>ZEC</th>\n",
       "      <td>ZCash</td>\n",
       "      <td>Equihash</td>\n",
       "      <td>PoW</td>\n",
       "      <td>7.383056e+06</td>\n",
       "      <td>21000000</td>\n",
       "    </tr>\n",
       "  </tbody>\n",
       "</table>\n",
       "</div>"
      ],
      "text/plain": [
       "              CoinName       Algorithm ProofType  TotalCoinsMined  \\\n",
       "42             42 Coin          Scrypt   PoW/PoS     4.199995e+01   \n",
       "404            404Coin          Scrypt   PoW/PoS     1.055185e+09   \n",
       "1337         EliteCoin             X13   PoW/PoS     2.927942e+10   \n",
       "BTC            Bitcoin         SHA-256       PoW     1.792718e+07   \n",
       "ETH           Ethereum          Ethash       PoW     1.076842e+08   \n",
       "LTC           Litecoin          Scrypt       PoW     6.303924e+07   \n",
       "DASH              Dash             X11   PoW/PoS     9.031294e+06   \n",
       "XMR             Monero  CryptoNight-V7       PoW     1.720114e+07   \n",
       "ETC   Ethereum Classic          Ethash       PoW     1.133597e+08   \n",
       "ZEC              ZCash        Equihash       PoW     7.383056e+06   \n",
       "\n",
       "     TotalCoinSupply  \n",
       "42                42  \n",
       "404        532000000  \n",
       "1337    314159265359  \n",
       "BTC         21000000  \n",
       "ETH                0  \n",
       "LTC         84000000  \n",
       "DASH        22000000  \n",
       "XMR                0  \n",
       "ETC        210000000  \n",
       "ZEC         21000000  "
      ]
     },
     "execution_count": 130,
     "metadata": {},
     "output_type": "execute_result"
    }
   ],
   "source": [
    "# Keep the rows where coins are mined.\n",
    "crypto_mined = crypto_filtered.loc[crypto_filtered['TotalCoinsMined']>0]\n",
    "crypto_mined.head(10)"
   ]
  },
  {
   "cell_type": "code",
   "execution_count": 131,
   "metadata": {},
   "outputs": [
    {
     "data": {
      "text/html": [
       "<div>\n",
       "<style scoped>\n",
       "    .dataframe tbody tr th:only-of-type {\n",
       "        vertical-align: middle;\n",
       "    }\n",
       "\n",
       "    .dataframe tbody tr th {\n",
       "        vertical-align: top;\n",
       "    }\n",
       "\n",
       "    .dataframe thead th {\n",
       "        text-align: right;\n",
       "    }\n",
       "</style>\n",
       "<table border=\"1\" class=\"dataframe\">\n",
       "  <thead>\n",
       "    <tr style=\"text-align: right;\">\n",
       "      <th></th>\n",
       "      <th>CoinName</th>\n",
       "    </tr>\n",
       "  </thead>\n",
       "  <tbody>\n",
       "    <tr>\n",
       "      <th>42</th>\n",
       "      <td>42 Coin</td>\n",
       "    </tr>\n",
       "    <tr>\n",
       "      <th>404</th>\n",
       "      <td>404Coin</td>\n",
       "    </tr>\n",
       "    <tr>\n",
       "      <th>1337</th>\n",
       "      <td>EliteCoin</td>\n",
       "    </tr>\n",
       "    <tr>\n",
       "      <th>BTC</th>\n",
       "      <td>Bitcoin</td>\n",
       "    </tr>\n",
       "    <tr>\n",
       "      <th>ETH</th>\n",
       "      <td>Ethereum</td>\n",
       "    </tr>\n",
       "  </tbody>\n",
       "</table>\n",
       "</div>"
      ],
      "text/plain": [
       "       CoinName\n",
       "42      42 Coin\n",
       "404     404Coin\n",
       "1337  EliteCoin\n",
       "BTC     Bitcoin\n",
       "ETH    Ethereum"
      ]
     },
     "execution_count": 131,
     "metadata": {},
     "output_type": "execute_result"
    }
   ],
   "source": [
    "# Create a new DataFrame that holds only the cryptocurrencies names.\n",
    "crypto_names = pd.DataFrame(crypto_mined['CoinName'])\n",
    "crypto_names.head()"
   ]
  },
  {
   "cell_type": "code",
   "execution_count": 132,
   "metadata": {},
   "outputs": [
    {
     "name": "stderr",
     "output_type": "stream",
     "text": [
      "/Users/carterblossey/opt/anaconda3/envs/mlenv/lib/python3.7/site-packages/pandas/core/frame.py:4913: SettingWithCopyWarning:\n",
      "\n",
      "\n",
      "A value is trying to be set on a copy of a slice from a DataFrame\n",
      "\n",
      "See the caveats in the documentation: https://pandas.pydata.org/pandas-docs/stable/user_guide/indexing.html#returning-a-view-versus-a-copy\n",
      "\n"
     ]
    },
    {
     "data": {
      "text/html": [
       "<div>\n",
       "<style scoped>\n",
       "    .dataframe tbody tr th:only-of-type {\n",
       "        vertical-align: middle;\n",
       "    }\n",
       "\n",
       "    .dataframe tbody tr th {\n",
       "        vertical-align: top;\n",
       "    }\n",
       "\n",
       "    .dataframe thead th {\n",
       "        text-align: right;\n",
       "    }\n",
       "</style>\n",
       "<table border=\"1\" class=\"dataframe\">\n",
       "  <thead>\n",
       "    <tr style=\"text-align: right;\">\n",
       "      <th></th>\n",
       "      <th>Algorithm</th>\n",
       "      <th>ProofType</th>\n",
       "      <th>TotalCoinsMined</th>\n",
       "      <th>TotalCoinSupply</th>\n",
       "    </tr>\n",
       "  </thead>\n",
       "  <tbody>\n",
       "    <tr>\n",
       "      <th>42</th>\n",
       "      <td>Scrypt</td>\n",
       "      <td>PoW/PoS</td>\n",
       "      <td>4.199995e+01</td>\n",
       "      <td>42</td>\n",
       "    </tr>\n",
       "    <tr>\n",
       "      <th>404</th>\n",
       "      <td>Scrypt</td>\n",
       "      <td>PoW/PoS</td>\n",
       "      <td>1.055185e+09</td>\n",
       "      <td>532000000</td>\n",
       "    </tr>\n",
       "    <tr>\n",
       "      <th>1337</th>\n",
       "      <td>X13</td>\n",
       "      <td>PoW/PoS</td>\n",
       "      <td>2.927942e+10</td>\n",
       "      <td>314159265359</td>\n",
       "    </tr>\n",
       "    <tr>\n",
       "      <th>BTC</th>\n",
       "      <td>SHA-256</td>\n",
       "      <td>PoW</td>\n",
       "      <td>1.792718e+07</td>\n",
       "      <td>21000000</td>\n",
       "    </tr>\n",
       "    <tr>\n",
       "      <th>ETH</th>\n",
       "      <td>Ethash</td>\n",
       "      <td>PoW</td>\n",
       "      <td>1.076842e+08</td>\n",
       "      <td>0</td>\n",
       "    </tr>\n",
       "    <tr>\n",
       "      <th>LTC</th>\n",
       "      <td>Scrypt</td>\n",
       "      <td>PoW</td>\n",
       "      <td>6.303924e+07</td>\n",
       "      <td>84000000</td>\n",
       "    </tr>\n",
       "    <tr>\n",
       "      <th>DASH</th>\n",
       "      <td>X11</td>\n",
       "      <td>PoW/PoS</td>\n",
       "      <td>9.031294e+06</td>\n",
       "      <td>22000000</td>\n",
       "    </tr>\n",
       "    <tr>\n",
       "      <th>XMR</th>\n",
       "      <td>CryptoNight-V7</td>\n",
       "      <td>PoW</td>\n",
       "      <td>1.720114e+07</td>\n",
       "      <td>0</td>\n",
       "    </tr>\n",
       "    <tr>\n",
       "      <th>ETC</th>\n",
       "      <td>Ethash</td>\n",
       "      <td>PoW</td>\n",
       "      <td>1.133597e+08</td>\n",
       "      <td>210000000</td>\n",
       "    </tr>\n",
       "    <tr>\n",
       "      <th>ZEC</th>\n",
       "      <td>Equihash</td>\n",
       "      <td>PoW</td>\n",
       "      <td>7.383056e+06</td>\n",
       "      <td>21000000</td>\n",
       "    </tr>\n",
       "  </tbody>\n",
       "</table>\n",
       "</div>"
      ],
      "text/plain": [
       "           Algorithm ProofType  TotalCoinsMined TotalCoinSupply\n",
       "42            Scrypt   PoW/PoS     4.199995e+01              42\n",
       "404           Scrypt   PoW/PoS     1.055185e+09       532000000\n",
       "1337             X13   PoW/PoS     2.927942e+10    314159265359\n",
       "BTC          SHA-256       PoW     1.792718e+07        21000000\n",
       "ETH           Ethash       PoW     1.076842e+08               0\n",
       "LTC           Scrypt       PoW     6.303924e+07        84000000\n",
       "DASH             X11   PoW/PoS     9.031294e+06        22000000\n",
       "XMR   CryptoNight-V7       PoW     1.720114e+07               0\n",
       "ETC           Ethash       PoW     1.133597e+08       210000000\n",
       "ZEC         Equihash       PoW     7.383056e+06        21000000"
      ]
     },
     "execution_count": 132,
     "metadata": {},
     "output_type": "execute_result"
    }
   ],
   "source": [
    "# Drop the 'CoinName' column since it's not going to be used on the clustering algorithm.\n",
    "crypto_mined.drop(columns=[\"CoinName\"],inplace=True)\n",
    "crypto_mined.head(10)"
   ]
  },
  {
   "cell_type": "code",
   "execution_count": 133,
   "metadata": {},
   "outputs": [
    {
     "data": {
      "text/html": [
       "<div>\n",
       "<style scoped>\n",
       "    .dataframe tbody tr th:only-of-type {\n",
       "        vertical-align: middle;\n",
       "    }\n",
       "\n",
       "    .dataframe tbody tr th {\n",
       "        vertical-align: top;\n",
       "    }\n",
       "\n",
       "    .dataframe thead th {\n",
       "        text-align: right;\n",
       "    }\n",
       "</style>\n",
       "<table border=\"1\" class=\"dataframe\">\n",
       "  <thead>\n",
       "    <tr style=\"text-align: right;\">\n",
       "      <th></th>\n",
       "      <th>TotalCoinsMined</th>\n",
       "      <th>TotalCoinSupply</th>\n",
       "      <th>Algorithm_1GB AES Pattern Search</th>\n",
       "      <th>Algorithm_536</th>\n",
       "      <th>Algorithm_Argon2d</th>\n",
       "      <th>Algorithm_BLAKE256</th>\n",
       "      <th>Algorithm_Blake</th>\n",
       "      <th>Algorithm_Blake2S</th>\n",
       "      <th>Algorithm_Blake2b</th>\n",
       "      <th>Algorithm_C11</th>\n",
       "      <th>...</th>\n",
       "      <th>ProofType_PoW/PoS</th>\n",
       "      <th>ProofType_PoW/PoS</th>\n",
       "      <th>ProofType_PoW/PoW</th>\n",
       "      <th>ProofType_PoW/nPoS</th>\n",
       "      <th>ProofType_Pos</th>\n",
       "      <th>ProofType_Proof of Authority</th>\n",
       "      <th>ProofType_Proof of Trust</th>\n",
       "      <th>ProofType_TPoS</th>\n",
       "      <th>ProofType_Zero-Knowledge Proof</th>\n",
       "      <th>ProofType_dPoW/PoW</th>\n",
       "    </tr>\n",
       "  </thead>\n",
       "  <tbody>\n",
       "    <tr>\n",
       "      <th>42</th>\n",
       "      <td>4.199995e+01</td>\n",
       "      <td>42</td>\n",
       "      <td>0</td>\n",
       "      <td>0</td>\n",
       "      <td>0</td>\n",
       "      <td>0</td>\n",
       "      <td>0</td>\n",
       "      <td>0</td>\n",
       "      <td>0</td>\n",
       "      <td>0</td>\n",
       "      <td>...</td>\n",
       "      <td>1</td>\n",
       "      <td>0</td>\n",
       "      <td>0</td>\n",
       "      <td>0</td>\n",
       "      <td>0</td>\n",
       "      <td>0</td>\n",
       "      <td>0</td>\n",
       "      <td>0</td>\n",
       "      <td>0</td>\n",
       "      <td>0</td>\n",
       "    </tr>\n",
       "    <tr>\n",
       "      <th>404</th>\n",
       "      <td>1.055185e+09</td>\n",
       "      <td>532000000</td>\n",
       "      <td>0</td>\n",
       "      <td>0</td>\n",
       "      <td>0</td>\n",
       "      <td>0</td>\n",
       "      <td>0</td>\n",
       "      <td>0</td>\n",
       "      <td>0</td>\n",
       "      <td>0</td>\n",
       "      <td>...</td>\n",
       "      <td>1</td>\n",
       "      <td>0</td>\n",
       "      <td>0</td>\n",
       "      <td>0</td>\n",
       "      <td>0</td>\n",
       "      <td>0</td>\n",
       "      <td>0</td>\n",
       "      <td>0</td>\n",
       "      <td>0</td>\n",
       "      <td>0</td>\n",
       "    </tr>\n",
       "    <tr>\n",
       "      <th>1337</th>\n",
       "      <td>2.927942e+10</td>\n",
       "      <td>314159265359</td>\n",
       "      <td>0</td>\n",
       "      <td>0</td>\n",
       "      <td>0</td>\n",
       "      <td>0</td>\n",
       "      <td>0</td>\n",
       "      <td>0</td>\n",
       "      <td>0</td>\n",
       "      <td>0</td>\n",
       "      <td>...</td>\n",
       "      <td>1</td>\n",
       "      <td>0</td>\n",
       "      <td>0</td>\n",
       "      <td>0</td>\n",
       "      <td>0</td>\n",
       "      <td>0</td>\n",
       "      <td>0</td>\n",
       "      <td>0</td>\n",
       "      <td>0</td>\n",
       "      <td>0</td>\n",
       "    </tr>\n",
       "    <tr>\n",
       "      <th>BTC</th>\n",
       "      <td>1.792718e+07</td>\n",
       "      <td>21000000</td>\n",
       "      <td>0</td>\n",
       "      <td>0</td>\n",
       "      <td>0</td>\n",
       "      <td>0</td>\n",
       "      <td>0</td>\n",
       "      <td>0</td>\n",
       "      <td>0</td>\n",
       "      <td>0</td>\n",
       "      <td>...</td>\n",
       "      <td>0</td>\n",
       "      <td>0</td>\n",
       "      <td>0</td>\n",
       "      <td>0</td>\n",
       "      <td>0</td>\n",
       "      <td>0</td>\n",
       "      <td>0</td>\n",
       "      <td>0</td>\n",
       "      <td>0</td>\n",
       "      <td>0</td>\n",
       "    </tr>\n",
       "    <tr>\n",
       "      <th>ETH</th>\n",
       "      <td>1.076842e+08</td>\n",
       "      <td>0</td>\n",
       "      <td>0</td>\n",
       "      <td>0</td>\n",
       "      <td>0</td>\n",
       "      <td>0</td>\n",
       "      <td>0</td>\n",
       "      <td>0</td>\n",
       "      <td>0</td>\n",
       "      <td>0</td>\n",
       "      <td>...</td>\n",
       "      <td>0</td>\n",
       "      <td>0</td>\n",
       "      <td>0</td>\n",
       "      <td>0</td>\n",
       "      <td>0</td>\n",
       "      <td>0</td>\n",
       "      <td>0</td>\n",
       "      <td>0</td>\n",
       "      <td>0</td>\n",
       "      <td>0</td>\n",
       "    </tr>\n",
       "    <tr>\n",
       "      <th>LTC</th>\n",
       "      <td>6.303924e+07</td>\n",
       "      <td>84000000</td>\n",
       "      <td>0</td>\n",
       "      <td>0</td>\n",
       "      <td>0</td>\n",
       "      <td>0</td>\n",
       "      <td>0</td>\n",
       "      <td>0</td>\n",
       "      <td>0</td>\n",
       "      <td>0</td>\n",
       "      <td>...</td>\n",
       "      <td>0</td>\n",
       "      <td>0</td>\n",
       "      <td>0</td>\n",
       "      <td>0</td>\n",
       "      <td>0</td>\n",
       "      <td>0</td>\n",
       "      <td>0</td>\n",
       "      <td>0</td>\n",
       "      <td>0</td>\n",
       "      <td>0</td>\n",
       "    </tr>\n",
       "    <tr>\n",
       "      <th>DASH</th>\n",
       "      <td>9.031294e+06</td>\n",
       "      <td>22000000</td>\n",
       "      <td>0</td>\n",
       "      <td>0</td>\n",
       "      <td>0</td>\n",
       "      <td>0</td>\n",
       "      <td>0</td>\n",
       "      <td>0</td>\n",
       "      <td>0</td>\n",
       "      <td>0</td>\n",
       "      <td>...</td>\n",
       "      <td>1</td>\n",
       "      <td>0</td>\n",
       "      <td>0</td>\n",
       "      <td>0</td>\n",
       "      <td>0</td>\n",
       "      <td>0</td>\n",
       "      <td>0</td>\n",
       "      <td>0</td>\n",
       "      <td>0</td>\n",
       "      <td>0</td>\n",
       "    </tr>\n",
       "    <tr>\n",
       "      <th>XMR</th>\n",
       "      <td>1.720114e+07</td>\n",
       "      <td>0</td>\n",
       "      <td>0</td>\n",
       "      <td>0</td>\n",
       "      <td>0</td>\n",
       "      <td>0</td>\n",
       "      <td>0</td>\n",
       "      <td>0</td>\n",
       "      <td>0</td>\n",
       "      <td>0</td>\n",
       "      <td>...</td>\n",
       "      <td>0</td>\n",
       "      <td>0</td>\n",
       "      <td>0</td>\n",
       "      <td>0</td>\n",
       "      <td>0</td>\n",
       "      <td>0</td>\n",
       "      <td>0</td>\n",
       "      <td>0</td>\n",
       "      <td>0</td>\n",
       "      <td>0</td>\n",
       "    </tr>\n",
       "    <tr>\n",
       "      <th>ETC</th>\n",
       "      <td>1.133597e+08</td>\n",
       "      <td>210000000</td>\n",
       "      <td>0</td>\n",
       "      <td>0</td>\n",
       "      <td>0</td>\n",
       "      <td>0</td>\n",
       "      <td>0</td>\n",
       "      <td>0</td>\n",
       "      <td>0</td>\n",
       "      <td>0</td>\n",
       "      <td>...</td>\n",
       "      <td>0</td>\n",
       "      <td>0</td>\n",
       "      <td>0</td>\n",
       "      <td>0</td>\n",
       "      <td>0</td>\n",
       "      <td>0</td>\n",
       "      <td>0</td>\n",
       "      <td>0</td>\n",
       "      <td>0</td>\n",
       "      <td>0</td>\n",
       "    </tr>\n",
       "    <tr>\n",
       "      <th>ZEC</th>\n",
       "      <td>7.383056e+06</td>\n",
       "      <td>21000000</td>\n",
       "      <td>0</td>\n",
       "      <td>0</td>\n",
       "      <td>0</td>\n",
       "      <td>0</td>\n",
       "      <td>0</td>\n",
       "      <td>0</td>\n",
       "      <td>0</td>\n",
       "      <td>0</td>\n",
       "      <td>...</td>\n",
       "      <td>0</td>\n",
       "      <td>0</td>\n",
       "      <td>0</td>\n",
       "      <td>0</td>\n",
       "      <td>0</td>\n",
       "      <td>0</td>\n",
       "      <td>0</td>\n",
       "      <td>0</td>\n",
       "      <td>0</td>\n",
       "      <td>0</td>\n",
       "    </tr>\n",
       "  </tbody>\n",
       "</table>\n",
       "<p>10 rows × 98 columns</p>\n",
       "</div>"
      ],
      "text/plain": [
       "      TotalCoinsMined TotalCoinSupply  Algorithm_1GB AES Pattern Search  \\\n",
       "42       4.199995e+01              42                                 0   \n",
       "404      1.055185e+09       532000000                                 0   \n",
       "1337     2.927942e+10    314159265359                                 0   \n",
       "BTC      1.792718e+07        21000000                                 0   \n",
       "ETH      1.076842e+08               0                                 0   \n",
       "LTC      6.303924e+07        84000000                                 0   \n",
       "DASH     9.031294e+06        22000000                                 0   \n",
       "XMR      1.720114e+07               0                                 0   \n",
       "ETC      1.133597e+08       210000000                                 0   \n",
       "ZEC      7.383056e+06        21000000                                 0   \n",
       "\n",
       "      Algorithm_536  Algorithm_Argon2d  Algorithm_BLAKE256  Algorithm_Blake  \\\n",
       "42                0                  0                   0                0   \n",
       "404               0                  0                   0                0   \n",
       "1337              0                  0                   0                0   \n",
       "BTC               0                  0                   0                0   \n",
       "ETH               0                  0                   0                0   \n",
       "LTC               0                  0                   0                0   \n",
       "DASH              0                  0                   0                0   \n",
       "XMR               0                  0                   0                0   \n",
       "ETC               0                  0                   0                0   \n",
       "ZEC               0                  0                   0                0   \n",
       "\n",
       "      Algorithm_Blake2S  Algorithm_Blake2b  Algorithm_C11  ...  \\\n",
       "42                    0                  0              0  ...   \n",
       "404                   0                  0              0  ...   \n",
       "1337                  0                  0              0  ...   \n",
       "BTC                   0                  0              0  ...   \n",
       "ETH                   0                  0              0  ...   \n",
       "LTC                   0                  0              0  ...   \n",
       "DASH                  0                  0              0  ...   \n",
       "XMR                   0                  0              0  ...   \n",
       "ETC                   0                  0              0  ...   \n",
       "ZEC                   0                  0              0  ...   \n",
       "\n",
       "      ProofType_PoW/PoS  ProofType_PoW/PoS   ProofType_PoW/PoW  \\\n",
       "42                    1                   0                  0   \n",
       "404                   1                   0                  0   \n",
       "1337                  1                   0                  0   \n",
       "BTC                   0                   0                  0   \n",
       "ETH                   0                   0                  0   \n",
       "LTC                   0                   0                  0   \n",
       "DASH                  1                   0                  0   \n",
       "XMR                   0                   0                  0   \n",
       "ETC                   0                   0                  0   \n",
       "ZEC                   0                   0                  0   \n",
       "\n",
       "      ProofType_PoW/nPoS  ProofType_Pos  ProofType_Proof of Authority  \\\n",
       "42                     0              0                             0   \n",
       "404                    0              0                             0   \n",
       "1337                   0              0                             0   \n",
       "BTC                    0              0                             0   \n",
       "ETH                    0              0                             0   \n",
       "LTC                    0              0                             0   \n",
       "DASH                   0              0                             0   \n",
       "XMR                    0              0                             0   \n",
       "ETC                    0              0                             0   \n",
       "ZEC                    0              0                             0   \n",
       "\n",
       "      ProofType_Proof of Trust  ProofType_TPoS  \\\n",
       "42                           0               0   \n",
       "404                          0               0   \n",
       "1337                         0               0   \n",
       "BTC                          0               0   \n",
       "ETH                          0               0   \n",
       "LTC                          0               0   \n",
       "DASH                         0               0   \n",
       "XMR                          0               0   \n",
       "ETC                          0               0   \n",
       "ZEC                          0               0   \n",
       "\n",
       "      ProofType_Zero-Knowledge Proof  ProofType_dPoW/PoW  \n",
       "42                                 0                   0  \n",
       "404                                0                   0  \n",
       "1337                               0                   0  \n",
       "BTC                                0                   0  \n",
       "ETH                                0                   0  \n",
       "LTC                                0                   0  \n",
       "DASH                               0                   0  \n",
       "XMR                                0                   0  \n",
       "ETC                                0                   0  \n",
       "ZEC                                0                   0  \n",
       "\n",
       "[10 rows x 98 columns]"
      ]
     },
     "execution_count": 133,
     "metadata": {},
     "output_type": "execute_result"
    }
   ],
   "source": [
    "# Use get_dummies() to create variables for text features.\n",
    "X = pd.get_dummies(crypto_mined,columns=['Algorithm','ProofType'])\n",
    "X.head(10)"
   ]
  },
  {
   "cell_type": "code",
   "execution_count": 134,
   "metadata": {},
   "outputs": [
    {
     "data": {
      "text/plain": [
       "array([[-0.11710817, -0.1528703 , -0.0433963 , ..., -0.0433963 ,\n",
       "        -0.0433963 , -0.0433963 ],\n",
       "       [-0.09396955, -0.145009  , -0.0433963 , ..., -0.0433963 ,\n",
       "        -0.0433963 , -0.0433963 ],\n",
       "       [ 0.52494561,  4.48942416, -0.0433963 , ..., -0.0433963 ,\n",
       "        -0.0433963 , -0.0433963 ],\n",
       "       ...,\n",
       "       [-0.09561336, -0.13217937, -0.0433963 , ..., -0.0433963 ,\n",
       "        -0.0433963 , -0.0433963 ],\n",
       "       [-0.11694817, -0.15255998, -0.0433963 , ..., -0.0433963 ,\n",
       "        -0.0433963 , -0.0433963 ],\n",
       "       [-0.11710536, -0.15285552, -0.0433963 , ..., -0.0433963 ,\n",
       "        -0.0433963 , -0.0433963 ]])"
      ]
     },
     "execution_count": 134,
     "metadata": {},
     "output_type": "execute_result"
    }
   ],
   "source": [
    "# Standardize the data with StandardScaler().\n",
    "Standardized_data = StandardScaler().fit_transform(X)\n",
    "Standardized_data"
   ]
  },
  {
   "cell_type": "markdown",
   "metadata": {},
   "source": [
    "### Deliverable 2: Reducing Data Dimensions Using PCA"
   ]
  },
  {
   "cell_type": "code",
   "execution_count": 135,
   "metadata": {},
   "outputs": [
    {
     "data": {
      "text/plain": [
       "array([[-0.3406158 ,  0.99764011, -0.62858637],\n",
       "       [-0.323968  ,  0.99771415, -0.62891459],\n",
       "       [ 2.31509779,  1.70217743, -0.64845555],\n",
       "       ...,\n",
       "       [ 0.329675  , -2.27676032,  0.41791888],\n",
       "       [-0.12102785, -2.01362612,  0.39737722],\n",
       "       [-0.3046487 ,  0.75201738, -0.29034413]])"
      ]
     },
     "execution_count": 135,
     "metadata": {},
     "output_type": "execute_result"
    }
   ],
   "source": [
    "# Using PCA to reduce dimension to three principal components.\n",
    "pca = PCA(n_components=3)\n",
    "crypto_pca = pca.fit_transform(Standardized_data)\n",
    "crypto_pca"
   ]
  },
  {
   "cell_type": "code",
   "execution_count": 136,
   "metadata": {},
   "outputs": [
    {
     "data": {
      "text/html": [
       "<div>\n",
       "<style scoped>\n",
       "    .dataframe tbody tr th:only-of-type {\n",
       "        vertical-align: middle;\n",
       "    }\n",
       "\n",
       "    .dataframe tbody tr th {\n",
       "        vertical-align: top;\n",
       "    }\n",
       "\n",
       "    .dataframe thead th {\n",
       "        text-align: right;\n",
       "    }\n",
       "</style>\n",
       "<table border=\"1\" class=\"dataframe\">\n",
       "  <thead>\n",
       "    <tr style=\"text-align: right;\">\n",
       "      <th></th>\n",
       "      <th>PC 1</th>\n",
       "      <th>PC 2</th>\n",
       "      <th>PC 3</th>\n",
       "    </tr>\n",
       "  </thead>\n",
       "  <tbody>\n",
       "    <tr>\n",
       "      <th>42</th>\n",
       "      <td>-0.340616</td>\n",
       "      <td>0.997640</td>\n",
       "      <td>-0.628586</td>\n",
       "    </tr>\n",
       "    <tr>\n",
       "      <th>404</th>\n",
       "      <td>-0.323968</td>\n",
       "      <td>0.997714</td>\n",
       "      <td>-0.628915</td>\n",
       "    </tr>\n",
       "    <tr>\n",
       "      <th>1337</th>\n",
       "      <td>2.315098</td>\n",
       "      <td>1.702177</td>\n",
       "      <td>-0.648456</td>\n",
       "    </tr>\n",
       "    <tr>\n",
       "      <th>BTC</th>\n",
       "      <td>-0.141127</td>\n",
       "      <td>-1.276317</td>\n",
       "      <td>0.197927</td>\n",
       "    </tr>\n",
       "    <tr>\n",
       "      <th>ETH</th>\n",
       "      <td>-0.163278</td>\n",
       "      <td>-2.060682</td>\n",
       "      <td>0.386909</td>\n",
       "    </tr>\n",
       "    <tr>\n",
       "      <th>LTC</th>\n",
       "      <td>-0.173047</td>\n",
       "      <td>-1.169868</td>\n",
       "      <td>-0.067164</td>\n",
       "    </tr>\n",
       "    <tr>\n",
       "      <th>DASH</th>\n",
       "      <td>-0.391255</td>\n",
       "      <td>1.273431</td>\n",
       "      <td>-0.447453</td>\n",
       "    </tr>\n",
       "    <tr>\n",
       "      <th>XMR</th>\n",
       "      <td>-0.139153</td>\n",
       "      <td>-2.194647</td>\n",
       "      <td>0.375381</td>\n",
       "    </tr>\n",
       "    <tr>\n",
       "      <th>ETC</th>\n",
       "      <td>-0.161721</td>\n",
       "      <td>-2.060784</td>\n",
       "      <td>0.386896</td>\n",
       "    </tr>\n",
       "    <tr>\n",
       "      <th>ZEC</th>\n",
       "      <td>-0.121027</td>\n",
       "      <td>-2.013626</td>\n",
       "      <td>0.397377</td>\n",
       "    </tr>\n",
       "  </tbody>\n",
       "</table>\n",
       "</div>"
      ],
      "text/plain": [
       "          PC 1      PC 2      PC 3\n",
       "42   -0.340616  0.997640 -0.628586\n",
       "404  -0.323968  0.997714 -0.628915\n",
       "1337  2.315098  1.702177 -0.648456\n",
       "BTC  -0.141127 -1.276317  0.197927\n",
       "ETH  -0.163278 -2.060682  0.386909\n",
       "LTC  -0.173047 -1.169868 -0.067164\n",
       "DASH -0.391255  1.273431 -0.447453\n",
       "XMR  -0.139153 -2.194647  0.375381\n",
       "ETC  -0.161721 -2.060784  0.386896\n",
       "ZEC  -0.121027 -2.013626  0.397377"
      ]
     },
     "execution_count": 136,
     "metadata": {},
     "output_type": "execute_result"
    }
   ],
   "source": [
    "# Create a DataFrame with the three principal components.\n",
    "pcs_df = pd.DataFrame(\n",
    "    data=crypto_pca, index=X.index,columns=['PC 1','PC 2','PC 3'])\n",
    "pcs_df.head(10)"
   ]
  },
  {
   "cell_type": "markdown",
   "metadata": {},
   "source": [
    "### Deliverable 3: Clustering Crytocurrencies Using K-Means\n",
    "\n",
    "#### Finding the Best Value for `k` Using the Elbow Curve"
   ]
  },
  {
   "cell_type": "code",
   "execution_count": 137,
   "metadata": {},
   "outputs": [
    {
     "data": {},
     "metadata": {},
     "output_type": "display_data"
    },
    {
     "data": {
      "application/vnd.holoviews_exec.v0+json": "",
      "text/html": [
       "<div id='2232'>\n",
       "  <div class=\"bk-root\" id=\"cfe20dfd-6805-4fed-98d9-4b777186cc1f\" data-root-id=\"2232\"></div>\n",
       "</div>\n",
       "<script type=\"application/javascript\">(function(root) {\n",
       "  function embed_document(root) {\n",
       "    var docs_json = {\"b005d191-fa1b-4b7c-a667-eabd4e401ffe\":{\"defs\":[{\"extends\":null,\"module\":null,\"name\":\"ReactiveHTML1\",\"overrides\":[],\"properties\":[]},{\"extends\":null,\"module\":null,\"name\":\"FlexBox1\",\"overrides\":[],\"properties\":[{\"default\":\"flex-start\",\"kind\":null,\"name\":\"align_content\"},{\"default\":\"flex-start\",\"kind\":null,\"name\":\"align_items\"},{\"default\":\"row\",\"kind\":null,\"name\":\"flex_direction\"},{\"default\":\"wrap\",\"kind\":null,\"name\":\"flex_wrap\"},{\"default\":\"flex-start\",\"kind\":null,\"name\":\"justify_content\"}]},{\"extends\":null,\"module\":null,\"name\":\"GridStack1\",\"overrides\":[],\"properties\":[{\"default\":\"warn\",\"kind\":null,\"name\":\"mode\"},{\"default\":null,\"kind\":null,\"name\":\"ncols\"},{\"default\":null,\"kind\":null,\"name\":\"nrows\"},{\"default\":true,\"kind\":null,\"name\":\"allow_resize\"},{\"default\":true,\"kind\":null,\"name\":\"allow_drag\"},{\"default\":[],\"kind\":null,\"name\":\"state\"}]},{\"extends\":null,\"module\":null,\"name\":\"click1\",\"overrides\":[],\"properties\":[{\"default\":\"\",\"kind\":null,\"name\":\"terminal_output\"},{\"default\":\"\",\"kind\":null,\"name\":\"debug_name\"},{\"default\":0,\"kind\":null,\"name\":\"clears\"}]},{\"extends\":null,\"module\":null,\"name\":\"NotificationAreaBase1\",\"overrides\":[],\"properties\":[{\"default\":\"bottom-right\",\"kind\":null,\"name\":\"position\"},{\"default\":0,\"kind\":null,\"name\":\"_clear\"}]},{\"extends\":null,\"module\":null,\"name\":\"NotificationArea1\",\"overrides\":[],\"properties\":[{\"default\":[],\"kind\":null,\"name\":\"notifications\"},{\"default\":\"bottom-right\",\"kind\":null,\"name\":\"position\"},{\"default\":0,\"kind\":null,\"name\":\"_clear\"},{\"default\":[{\"background\":\"#ffc107\",\"icon\":{\"className\":\"fas fa-exclamation-triangle\",\"color\":\"white\",\"tagName\":\"i\"},\"type\":\"warning\"},{\"background\":\"#007bff\",\"icon\":{\"className\":\"fas fa-info-circle\",\"color\":\"white\",\"tagName\":\"i\"},\"type\":\"info\"}],\"kind\":null,\"name\":\"types\"}]},{\"extends\":null,\"module\":null,\"name\":\"Notification\",\"overrides\":[],\"properties\":[{\"default\":null,\"kind\":null,\"name\":\"background\"},{\"default\":3000,\"kind\":null,\"name\":\"duration\"},{\"default\":null,\"kind\":null,\"name\":\"icon\"},{\"default\":\"\",\"kind\":null,\"name\":\"message\"},{\"default\":null,\"kind\":null,\"name\":\"notification_type\"},{\"default\":false,\"kind\":null,\"name\":\"_destroyed\"}]},{\"extends\":null,\"module\":null,\"name\":\"TemplateActions1\",\"overrides\":[],\"properties\":[{\"default\":0,\"kind\":null,\"name\":\"open_modal\"},{\"default\":0,\"kind\":null,\"name\":\"close_modal\"}]},{\"extends\":null,\"module\":null,\"name\":\"MaterialTemplateActions1\",\"overrides\":[],\"properties\":[{\"default\":0,\"kind\":null,\"name\":\"open_modal\"},{\"default\":0,\"kind\":null,\"name\":\"close_modal\"}]}],\"roots\":{\"references\":[{\"attributes\":{\"bottom_units\":\"screen\",\"coordinates\":null,\"fill_alpha\":0.5,\"fill_color\":\"lightgrey\",\"group\":null,\"left_units\":\"screen\",\"level\":\"overlay\",\"line_alpha\":1.0,\"line_color\":\"black\",\"line_dash\":[4,4],\"line_width\":2,\"right_units\":\"screen\",\"syncable\":false,\"top_units\":\"screen\"},\"id\":\"2259\",\"type\":\"BoxAnnotation\"},{\"attributes\":{\"margin\":[5,5,5,5],\"name\":\"HSpacer02155\",\"sizing_mode\":\"stretch_width\"},\"id\":\"2294\",\"type\":\"Spacer\"},{\"attributes\":{\"line_color\":\"#30a2da\",\"line_width\":2,\"x\":{\"field\":\"k\"},\"y\":{\"field\":\"inertia\"}},\"id\":\"2275\",\"type\":\"Line\"},{\"attributes\":{\"axis\":{\"id\":\"2250\"},\"coordinates\":null,\"dimension\":1,\"grid_line_color\":null,\"group\":null,\"ticker\":null},\"id\":\"2253\",\"type\":\"Grid\"},{\"attributes\":{},\"id\":\"2268\",\"type\":\"Selection\"},{\"attributes\":{},\"id\":\"2283\",\"type\":\"BasicTickFormatter\"},{\"attributes\":{\"end\":10.0,\"reset_end\":10.0,\"reset_start\":1.0,\"start\":1.0,\"tags\":[[[\"k\",\"k\",null]]]},\"id\":\"2234\",\"type\":\"Range1d\"},{\"attributes\":{\"axis\":{\"id\":\"2246\"},\"coordinates\":null,\"grid_line_color\":null,\"group\":null,\"ticker\":null},\"id\":\"2249\",\"type\":\"Grid\"},{\"attributes\":{\"line_alpha\":0.1,\"line_color\":\"#30a2da\",\"line_width\":2,\"x\":{\"field\":\"k\"},\"y\":{\"field\":\"inertia\"}},\"id\":\"2271\",\"type\":\"Line\"},{\"attributes\":{\"data\":{\"inertia\":{\"__ndarray__\":\"LO4HsDByrECuFArweFqjQBI+ktzcPpdAjgakEzd3gECw+Kkqj9x0QOgESj/MF3FA6ETPl66ja0AHHMNfRqtmQJdJscKG1WFAsuplkmhxXEA=\",\"dtype\":\"float64\",\"order\":\"little\",\"shape\":[10]},\"k\":[1,2,3,4,5,6,7,8,9,10]},\"selected\":{\"id\":\"2268\"},\"selection_policy\":{\"id\":\"2291\"}},\"id\":\"2267\",\"type\":\"ColumnDataSource\"},{\"attributes\":{},\"id\":\"2251\",\"type\":\"BasicTicker\"},{\"attributes\":{\"axis_label\":\"inertia\",\"coordinates\":null,\"formatter\":{\"id\":\"2283\"},\"group\":null,\"major_label_policy\":{\"id\":\"2284\"},\"ticker\":{\"id\":\"2251\"}},\"id\":\"2250\",\"type\":\"LinearAxis\"},{\"attributes\":{\"end\":3993.827401554731,\"reset_end\":3993.827401554731,\"reset_start\":-238.9603009846701,\"start\":-238.9603009846701,\"tags\":[[[\"inertia\",\"inertia\",null]]]},\"id\":\"2235\",\"type\":\"Range1d\"},{\"attributes\":{\"line_alpha\":0.2,\"line_color\":\"#30a2da\",\"line_width\":2,\"x\":{\"field\":\"k\"},\"y\":{\"field\":\"inertia\"}},\"id\":\"2272\",\"type\":\"Line\"},{\"attributes\":{\"coordinates\":null,\"data_source\":{\"id\":\"2267\"},\"glyph\":{\"id\":\"2270\"},\"group\":null,\"hover_glyph\":null,\"muted_glyph\":{\"id\":\"2272\"},\"nonselection_glyph\":{\"id\":\"2271\"},\"selection_glyph\":{\"id\":\"2275\"},\"view\":{\"id\":\"2274\"}},\"id\":\"2273\",\"type\":\"GlyphRenderer\"},{\"attributes\":{\"children\":[{\"id\":\"2233\"},{\"id\":\"2237\"},{\"id\":\"2294\"}],\"margin\":[0,0,0,0],\"name\":\"Row02150\",\"tags\":[\"embedded\"]},\"id\":\"2232\",\"type\":\"Row\"},{\"attributes\":{\"source\":{\"id\":\"2267\"}},\"id\":\"2274\",\"type\":\"CDSView\"},{\"attributes\":{\"callback\":null,\"renderers\":[{\"id\":\"2273\"}],\"tags\":[\"hv_created\"],\"tooltips\":[[\"k\",\"@{k}\"],[\"inertia\",\"@{inertia}\"]]},\"id\":\"2236\",\"type\":\"HoverTool\"},{\"attributes\":{},\"id\":\"2278\",\"type\":\"BasicTickFormatter\"},{\"attributes\":{},\"id\":\"2279\",\"type\":\"AllLabels\"},{\"attributes\":{\"margin\":[5,5,5,5],\"name\":\"HSpacer02154\",\"sizing_mode\":\"stretch_width\"},\"id\":\"2233\",\"type\":\"Spacer\"},{\"attributes\":{},\"id\":\"2254\",\"type\":\"SaveTool\"},{\"attributes\":{\"below\":[{\"id\":\"2246\"}],\"center\":[{\"id\":\"2249\"},{\"id\":\"2253\"}],\"height\":300,\"left\":[{\"id\":\"2250\"}],\"margin\":[5,5,5,5],\"min_border_bottom\":10,\"min_border_left\":10,\"min_border_right\":10,\"min_border_top\":10,\"renderers\":[{\"id\":\"2273\"}],\"sizing_mode\":\"fixed\",\"title\":{\"id\":\"2238\"},\"toolbar\":{\"id\":\"2260\"},\"width\":700,\"x_range\":{\"id\":\"2234\"},\"x_scale\":{\"id\":\"2242\"},\"y_range\":{\"id\":\"2235\"},\"y_scale\":{\"id\":\"2244\"}},\"id\":\"2237\",\"subtype\":\"Figure\",\"type\":\"Plot\"},{\"attributes\":{},\"id\":\"2255\",\"type\":\"PanTool\"},{\"attributes\":{\"ticks\":[1,2,3,4,5,6,7,8,9,10]},\"id\":\"2276\",\"type\":\"FixedTicker\"},{\"attributes\":{\"line_color\":\"#30a2da\",\"line_width\":2,\"x\":{\"field\":\"k\"},\"y\":{\"field\":\"inertia\"}},\"id\":\"2270\",\"type\":\"Line\"},{\"attributes\":{},\"id\":\"2256\",\"type\":\"WheelZoomTool\"},{\"attributes\":{\"tools\":[{\"id\":\"2236\"},{\"id\":\"2254\"},{\"id\":\"2255\"},{\"id\":\"2256\"},{\"id\":\"2257\"},{\"id\":\"2258\"}]},\"id\":\"2260\",\"type\":\"Toolbar\"},{\"attributes\":{},\"id\":\"2291\",\"type\":\"UnionRenderers\"},{\"attributes\":{\"axis_label\":\"k\",\"coordinates\":null,\"formatter\":{\"id\":\"2278\"},\"group\":null,\"major_label_policy\":{\"id\":\"2279\"},\"ticker\":{\"id\":\"2276\"}},\"id\":\"2246\",\"type\":\"LinearAxis\"},{\"attributes\":{\"overlay\":{\"id\":\"2259\"}},\"id\":\"2257\",\"type\":\"BoxZoomTool\"},{\"attributes\":{},\"id\":\"2284\",\"type\":\"AllLabels\"},{\"attributes\":{},\"id\":\"2242\",\"type\":\"LinearScale\"},{\"attributes\":{\"coordinates\":null,\"group\":null,\"text\":\"Elbow Curve\",\"text_color\":\"black\",\"text_font_size\":\"12pt\"},\"id\":\"2238\",\"type\":\"Title\"},{\"attributes\":{},\"id\":\"2244\",\"type\":\"LinearScale\"},{\"attributes\":{},\"id\":\"2258\",\"type\":\"ResetTool\"}],\"root_ids\":[\"2232\"]},\"title\":\"Bokeh Application\",\"version\":\"2.4.3\"}};\n",
       "    var render_items = [{\"docid\":\"b005d191-fa1b-4b7c-a667-eabd4e401ffe\",\"root_ids\":[\"2232\"],\"roots\":{\"2232\":\"cfe20dfd-6805-4fed-98d9-4b777186cc1f\"}}];\n",
       "    root.Bokeh.embed.embed_items_notebook(docs_json, render_items);\n",
       "  }\n",
       "  if (root.Bokeh !== undefined && root.Bokeh.Panel !== undefined) {\n",
       "    embed_document(root);\n",
       "  } else {\n",
       "    var attempts = 0;\n",
       "    var timer = setInterval(function(root) {\n",
       "      if (root.Bokeh !== undefined && root.Bokeh.Panel !== undefined) {\n",
       "        clearInterval(timer);\n",
       "        embed_document(root);\n",
       "      } else if (document.readyState == \"complete\") {\n",
       "        attempts++;\n",
       "        if (attempts > 200) {\n",
       "          clearInterval(timer);\n",
       "          console.log(\"Bokeh: ERROR: Unable to run BokehJS code because BokehJS library is missing\");\n",
       "        }\n",
       "      }\n",
       "    }, 25, root)\n",
       "  }\n",
       "})(window);</script>"
      ],
      "text/plain": [
       ":Curve   [k]   (inertia)"
      ]
     },
     "execution_count": 137,
     "metadata": {
      "application/vnd.holoviews_exec.v0+json": {
       "id": "2232"
      }
     },
     "output_type": "execute_result"
    }
   ],
   "source": [
    "# Create an elbow curve to find the best value for K.\n",
    "# Find the best value for K\n",
    "inertia = []\n",
    "k = list(range(1, 11))\n",
    "\n",
    "# Calculate the inertia for the range of K values\n",
    "for i in k:\n",
    "    km = KMeans(n_clusters=i, random_state=0)\n",
    "    km.fit(pcs_df)\n",
    "    inertia.append(km.inertia_)\n",
    "\n",
    "# Create the elbow curve\n",
    "elbow_data = {\"k\": k, \"inertia\": inertia}\n",
    "df_elbow = pd.DataFrame(elbow_data)\n",
    "df_elbow.hvplot.line(x=\"k\", y=\"inertia\", xticks=k, title=\"Elbow Curve\")\n"
   ]
  },
  {
   "cell_type": "markdown",
   "metadata": {},
   "source": [
    "Running K-Means with `k=4`"
   ]
  },
  {
   "cell_type": "code",
   "execution_count": 138,
   "metadata": {},
   "outputs": [
    {
     "data": {
      "text/plain": [
       "array([0, 0, 0, 3, 3, 3, 0, 3, 3, 3, 0, 3, 0, 0, 3, 0, 3, 3, 0, 0, 3, 3,\n",
       "       3, 3, 3, 0, 3, 3, 3, 0, 3, 0, 3, 3, 0, 0, 3, 3, 3, 3, 3, 3, 0, 0,\n",
       "       3, 3, 3, 3, 3, 0, 0, 3, 0, 3, 3, 3, 3, 0, 3, 3, 0, 3, 0, 0, 0, 3,\n",
       "       3, 3, 0, 0, 0, 0, 0, 3, 3, 3, 0, 0, 3, 0, 3, 0, 0, 3, 3, 3, 3, 0,\n",
       "       0, 3, 0, 3, 3, 0, 0, 3, 0, 0, 3, 3, 0, 0, 3, 0, 0, 3, 0, 3, 0, 3,\n",
       "       0, 3, 0, 0, 3, 3, 0, 3, 3, 3, 0, 3, 3, 3, 3, 3, 0, 0, 3, 3, 3, 0,\n",
       "       3, 0, 3, 3, 0, 3, 0, 3, 0, 0, 3, 3, 0, 3, 3, 0, 0, 3, 0, 3, 0, 0,\n",
       "       0, 3, 3, 3, 3, 0, 0, 0, 0, 0, 3, 3, 0, 0, 0, 0, 0, 3, 0, 0, 0, 0,\n",
       "       0, 3, 0, 3, 0, 0, 3, 0, 3, 0, 0, 3, 0, 3, 0, 3, 0, 3, 0, 0, 0, 0,\n",
       "       3, 0, 0, 0, 0, 0, 3, 3, 0, 0, 3, 3, 0, 0, 0, 0, 0, 3, 0, 0, 0, 0,\n",
       "       0, 0, 0, 0, 3, 0, 0, 0, 0, 0, 0, 3, 3, 3, 0, 0, 0, 0, 3, 0, 3, 0,\n",
       "       0, 3, 0, 3, 3, 0, 3, 3, 0, 3, 0, 0, 0, 3, 0, 0, 3, 0, 0, 0, 0, 0,\n",
       "       0, 0, 3, 0, 3, 0, 0, 0, 0, 3, 0, 3, 0, 3, 3, 3, 3, 0, 3, 0, 0, 3,\n",
       "       0, 3, 3, 3, 0, 3, 0, 3, 3, 3, 0, 3, 0, 3, 0, 0, 0, 3, 0, 3, 3, 3,\n",
       "       3, 3, 0, 0, 3, 0, 0, 0, 3, 0, 3, 0, 3, 0, 3, 0, 0, 0, 0, 3, 0, 0,\n",
       "       3, 0, 0, 0, 3, 3, 3, 3, 0, 0, 0, 0, 3, 0, 3, 3, 3, 0, 0, 3, 3, 0,\n",
       "       0, 3, 0, 3, 3, 3, 0, 3, 3, 0, 0, 0, 3, 3, 3, 0, 3, 0, 3, 3, 0, 3,\n",
       "       3, 3, 3, 0, 1, 1, 3, 3, 3, 0, 1, 0, 0, 0, 0, 3, 3, 3, 3, 0, 0, 0,\n",
       "       3, 0, 3, 0, 0, 0, 0, 3, 0, 0, 3, 0, 0, 3, 3, 0, 3, 0, 3, 3, 3, 3,\n",
       "       0, 0, 3, 0, 3, 0, 0, 0, 0, 0, 0, 3, 3, 3, 0, 0, 0, 0, 0, 0, 3, 0,\n",
       "       3, 3, 3, 3, 0, 0, 0, 0, 3, 0, 0, 3, 0, 0, 3, 1, 3, 0, 3, 3, 0, 0,\n",
       "       3, 0, 3, 3, 0, 3, 3, 0, 3, 0, 3, 0, 0, 3, 0, 0, 0, 0, 0, 3, 3, 3,\n",
       "       0, 0, 0, 3, 0, 3, 0, 3, 0, 0, 0, 0, 3, 0, 0, 0, 3, 0, 3, 0, 3, 0,\n",
       "       0, 0, 3, 3, 0, 0, 0, 0, 0, 0, 3, 0, 3, 0, 3, 0, 0, 1, 0, 2, 0, 0,\n",
       "       0, 3, 3, 0], dtype=int32)"
      ]
     },
     "execution_count": 138,
     "metadata": {},
     "output_type": "execute_result"
    }
   ],
   "source": [
    "# Initialize the K-Means model.\n",
    "model = KMeans(n_clusters=4, random_state=0)\n",
    "\n",
    "# Fit the model\n",
    "model.fit(pcs_df)\n",
    "\n",
    "# Predict clusters\n",
    "predictions = model.predict(pcs_df)\n",
    "predictions"
   ]
  },
  {
   "cell_type": "code",
   "execution_count": 139,
   "metadata": {},
   "outputs": [
    {
     "name": "stdout",
     "output_type": "stream",
     "text": [
      "(532, 9)\n"
     ]
    },
    {
     "data": {
      "text/html": [
       "<div>\n",
       "<style scoped>\n",
       "    .dataframe tbody tr th:only-of-type {\n",
       "        vertical-align: middle;\n",
       "    }\n",
       "\n",
       "    .dataframe tbody tr th {\n",
       "        vertical-align: top;\n",
       "    }\n",
       "\n",
       "    .dataframe thead th {\n",
       "        text-align: right;\n",
       "    }\n",
       "</style>\n",
       "<table border=\"1\" class=\"dataframe\">\n",
       "  <thead>\n",
       "    <tr style=\"text-align: right;\">\n",
       "      <th></th>\n",
       "      <th>Algorithm</th>\n",
       "      <th>ProofType</th>\n",
       "      <th>TotalCoinsMined</th>\n",
       "      <th>TotalCoinSupply</th>\n",
       "      <th>PC 1</th>\n",
       "      <th>PC 2</th>\n",
       "      <th>PC 3</th>\n",
       "      <th>CoinName</th>\n",
       "      <th>Class</th>\n",
       "    </tr>\n",
       "  </thead>\n",
       "  <tbody>\n",
       "    <tr>\n",
       "      <th>42</th>\n",
       "      <td>Scrypt</td>\n",
       "      <td>PoW/PoS</td>\n",
       "      <td>4.199995e+01</td>\n",
       "      <td>42</td>\n",
       "      <td>-0.340616</td>\n",
       "      <td>0.997640</td>\n",
       "      <td>-0.628586</td>\n",
       "      <td>42 Coin</td>\n",
       "      <td>0</td>\n",
       "    </tr>\n",
       "    <tr>\n",
       "      <th>404</th>\n",
       "      <td>Scrypt</td>\n",
       "      <td>PoW/PoS</td>\n",
       "      <td>1.055185e+09</td>\n",
       "      <td>532000000</td>\n",
       "      <td>-0.323968</td>\n",
       "      <td>0.997714</td>\n",
       "      <td>-0.628915</td>\n",
       "      <td>404Coin</td>\n",
       "      <td>0</td>\n",
       "    </tr>\n",
       "    <tr>\n",
       "      <th>1337</th>\n",
       "      <td>X13</td>\n",
       "      <td>PoW/PoS</td>\n",
       "      <td>2.927942e+10</td>\n",
       "      <td>314159265359</td>\n",
       "      <td>2.315098</td>\n",
       "      <td>1.702177</td>\n",
       "      <td>-0.648456</td>\n",
       "      <td>EliteCoin</td>\n",
       "      <td>0</td>\n",
       "    </tr>\n",
       "    <tr>\n",
       "      <th>BTC</th>\n",
       "      <td>SHA-256</td>\n",
       "      <td>PoW</td>\n",
       "      <td>1.792718e+07</td>\n",
       "      <td>21000000</td>\n",
       "      <td>-0.141127</td>\n",
       "      <td>-1.276317</td>\n",
       "      <td>0.197927</td>\n",
       "      <td>Bitcoin</td>\n",
       "      <td>3</td>\n",
       "    </tr>\n",
       "    <tr>\n",
       "      <th>ETH</th>\n",
       "      <td>Ethash</td>\n",
       "      <td>PoW</td>\n",
       "      <td>1.076842e+08</td>\n",
       "      <td>0</td>\n",
       "      <td>-0.163278</td>\n",
       "      <td>-2.060682</td>\n",
       "      <td>0.386909</td>\n",
       "      <td>Ethereum</td>\n",
       "      <td>3</td>\n",
       "    </tr>\n",
       "    <tr>\n",
       "      <th>LTC</th>\n",
       "      <td>Scrypt</td>\n",
       "      <td>PoW</td>\n",
       "      <td>6.303924e+07</td>\n",
       "      <td>84000000</td>\n",
       "      <td>-0.173047</td>\n",
       "      <td>-1.169868</td>\n",
       "      <td>-0.067164</td>\n",
       "      <td>Litecoin</td>\n",
       "      <td>3</td>\n",
       "    </tr>\n",
       "    <tr>\n",
       "      <th>DASH</th>\n",
       "      <td>X11</td>\n",
       "      <td>PoW/PoS</td>\n",
       "      <td>9.031294e+06</td>\n",
       "      <td>22000000</td>\n",
       "      <td>-0.391255</td>\n",
       "      <td>1.273431</td>\n",
       "      <td>-0.447453</td>\n",
       "      <td>Dash</td>\n",
       "      <td>0</td>\n",
       "    </tr>\n",
       "    <tr>\n",
       "      <th>XMR</th>\n",
       "      <td>CryptoNight-V7</td>\n",
       "      <td>PoW</td>\n",
       "      <td>1.720114e+07</td>\n",
       "      <td>0</td>\n",
       "      <td>-0.139153</td>\n",
       "      <td>-2.194647</td>\n",
       "      <td>0.375381</td>\n",
       "      <td>Monero</td>\n",
       "      <td>3</td>\n",
       "    </tr>\n",
       "    <tr>\n",
       "      <th>ETC</th>\n",
       "      <td>Ethash</td>\n",
       "      <td>PoW</td>\n",
       "      <td>1.133597e+08</td>\n",
       "      <td>210000000</td>\n",
       "      <td>-0.161721</td>\n",
       "      <td>-2.060784</td>\n",
       "      <td>0.386896</td>\n",
       "      <td>Ethereum Classic</td>\n",
       "      <td>3</td>\n",
       "    </tr>\n",
       "    <tr>\n",
       "      <th>ZEC</th>\n",
       "      <td>Equihash</td>\n",
       "      <td>PoW</td>\n",
       "      <td>7.383056e+06</td>\n",
       "      <td>21000000</td>\n",
       "      <td>-0.121027</td>\n",
       "      <td>-2.013626</td>\n",
       "      <td>0.397377</td>\n",
       "      <td>ZCash</td>\n",
       "      <td>3</td>\n",
       "    </tr>\n",
       "  </tbody>\n",
       "</table>\n",
       "</div>"
      ],
      "text/plain": [
       "           Algorithm ProofType  TotalCoinsMined TotalCoinSupply      PC 1  \\\n",
       "42            Scrypt   PoW/PoS     4.199995e+01              42 -0.340616   \n",
       "404           Scrypt   PoW/PoS     1.055185e+09       532000000 -0.323968   \n",
       "1337             X13   PoW/PoS     2.927942e+10    314159265359  2.315098   \n",
       "BTC          SHA-256       PoW     1.792718e+07        21000000 -0.141127   \n",
       "ETH           Ethash       PoW     1.076842e+08               0 -0.163278   \n",
       "LTC           Scrypt       PoW     6.303924e+07        84000000 -0.173047   \n",
       "DASH             X11   PoW/PoS     9.031294e+06        22000000 -0.391255   \n",
       "XMR   CryptoNight-V7       PoW     1.720114e+07               0 -0.139153   \n",
       "ETC           Ethash       PoW     1.133597e+08       210000000 -0.161721   \n",
       "ZEC         Equihash       PoW     7.383056e+06        21000000 -0.121027   \n",
       "\n",
       "          PC 2      PC 3          CoinName  Class  \n",
       "42    0.997640 -0.628586           42 Coin      0  \n",
       "404   0.997714 -0.628915           404Coin      0  \n",
       "1337  1.702177 -0.648456         EliteCoin      0  \n",
       "BTC  -1.276317  0.197927           Bitcoin      3  \n",
       "ETH  -2.060682  0.386909          Ethereum      3  \n",
       "LTC  -1.169868 -0.067164          Litecoin      3  \n",
       "DASH  1.273431 -0.447453              Dash      0  \n",
       "XMR  -2.194647  0.375381            Monero      3  \n",
       "ETC  -2.060784  0.386896  Ethereum Classic      3  \n",
       "ZEC  -2.013626  0.397377             ZCash      3  "
      ]
     },
     "execution_count": 139,
     "metadata": {},
     "output_type": "execute_result"
    }
   ],
   "source": [
    "# Create a new DataFrame including predicted clusters and cryptocurrencies features.\n",
    "# Concatentate the crypto_df and pcs_df DataFrames on the same columns.\n",
    "clustered_df = pd.concat([crypto_mined,pcs_df],axis=1)\n",
    "\n",
    "#  Add a new column, \"CoinName\" to the clustered_df DataFrame that holds the names of the cryptocurrencies. \n",
    "clustered_df['CoinName'] = crypto_names['CoinName']\n",
    "\n",
    "#  Add a new column, \"Class\" to the clustered_df DataFrame that holds the predictions.\n",
    "clustered_df['Class'] = model.labels_\n",
    "\n",
    "# Print the shape of the clustered_df\n",
    "print(clustered_df.shape)\n",
    "clustered_df.head(10)"
   ]
  },
  {
   "cell_type": "markdown",
   "metadata": {},
   "source": [
    "### Deliverable 4: Visualizing Cryptocurrencies Results\n",
    "\n",
    "#### 3D-Scatter with Clusters"
   ]
  },
  {
   "cell_type": "code",
   "execution_count": 140,
   "metadata": {},
   "outputs": [
    {
     "data": {
      "application/vnd.plotly.v1+json": {
       "config": {
        "plotlyServerURL": "https://plot.ly"
       },
       "data": [
        {
         "customdata": [
          [
           "Scrypt"
          ],
          [
           "Scrypt"
          ],
          [
           "X13"
          ],
          [
           "X11"
          ],
          [
           "SHA-512"
          ],
          [
           "SHA-256"
          ],
          [
           "SHA-256"
          ],
          [
           "X15"
          ],
          [
           "Scrypt"
          ],
          [
           "Scrypt"
          ],
          [
           "Scrypt"
          ],
          [
           "Scrypt"
          ],
          [
           "Scrypt"
          ],
          [
           "Scrypt"
          ],
          [
           "Groestl"
          ],
          [
           "PoS"
          ],
          [
           "Scrypt"
          ],
          [
           "Scrypt"
          ],
          [
           "X11"
          ],
          [
           "X11"
          ],
          [
           "SHA3"
          ],
          [
           "Scrypt"
          ],
          [
           "SHA-256"
          ],
          [
           "Scrypt"
          ],
          [
           "X13"
          ],
          [
           "X13"
          ],
          [
           "NeoScrypt"
          ],
          [
           "Scrypt"
          ],
          [
           "Scrypt"
          ],
          [
           "Scrypt"
          ],
          [
           "X11"
          ],
          [
           "X11"
          ],
          [
           "Multiple"
          ],
          [
           "PHI1612"
          ],
          [
           "X11"
          ],
          [
           "Scrypt"
          ],
          [
           "Scrypt"
          ],
          [
           "Scrypt"
          ],
          [
           "X11"
          ],
          [
           "Multiple"
          ],
          [
           "X13"
          ],
          [
           "Scrypt"
          ],
          [
           "Shabal256"
          ],
          [
           "Counterparty"
          ],
          [
           "SHA-256"
          ],
          [
           "Groestl"
          ],
          [
           "Scrypt"
          ],
          [
           "X13"
          ],
          [
           "Scrypt"
          ],
          [
           "Scrypt"
          ],
          [
           "X13"
          ],
          [
           "X11"
          ],
          [
           "Scrypt"
          ],
          [
           "X11"
          ],
          [
           "SHA3"
          ],
          [
           "QUAIT"
          ],
          [
           "X11"
          ],
          [
           "Scrypt"
          ],
          [
           "X13"
          ],
          [
           "SHA-256"
          ],
          [
           "X15"
          ],
          [
           "BLAKE256"
          ],
          [
           "SHA-256"
          ],
          [
           "X11"
          ],
          [
           "SHA-256"
          ],
          [
           "NIST5"
          ],
          [
           "Scrypt"
          ],
          [
           "Scrypt"
          ],
          [
           "X11"
          ],
          [
           "Scrypt"
          ],
          [
           "SHA-256"
          ],
          [
           "Scrypt"
          ],
          [
           "PoS"
          ],
          [
           "X11"
          ],
          [
           "SHA-256"
          ],
          [
           "SHA-256"
          ],
          [
           "NIST5"
          ],
          [
           "X11"
          ],
          [
           "POS 3.0"
          ],
          [
           "Scrypt"
          ],
          [
           "Scrypt"
          ],
          [
           "Scrypt"
          ],
          [
           "X13"
          ],
          [
           "X11"
          ],
          [
           "X11"
          ],
          [
           "Scrypt"
          ],
          [
           "SHA-256"
          ],
          [
           "X11"
          ],
          [
           "Scrypt"
          ],
          [
           "Scrypt"
          ],
          [
           "Scrypt"
          ],
          [
           "Scrypt"
          ],
          [
           "SHA-256D"
          ],
          [
           "PoS"
          ],
          [
           "Scrypt"
          ],
          [
           "X11"
          ],
          [
           "PoS"
          ],
          [
           "X13"
          ],
          [
           "X14"
          ],
          [
           "PoS"
          ],
          [
           "SHA-256D"
          ],
          [
           "DPoS"
          ],
          [
           "X11"
          ],
          [
           "X13"
          ],
          [
           "X11"
          ],
          [
           "PoS"
          ],
          [
           "Scrypt"
          ],
          [
           "Scrypt"
          ],
          [
           "PoS"
          ],
          [
           "X11"
          ],
          [
           "SHA-256"
          ],
          [
           "Scrypt"
          ],
          [
           "X11"
          ],
          [
           "Scrypt"
          ],
          [
           "Scrypt"
          ],
          [
           "X11"
          ],
          [
           "Scrypt"
          ],
          [
           "Scrypt"
          ],
          [
           "Scrypt"
          ],
          [
           "Scrypt"
          ],
          [
           "Quark"
          ],
          [
           "QuBit"
          ],
          [
           "Scrypt"
          ],
          [
           "SHA-256"
          ],
          [
           "X11"
          ],
          [
           "Scrypt"
          ],
          [
           "Scrypt"
          ],
          [
           "Scrypt"
          ],
          [
           "Scrypt"
          ],
          [
           "X13"
          ],
          [
           "Scrypt"
          ],
          [
           "Scrypt"
          ],
          [
           "X11"
          ],
          [
           "Blake2S"
          ],
          [
           "X11"
          ],
          [
           "PoS"
          ],
          [
           "X11"
          ],
          [
           "PoS"
          ],
          [
           "X11"
          ],
          [
           "Scrypt"
          ],
          [
           "Scrypt"
          ],
          [
           "Scrypt"
          ],
          [
           "SHA-256"
          ],
          [
           "X11"
          ],
          [
           "Scrypt"
          ],
          [
           "PoS"
          ],
          [
           "Scrypt"
          ],
          [
           "X15"
          ],
          [
           "SHA-256"
          ],
          [
           "POS 3.0"
          ],
          [
           "536"
          ],
          [
           "NIST5"
          ],
          [
           "NIST5"
          ],
          [
           "Skein"
          ],
          [
           "X13"
          ],
          [
           "Scrypt"
          ],
          [
           "X13"
          ],
          [
           "SkunkHash v2 Raptor"
          ],
          [
           "Skein"
          ],
          [
           "X11"
          ],
          [
           "Scrypt"
          ],
          [
           "VeChainThor Authority"
          ],
          [
           "PoS"
          ],
          [
           "Scrypt"
          ],
          [
           "Scrypt"
          ],
          [
           "SHA-512"
          ],
          [
           "Ouroboros"
          ],
          [
           "X11"
          ],
          [
           "NeoScrypt"
          ],
          [
           "Scrypt"
          ],
          [
           "Lyra2REv2"
          ],
          [
           "Scrypt"
          ],
          [
           "SHA-256"
          ],
          [
           "NIST5"
          ],
          [
           "PHI1612"
          ],
          [
           "Scrypt"
          ],
          [
           "Quark"
          ],
          [
           "POS 2.0"
          ],
          [
           "Scrypt"
          ],
          [
           "SHA-256"
          ],
          [
           "X11"
          ],
          [
           "DPoS"
          ],
          [
           "NIST5"
          ],
          [
           "X13"
          ],
          [
           "Scrypt"
          ],
          [
           "NIST5"
          ],
          [
           "Quark"
          ],
          [
           "Scrypt"
          ],
          [
           "Scrypt"
          ],
          [
           "X11"
          ],
          [
           "Quark"
          ],
          [
           "Scrypt"
          ],
          [
           "Scrypt"
          ],
          [
           "X11"
          ],
          [
           "POS 3.0"
          ],
          [
           "Scrypt"
          ],
          [
           "Scrypt"
          ],
          [
           "X13"
          ],
          [
           "C11"
          ],
          [
           "X11"
          ],
          [
           "XEVAN"
          ],
          [
           "Scrypt"
          ],
          [
           "VBFT"
          ],
          [
           "NIST5"
          ],
          [
           "Scrypt"
          ],
          [
           "Scrypt"
          ],
          [
           "Scrypt"
          ],
          [
           "Green Protocol"
          ],
          [
           "PoS"
          ],
          [
           "Scrypt"
          ],
          [
           "Semux BFT consensus"
          ],
          [
           "Quark"
          ],
          [
           "PoS"
          ],
          [
           "X16R"
          ],
          [
           "Scrypt"
          ],
          [
           "XEVAN"
          ],
          [
           "Scrypt"
          ],
          [
           "Scrypt"
          ],
          [
           "Scrypt"
          ],
          [
           "SHA-256D"
          ],
          [
           "Scrypt"
          ],
          [
           "X15"
          ],
          [
           "Scrypt"
          ],
          [
           "Quark"
          ],
          [
           "SHA-256"
          ],
          [
           "DPoS"
          ],
          [
           "X16R"
          ],
          [
           "Quark"
          ],
          [
           "Quark"
          ],
          [
           "Scrypt"
          ],
          [
           "Lyra2REv2"
          ],
          [
           "Quark"
          ],
          [
           "Scrypt"
          ],
          [
           "X11"
          ],
          [
           "X11"
          ],
          [
           "Scrypt"
          ],
          [
           "PoS"
          ],
          [
           "Keccak"
          ],
          [
           "X11"
          ],
          [
           "Scrypt"
          ],
          [
           "SHA-512"
          ],
          [
           "XEVAN"
          ],
          [
           "XEVAN"
          ],
          [
           "X11"
          ],
          [
           "Quark"
          ],
          [
           "Equihash"
          ],
          [
           "Scrypt"
          ],
          [
           "Quark"
          ],
          [
           "Quark"
          ],
          [
           "Scrypt"
          ],
          [
           "X11"
          ],
          [
           "Scrypt"
          ],
          [
           "XEVAN"
          ],
          [
           "SHA-256D"
          ],
          [
           "X11"
          ],
          [
           "X11"
          ],
          [
           "DPoS"
          ],
          [
           "Scrypt"
          ],
          [
           "X11"
          ],
          [
           "Scrypt"
          ],
          [
           "Scrypt"
          ],
          [
           "SHA-256"
          ],
          [
           "Scrypt"
          ],
          [
           "X11"
          ],
          [
           "Scrypt"
          ],
          [
           "SHA-256"
          ],
          [
           "X11"
          ],
          [
           "Scrypt"
          ],
          [
           "Scrypt"
          ],
          [
           "X11"
          ],
          [
           "Scrypt"
          ],
          [
           "PoS"
          ],
          [
           "X11"
          ],
          [
           "SHA-256"
          ],
          [
           "DPoS"
          ],
          [
           "Scrypt"
          ],
          [
           "Scrypt"
          ],
          [
           "NeoScrypt"
          ],
          [
           "X13"
          ],
          [
           "DPoS"
          ],
          [
           "DPoS"
          ],
          [
           "SHA-256"
          ],
          [
           "PoS"
          ],
          [
           "PoS"
          ],
          [
           "SHA-256"
          ],
          [
           "Scrypt"
          ],
          [
           "Scrypt"
          ]
         ],
         "hovertemplate": "<b>%{hovertext}</b><br><br>Class=%{marker.color}<br>PC 1=%{x}<br>PC 2=%{y}<br>PC 3=%{z}<br>Algorithm=%{customdata[0]}<extra></extra>",
         "hovertext": [
          "42 Coin",
          "404Coin",
          "EliteCoin",
          "Dash",
          "Bitshares",
          "BitcoinDark",
          "PayCoin",
          "KoboCoin",
          "Aurora Coin",
          "BlueCoin",
          "EnergyCoin",
          "BitBar",
          "CryptoBullion",
          "CasinoCoin",
          "Diamond",
          "Exclusive Coin",
          "FlutterCoin",
          "HoboNickels",
          "HyperStake",
          "IOCoin",
          "MaxCoin",
          "MintCoin",
          "MazaCoin",
          "Nautilus Coin",
          "NavCoin",
          "OpalCoin",
          "Orbitcoin",
          "PotCoin",
          "PhoenixCoin",
          "Reddcoin",
          "SuperCoin",
          "SyncCoin",
          "TeslaCoin",
          "TittieCoin",
          "TorCoin",
          "UnitaryStatus Dollar",
          "UltraCoin",
          "VeriCoin",
          "X11 Coin",
          "Crypti",
          "StealthCoin",
          "ZCC Coin",
          "BurstCoin",
          "StorjCoin",
          "Neutron",
          "FairCoin",
          "RubyCoin",
          "Kore",
          "Dnotes",
          "8BIT Coin",
          "Sativa Coin",
          "Ucoin",
          "Vtorrent",
          "IslaCoin",
          "Nexus",
          "Droidz",
          "Squall Coin",
          "Diggits",
          "Paycon",
          "Emercoin",
          "EverGreenCoin",
          "Decred",
          "EDRCoin",
          "Hitcoin",
          "DubaiCoin",
          "PWR Coin",
          "BillaryCoin",
          "GPU Coin",
          "EuropeCoin",
          "ZeitCoin",
          "SwingCoin",
          "SafeExchangeCoin",
          "Nebuchadnezzar",
          "Ratecoin",
          "Revenu",
          "Clockcoin",
          "VIP Tokens",
          "BitSend",
          "Let it Ride",
          "PutinCoin",
          "iBankCoin",
          "Frankywillcoin",
          "MudraCoin",
          "Lutetium Coin",
          "GoldBlocks",
          "CarterCoin",
          "BitTokens",
          "MustangCoin",
          "ZoneCoin",
          "RootCoin",
          "BitCurrency",
          "Swiscoin",
          "BuzzCoin",
          "Opair",
          "PesoBit",
          "Halloween Coin",
          "CoffeeCoin",
          "RoyalCoin",
          "GanjaCoin V2",
          "TeamUP",
          "LanaCoin",
          "ARK",
          "InsaneCoin",
          "EmberCoin",
          "XenixCoin",
          "FreeCoin",
          "PLNCoin",
          "AquariusCoin",
          "Creatio",
          "Eternity",
          "Eurocoin",
          "BitcoinFast",
          "Stakenet",
          "BitConnect Coin",
          "MoneyCoin",
          "Enigma",
          "Russiacoin",
          "PandaCoin",
          "GameUnits",
          "GAKHcoin",
          "Allsafe",
          "LiteCreed",
          "Klingon Empire Darsek",
          "Internet of People",
          "KushCoin",
          "Printerium",
          "Impeach",
          "Zilbercoin",
          "FirstCoin",
          "FindCoin",
          "OpenChat",
          "RenosCoin",
          "VirtacoinPlus",
          "TajCoin",
          "Impact",
          "Atmos",
          "HappyCoin",
          "MacronCoin",
          "Condensate",
          "Independent Money System",
          "ArgusCoin",
          "LomoCoin",
          "ProCurrency",
          "GoldReserve",
          "GrowthCoin",
          "Phreak",
          "Degas Coin",
          "HTML5 Coin",
          "Ultimate Secure Cash",
          "QTUM",
          "Espers",
          "Denarius",
          "Virta Unique Coin",
          "Bitcoin Planet",
          "BritCoin",
          "Linda",
          "DeepOnion",
          "Signatum",
          "Cream",
          "Monoeci",
          "Draftcoin",
          "Vechain",
          "Stakecoin",
          "CoinonatX",
          "Ethereum Dark",
          "Obsidian",
          "Cardano",
          "Regalcoin",
          "TrezarCoin",
          "TerraNovaCoin",
          "Rupee",
          "WomenCoin",
          "Theresa May Coin",
          "NamoCoin",
          "LUXCoin",
          "Xios",
          "Bitcloud 2.0",
          "KekCoin",
          "BlackholeCoin",
          "Infinity Economics",
          "Magnet",
          "Lamden Tau",
          "Electra",
          "Bitcoin Diamond",
          "Cash & Back Coin",
          "Bulwark",
          "Kalkulus",
          "GermanCoin",
          "LiteCoin Ultra",
          "PhantomX",
          "Digiwage",
          "Trollcoin",
          "Litecoin Plus",
          "Monkey Project",
          "TokenPay",
          "My Big Coin",
          "Unified Society USDEX",
          "Tokyo Coin",
          "Stipend",
          "Pushi",
          "Ellerium",
          "Velox",
          "Ontology",
          "Bitspace",
          "Briacoin",
          "Ignition",
          "MedicCoin",
          "Bitcoin Green",
          "Deviant Coin",
          "Abjcoin",
          "Semux",
          "Carebit",
          "Zealium",
          "Proton",
          "iDealCash",
          "Bitcoin Incognito",
          "HollyWoodCoin",
          "Swisscoin",
          "Xt3ch",
          "TheVig",
          "EmaratCoin",
          "Dekado",
          "Lynx",
          "Poseidon Quark",
          "BitcoinWSpectrum",
          "Muse",
          "Trivechain",
          "Dystem",
          "Giant",
          "Peony Coin",
          "Absolute Coin",
          "Vitae",
          "TPCash",
          "ARENON",
          "EUNO",
          "MMOCoin",
          "Ketan",
          "XDNA",
          "PAXEX",
          "ThunderStake",
          "Kcash",
          "Bettex coin",
          "BitMoney",
          "Junson Ming Chan Coin",
          "HerbCoin",
          "PirateCash",
          "Oduwa",
          "Galilel",
          "Crypto Sports",
          "Credit",
          "Dash Platinum",
          "Nasdacoin",
          "Beetle Coin",
          "Titan Coin",
          "Award",
          "Insane Coin",
          "ALAX",
          "LiteDoge",
          "TruckCoin",
          "OrangeCoin",
          "BitstarCoin",
          "NeosCoin",
          "HyperCoin",
          "PinkCoin",
          "AudioCoin",
          "IncaKoin",
          "Piggy Coin",
          "Genstake",
          "XiaoMiCoin",
          "CapriCoin",
          " ClubCoin",
          "Radium",
          "Creditbit ",
          "OKCash",
          "Lisk",
          "HiCoin",
          "WhiteCoin",
          "FriendshipCoin",
          "Triangles Coin",
          "EOS",
          "Oxycoin",
          "TigerCash",
          "Particl",
          "Nxt",
          "ZEPHYR",
          "Gapcoin",
          "BitcoinPlus"
         ],
         "legendgroup": "0",
         "marker": {
          "color": [
           0,
           0,
           0,
           0,
           0,
           0,
           0,
           0,
           0,
           0,
           0,
           0,
           0,
           0,
           0,
           0,
           0,
           0,
           0,
           0,
           0,
           0,
           0,
           0,
           0,
           0,
           0,
           0,
           0,
           0,
           0,
           0,
           0,
           0,
           0,
           0,
           0,
           0,
           0,
           0,
           0,
           0,
           0,
           0,
           0,
           0,
           0,
           0,
           0,
           0,
           0,
           0,
           0,
           0,
           0,
           0,
           0,
           0,
           0,
           0,
           0,
           0,
           0,
           0,
           0,
           0,
           0,
           0,
           0,
           0,
           0,
           0,
           0,
           0,
           0,
           0,
           0,
           0,
           0,
           0,
           0,
           0,
           0,
           0,
           0,
           0,
           0,
           0,
           0,
           0,
           0,
           0,
           0,
           0,
           0,
           0,
           0,
           0,
           0,
           0,
           0,
           0,
           0,
           0,
           0,
           0,
           0,
           0,
           0,
           0,
           0,
           0,
           0,
           0,
           0,
           0,
           0,
           0,
           0,
           0,
           0,
           0,
           0,
           0,
           0,
           0,
           0,
           0,
           0,
           0,
           0,
           0,
           0,
           0,
           0,
           0,
           0,
           0,
           0,
           0,
           0,
           0,
           0,
           0,
           0,
           0,
           0,
           0,
           0,
           0,
           0,
           0,
           0,
           0,
           0,
           0,
           0,
           0,
           0,
           0,
           0,
           0,
           0,
           0,
           0,
           0,
           0,
           0,
           0,
           0,
           0,
           0,
           0,
           0,
           0,
           0,
           0,
           0,
           0,
           0,
           0,
           0,
           0,
           0,
           0,
           0,
           0,
           0,
           0,
           0,
           0,
           0,
           0,
           0,
           0,
           0,
           0,
           0,
           0,
           0,
           0,
           0,
           0,
           0,
           0,
           0,
           0,
           0,
           0,
           0,
           0,
           0,
           0,
           0,
           0,
           0,
           0,
           0,
           0,
           0,
           0,
           0,
           0,
           0,
           0,
           0,
           0,
           0,
           0,
           0,
           0,
           0,
           0,
           0,
           0,
           0,
           0,
           0,
           0,
           0,
           0,
           0,
           0,
           0,
           0,
           0,
           0,
           0,
           0,
           0,
           0,
           0,
           0,
           0,
           0,
           0,
           0,
           0,
           0,
           0,
           0,
           0,
           0,
           0,
           0,
           0,
           0,
           0,
           0,
           0,
           0,
           0,
           0,
           0,
           0,
           0,
           0,
           0,
           0,
           0,
           0,
           0,
           0,
           0,
           0,
           0,
           0
          ],
          "coloraxis": "coloraxis",
          "symbol": "circle"
         },
         "mode": "markers",
         "name": "0",
         "scene": "scene",
         "showlegend": true,
         "type": "scatter3d",
         "x": [
          -0.34061579744648857,
          -0.3239679983417739,
          2.315097787601181,
          -0.39125506599406873,
          -0.27821255205192763,
          -0.3075274072702193,
          -0.2715056198150072,
          -0.22120379066466364,
          -0.34027564062130394,
          -0.33286094546763934,
          -0.3391139128121046,
          -0.34061173528816324,
          -0.34059603001042416,
          0.6502353391613013,
          -0.36547945730290476,
          -0.3703814593205356,
          -0.294026989312118,
          -0.3386759683758114,
          -0.33507771784254775,
          -0.39114987026396514,
          -0.4094177161987986,
          -0.04478161045694169,
          -0.27085943685935826,
          -0.3043452257975399,
          -0.26776134997153056,
          -0.2683829198056935,
          -0.3416866553389557,
          -0.33492180831972385,
          -0.33901869245543237,
          0.017157819991505296,
          -0.35494389812831356,
          -0.391521170490044,
          -0.24887405091290835,
          -0.3274463782540566,
          -0.3914328509318352,
          -0.3158653178937274,
          -0.33929405285798103,
          -0.2877569897157932,
          -0.3913973859603401,
          -0.24934180913062676,
          -0.2681640083127311,
          -0.33172305437647714,
          -0.0018233616013503583,
          -0.35067688279132214,
          -0.3067397017098568,
          -0.36490163628089317,
          -0.30432558639196183,
          -0.2684581691359,
          -0.29898261309999,
          -0.3405978844028672,
          -0.2684104136981643,
          -0.3553881857389734,
          -0.3403324389110276,
          -0.3915027183650844,
          -0.40911614656765094,
          -0.3872408650813102,
          -0.32175747926280673,
          -0.302728266073028,
          -0.26793234247910575,
          -0.30008689315931336,
          -0.22364434655905693,
          -0.0685662867302476,
          -0.3074983511000574,
          -0.06916945872030236,
          -0.30756203755508604,
          -0.2230776013535919,
          -0.3402083368004563,
          -0.302596841076029,
          -0.38867291014260713,
          0.8481249440290772,
          -0.3073621584666374,
          -0.07997214893340684,
          -0.3700649585257314,
          -0.38934755600715526,
          -0.3061060808578799,
          -0.30377520093408855,
          -0.34431112367660266,
          -0.39023851604194404,
          -0.3535022829655277,
          -0.31651936378792517,
          -0.3402463836993134,
          -0.33868671244841586,
          -0.23113109622587372,
          -0.34288865180517,
          -0.39097691509159516,
          -0.3394511995502133,
          -0.30754295671732435,
          -0.3914919060871282,
          -0.34043546791894497,
          -0.34059212342543244,
          -0.3025875331346394,
          -0.27878910778377197,
          0.044018417735079626,
          -0.36902283960370424,
          -0.34020667672919197,
          -0.3776610401384931,
          -0.3683523381946161,
          -0.23256121549104977,
          -0.3845818958347819,
          -0.36810023438247946,
          -0.2702467077727083,
          3.736554681073149,
          -0.39108473306815683,
          0.8625972016795452,
          -0.3914468579610453,
          -0.36948623278324316,
          -0.3401341139774364,
          -0.3402882642581278,
          -0.3700649585257314,
          -0.3910219203377696,
          -0.3074057757509053,
          -0.3401348766761596,
          -0.3756687645333923,
          -0.3402821408092903,
          -0.3358716052649991,
          -0.3914758163246795,
          -0.33949307690782604,
          0.3384271419933093,
          -0.3404812869088484,
          -0.3405518338416779,
          -0.3645705747946373,
          -0.3518601830573952,
          -0.3367800003333647,
          -0.3075193946472356,
          -0.3913858386625261,
          -0.3403297905221577,
          -0.3404566035699489,
          -0.3042319185400349,
          -0.3247631117173699,
          -0.2323292481796949,
          -0.321324940173771,
          -0.30397341769620545,
          -0.3906518870088712,
          -0.41258057675728793,
          -0.3893915041601907,
          -0.3683128639577187,
          -0.3905498771496998,
          -0.3627170853643281,
          -0.3864930407947314,
          -0.34039995197353395,
          -0.340399105996723,
          -0.33352305762367457,
          0.2609843750947429,
          -0.3910281630840474,
          -0.2868821768034813,
          -0.37009916771306783,
          -0.33961103416638866,
          0.9100132333943114,
          -0.2701964424755758,
          -0.3522815580454865,
          0.6154187592595688,
          -0.34584559333722414,
          -0.344348812658619,
          -0.41241357995552946,
          -0.2680957317836301,
          0.12410245103956061,
          -0.268166486678925,
          -0.3282725374029957,
          -0.411918974173751,
          -0.3913004193084373,
          -0.3043062316436785,
          4.475045808454896,
          -0.36996542212415123,
          -0.34003538835262803,
          -0.3405347766527615,
          -0.3362344699810242,
          0.6106177772414739,
          -0.39124122075186174,
          -0.33668906253144626,
          -0.34049038003358867,
          -0.31950127547581914,
          0.4279602063997319,
          -0.305866970846391,
          -0.3306221653423822,
          -0.3989767581030509,
          -0.34044074358338466,
          -0.39897154374533167,
          -0.35629003096614226,
          -0.34031130699874185,
          -0.09812287387276429,
          -0.390034531955472,
          3.7414075690681865,
          0.21322125196027503,
          -0.2648398077774003,
          -0.3377732167698677,
          -0.30965083619846334,
          -0.3644565709321416,
          0.0736571555613779,
          -0.33945005024373476,
          -0.39061554398747766,
          -0.3636216676688539,
          -0.3270248522044205,
          -0.3405568864028094,
          -0.35536013908560954,
          -0.35378395210744606,
          -0.31411825166341745,
          -0.3361055827289373,
          -0.22412951556466018,
          -0.37140508440761827,
          -0.3913175693400715,
          -0.2726484382640252,
          -0.30346654664999706,
          -0.33348614551763195,
          -0.3454447662529547,
          -0.3405842179915964,
          -0.3405659378032264,
          -0.2978518730901832,
          -0.3662766003849783,
          -0.36956016482817283,
          -0.3402826152807068,
          3.918905015596035,
          -0.3976409415340613,
          -0.36974867977289916,
          -0.32198653614248296,
          -0.28718173464090746,
          -0.2030371524823939,
          -0.3040007128785327,
          -0.14384904581073224,
          -0.30425242159087035,
          -0.3355316569873987,
          -0.3397569175370452,
          -0.18703000203607398,
          2.2022241910724825,
          -0.3601657706462889,
          -0.2703245363436137,
          1.0210970037678693,
          -0.3572820306622273,
          -0.3645699811012898,
          -0.4006549359278169,
          -0.18502217666002138,
          -0.35538793972606497,
          -0.3632904357026368,
          -0.3334632105413372,
          -0.35493781111676653,
          -0.3907913224373752,
          -0.30149965196060735,
          -0.36884875123563354,
          -0.32321410102021275,
          -0.3547991061099423,
          -0.20012039251731126,
          -0.3128877718615556,
          -0.23668314021960432,
          0.6394152876278436,
          -0.14552905777975228,
          -0.3999500458074573,
          -0.2506029891557122,
          -0.340286630390362,
          -0.4004058705042816,
          -0.3646868756991906,
          0.5656684962062818,
          -0.3554144047217881,
          -0.33976976627934113,
          -0.2671075494499798,
          -0.29027338581631684,
          -0.3883566118333066,
          -0.39101842574535417,
          3.7536391873507284,
          0.09437161140392863,
          -0.3885607643014035,
          -0.33915530239684316,
          -0.3399801842393772,
          -0.27153817300418176,
          -0.34049825697737085,
          -0.3826525172404777,
          -0.25423701864953685,
          -0.08741223825952944,
          -0.3784027318142567,
          -0.33977724550528,
          -0.3328467758082534,
          -0.3875896766647984,
          -0.3382173119650599,
          -0.37034036061866005,
          -0.3848644181439505,
          -0.30604358273513016,
          3.736946267668194,
          -0.11168317000018899,
          -0.3354142754640651,
          -0.341312613755555,
          -0.2685653229244776,
          3.746803278697795,
          3.748046129083936,
          -0.2524497384142339,
          -0.37027629520931643,
          -0.3890738462709848,
          2.480442639328122,
          -0.3386619168603686,
          -0.3046486991119598
         ],
         "y": [
          0.9976401123075874,
          0.997714154216637,
          1.7021774349586676,
          1.2734311181426015,
          1.5173917022952725,
          0.8911640205157731,
          0.6455498862390705,
          1.9505914955172985,
          0.9976375999851949,
          0.9978437157276479,
          0.9976795442694303,
          0.9976398777798605,
          0.9976399489131988,
          0.3830663275181794,
          0.928397410571865,
          1.533496517759719,
          0.18368360296908415,
          0.9976091525120075,
          1.0283546976748963,
          1.27343388005314,
          2.0570075042570877,
          0.7588408613674072,
          0.8904908481829956,
          0.7520149854260487,
          1.848752002924075,
          1.8487356836279014,
          0.5436486499517658,
          0.9975029929279796,
          0.9976151674642425,
          1.0070334472524467,
          1.027833111745039,
          1.2734391440571446,
          0.10044831925440877,
          1.5958699822759774,
          1.2734346394021931,
          0.9971980690591836,
          0.9976065730527445,
          0.22604847350596963,
          1.2734386414079373,
          0.1005042799228456,
          1.8487414311421686,
          0.9971911745666984,
          0.8454040383198496,
          1.5199017321499861,
          0.8911533105431979,
          0.928415570228445,
          0.7520265425562623,
          1.8487255189616736,
          0.7518256139220219,
          0.9976405826426396,
          1.8487281376120785,
          1.0278077986588845,
          0.9976339035764572,
          1.2734396291995138,
          2.2671646440217055,
          1.9739198957524378,
          0.9693954645017948,
          0.7520002385047704,
          1.8487133926984785,
          0.8906919676832281,
          1.9507483183715228,
          0.9265275840365428,
          0.891164783384594,
          1.2637843217649205,
          0.8911709590879838,
          1.6039762712065704,
          0.997622148711397,
          0.7519210807558461,
          1.2732518778053308,
          0.7147248654093419,
          0.8911560756216467,
          0.3897259332373282,
          1.533491179148889,
          1.2734450316843469,
          0.8910643593524201,
          0.8909192790964722,
          1.6007318714632237,
          1.2733779649039103,
          1.4489296715949387,
          0.9969079305229854,
          0.9976195574864459,
          0.997622518755829,
          1.603010877663046,
          1.0277012742416978,
          1.2734193133249279,
          0.9976092713359037,
          0.8911642946819907,
          1.273437865826161,
          0.9976305161366849,
          0.9976407338969185,
          0.7520721750891056,
          0.10611268051541997,
          1.9985859567065491,
          1.5334816894593681,
          0.997650853787636,
          1.2727794173370433,
          1.5335224956815663,
          1.6031081070926405,
          1.983322995174784,
          1.533351003894685,
          1.9988610470504804,
          1.9178869151913254,
          1.2734301308964968,
          1.877849476662818,
          1.2734384662390403,
          1.5334859010811444,
          0.9976264585901836,
          0.9976200502185449,
          1.533491179148889,
          1.2734113075490723,
          0.8911685787803444,
          0.9976302191527153,
          0.8292060793109371,
          0.9976297648198725,
          0.997320649973864,
          1.2734369234294505,
          0.9975713213586312,
          0.7467132806096088,
          0.9976347724922084,
          0.9976395289496792,
          1.470906047168602,
          0.58211400991505,
          0.9973996128394997,
          0.8911649133033893,
          1.2734363145488545,
          0.9976339731098225,
          0.9976293242990445,
          0.7519914688976882,
          0.14534646954655245,
          1.6031059915150982,
          0.997464176723488,
          0.7520122955765876,
          1.2733937261041115,
          2.0057026832401434,
          1.2734199932510566,
          1.5334755649336784,
          1.2733964043697108,
          1.5334247790714135,
          1.2732299498967317,
          0.9976313038518382,
          0.9976262844527334,
          0.9971439155388465,
          0.6083576901351776,
          1.273424791975073,
          0.7511196858082069,
          1.5334834568232132,
          0.9975948386363247,
          1.9191129271946705,
          0.64545624810354,
          1.4489163409945098,
          2.0210709708470147,
          1.60074617732764,
          1.6007104094465445,
          1.9135597692207773,
          1.8487227512466038,
          0.9757204523670917,
          1.8487284696385347,
          1.501027754397,
          1.9135727550798045,
          1.2734384526366194,
          0.75201517264799,
          3.4566577330790045,
          1.5334654039732831,
          0.9976224229997012,
          0.997639373385494,
          1.5182630619287099,
          1.2813036166496368,
          1.2734280695667175,
          0.5435094677194827,
          0.9976326684810913,
          0.6372729754296674,
          1.0007586394253416,
          0.8911543867376179,
          1.6003337923624001,
          1.842086935407881,
          0.9976303776242832,
          1.7164429718955543,
          1.4073128100400867,
          0.9976380149603644,
          0.6439688268128463,
          1.2733799084173194,
          1.9177584214401504,
          1.5949587900286732,
          1.8486854004656073,
          0.9975714367456587,
          1.3551180116356432,
          1.4709056282541004,
          0.9743960127430465,
          0.9975683565235931,
          1.2734288011117425,
          1.4708593069671256,
          0.9973827673604228,
          0.9976389293780027,
          1.027807852606419,
          1.4489280769204707,
          0.1313028815583645,
          0.9976002072622057,
          1.6027852540668655,
          0.8840001911616366,
          1.2734274298698796,
          1.6076315716650071,
          0.7519644769768397,
          1.4817826649497943,
          1.6007294043717446,
          0.9976388942044658,
          0.9976380093173179,
          0.7518553014649195,
          1.5435777296631203,
          1.533458028172362,
          0.9976283875297299,
          1.9099981163023654,
          1.7164779068141773,
          1.5334585380501415,
          0.6192401231550608,
          0.9955477181555977,
          1.3036105042688817,
          0.7520173292721601,
          0.9958455692817758,
          0.7519984371717501,
          2.002200969058483,
          0.9976053392186409,
          1.7050997874123783,
          0.12868981133057447,
          1.470588360711954,
          0.6455210051751045,
          1.689072302679139,
          0.8648541867928353,
          1.47090196825727,
          1.7165317426513784,
          0.7436396600093251,
          0.8828776914491572,
          1.4708816517809407,
          0.9971454868220851,
          1.0277957386542942,
          1.2734241860541458,
          0.7519233090962691,
          1.5333934515060053,
          1.0020577778323165,
          1.0277686716093382,
          0.9890453185174993,
          1.6820023871612164,
          1.3620162954688533,
          1.5061813032588882,
          1.0333312917000117,
          1.716516914157586,
          -0.09180137712420407,
          0.9976344238612512,
          1.7165288065043316,
          1.4709041060308838,
          0.9703898267106694,
          1.027807315005264,
          0.9976050018753216,
          1.607476784283803,
          2.0000453828939904,
          1.273235615214965,
          1.2734318717931423,
          1.9177383539604536,
          0.9851761169494906,
          1.2735168701096347,
          0.9975419742961508,
          0.9976197750723288,
          0.6455432310162568,
          0.997643198357519,
          1.2733307827201716,
          0.9927426116386608,
          0.8968284912940463,
          1.2731011524733788,
          0.9976518922438958,
          0.9975711211694991,
          1.2734004233618714,
          0.9975938978632344,
          1.5334914550567291,
          0.7562470208956545,
          0.8911463377158352,
          1.9178733673941386,
          0.7502541689198199,
          0.9975719531934412,
          0.5436199833794154,
          1.8487308127498594,
          1.9182412938520326,
          1.9182739248492857,
          0.645376311547974,
          1.533493386760893,
          1.759604122423127,
          0.8740392178438205,
          0.9975208072949139,
          0.7520173768256478
         ],
         "z": [
          -0.6285863671419143,
          -0.6289145903055102,
          -0.6484555469979901,
          -0.4474528812196131,
          -0.11602351314759687,
          -0.363512887206671,
          -0.02527305341996234,
          -0.6038548423820546,
          -0.6285924356715705,
          -0.6287660602816039,
          -0.6286211683727417,
          -0.628586407199597,
          -0.6285867170436656,
          -0.3645712613374683,
          -0.42259611803690655,
          -0.02822341446839499,
          -0.6007542464147133,
          -0.6286183385363098,
          -0.10968143797022382,
          -0.4474553187839392,
          -0.598482027935781,
          -0.29636580198970863,
          -0.3641032942739782,
          -0.29034952087381594,
          -0.6225819833570938,
          -0.6225675805248383,
          -0.2963205042572599,
          -0.6286728844338876,
          -0.6286127762904994,
          -0.6368765915335987,
          -0.10922110471965056,
          -0.4474490942719715,
          0.17653976947497194,
          -0.18123718278796208,
          -0.4474500594151769,
          -0.628986841196773,
          -0.6286061794248171,
          -0.41975998559946265,
          -0.44745136786482564,
          0.17653979343387838,
          -0.6225726530771706,
          -0.6286842791963266,
          -0.1106595043731112,
          -0.15497080777963512,
          -0.3635261648806082,
          -0.4226099808227028,
          -0.2903517257863178,
          -0.622564539094096,
          -0.2904214576018379,
          -0.628586782222193,
          -0.622565861964889,
          -0.10920864685939614,
          -0.6285907700873583,
          -0.4474495219472987,
          -0.37316432348668777,
          -0.7599196255782595,
          0.060546957582276406,
          -0.290377923623962,
          -0.6225726137712649,
          -0.36357952789200837,
          -0.6038332982543454,
          -0.41066864981688034,
          -0.36351356048764744,
          -0.4520472044895053,
          -0.36351332846550855,
          -0.5573179635709209,
          -0.628591266489599,
          -0.29036787736978653,
          -0.44747356460901594,
          -0.30634932030233303,
          -0.363514769639749,
          -0.3517447819727182,
          -0.028228585371931045,
          -0.4474913496346099,
          -0.3635241137622312,
          -0.36354543379716403,
          -0.5544990429518661,
          -0.4474637831028482,
          -0.010574505449884657,
          -0.628928426654503,
          -0.6285901325329118,
          -0.6286202525370572,
          -0.2843335917733936,
          -0.10942939210962031,
          -0.44745629830710537,
          -0.6286036195477784,
          -0.36351263504744524,
          -0.447449448042321,
          -0.6285882745817156,
          -0.6285869157138573,
          -0.2903919994420537,
          -0.45002406015774354,
          -0.7152633468761828,
          -0.028246893053308717,
          -0.6285958471706367,
          -0.4476080352776322,
          -0.028266106755241154,
          -0.2843218126818654,
          -0.6840426395158549,
          -0.02824372180134381,
          -0.7093324890121028,
          -0.18595055109181707,
          -0.44745596294007706,
          -0.6486823914416243,
          -0.4474503995986162,
          -0.02823875099474632,
          -0.6285933605508336,
          -0.628589414434203,
          -0.028228585371931045,
          -0.4474541739792505,
          -0.36351592191216403,
          -0.6285939420175084,
          0.04481229103860875,
          -0.6285910703964,
          -0.628625930629544,
          -0.44744960457361327,
          -0.6285968091881514,
          -0.30172897983679925,
          -0.6285880780613275,
          -0.6285874906963502,
          -0.1511930041614379,
          -0.4955808699853895,
          -0.6286211751215702,
          -0.36351318102076063,
          -0.44745121863315174,
          -0.6285908314550415,
          -0.6285876838946046,
          -0.29034794809221337,
          -0.3759695746617838,
          -0.28432588730999975,
          -0.6289252212215123,
          -0.29035616298766986,
          -0.4474584223636073,
          -0.6360676677836732,
          -0.4474865461023823,
          -0.0282594197061283,
          -0.44746078610587575,
          -0.02835775188922303,
          -0.4475115307329897,
          -0.6285890746062386,
          -0.6285882952249137,
          -0.628642570053758,
          -0.02950200878357997,
          -0.4474561922833991,
          -0.2905396233894544,
          -0.028226711207156804,
          -0.6285982936879387,
          -0.6203716038067569,
          -0.025283102441118147,
          -0.010595599887081286,
          -0.8334495234561357,
          -0.5544721385118588,
          -0.5544949251951007,
          -0.6401268399164055,
          -0.6225709907218706,
          -0.6339472828307887,
          -0.6225705518487464,
          0.03744118347188891,
          -0.6401383007752113,
          -0.4474531813692002,
          -0.2903502918571768,
          5.673003884574281,
          -0.02822639284858529,
          -0.6285945978587999,
          -0.6285877903148671,
          -0.1150585572655272,
          -0.05422932789670671,
          -0.4474526612976626,
          -0.29639345553230617,
          -0.628587571753742,
          -0.03191618090714991,
          -0.64369188383986,
          -0.3635429268071596,
          -0.5546961952068015,
          -0.5188975008178539,
          -0.6285881523355802,
          -0.4894514151077454,
          -0.0991517928101308,
          -0.6285918233871004,
          -0.028318647301056606,
          -0.4474679690219305,
          -0.1860224452909829,
          -0.5641833126586098,
          -0.6226269693964523,
          -0.6286295235128893,
          -0.21623336935947987,
          -0.151195105085398,
          -0.632778379372269,
          -0.6285971573015139,
          -0.44746467189138944,
          -0.15120363642065057,
          -0.6288039593428061,
          -0.6285872996238738,
          -0.10920918860018765,
          -0.010568897953550292,
          -0.5621472010568325,
          -0.628665786180242,
          -0.28443094155195087,
          -0.5402786257011,
          -0.44745110846669184,
          -0.4151087701603184,
          -0.2903582208538504,
          -0.010258507250669192,
          -0.5544771004400031,
          -0.6285867744523479,
          -0.6285869817395412,
          -0.29044765877472495,
          0.10380855504825909,
          -0.028232928240766175,
          -0.628590843106167,
          -0.1758436234260595,
          -0.48948224742841934,
          -0.02822942521194135,
          -0.026994936789088667,
          -0.6292705968567085,
          0.09288659552548806,
          -0.29035644181224735,
          -0.6320426788848332,
          -0.2903486626291569,
          -0.7086206692871738,
          -0.6285971844288235,
          -0.2655992783776207,
          -0.5890478812105919,
          -0.15122639702447369,
          -0.02529092983312828,
          -0.12430493203153074,
          -0.3652485668420592,
          -0.15119236903055897,
          -0.4894334805642944,
          -0.29129065151102385,
          -0.37015709091751964,
          -0.1512134745889687,
          -0.6286439568126391,
          -0.10921529762823087,
          -0.44746059880516637,
          -0.2903890890328453,
          -0.0282362188547726,
          -0.4696481086128285,
          -0.10921364500136112,
          -0.6298952217962923,
          -0.18441747373137704,
          -0.07686768149167952,
          -0.08941042961381708,
          -0.11407360342797138,
          -0.48944453114982295,
          0.17416825696700072,
          -0.6285917234008823,
          -0.4894377502002537,
          -0.15119048555247108,
          -0.6414970511260778,
          -0.10920807176527368,
          -0.6285968867015699,
          -0.41518957689340136,
          -0.7091394555450103,
          -0.447477000453244,
          -0.4474574993937387,
          -0.18625179874966274,
          -0.6348805880265971,
          -0.44751769203624875,
          -0.6285985797133513,
          -0.6285952276989488,
          -0.025271379849428722,
          -0.6285890907594137,
          -0.447600522208261,
          -0.6294523570571076,
          -0.36859516190676506,
          -0.44764492299806324,
          -0.6286041756044624,
          -0.6287231294323957,
          -0.44751769901572064,
          -0.6286246404684931,
          -0.028223393463703915,
          -0.024497482140184094,
          -0.363538293668934,
          -0.18595584846675936,
          -0.29373314368521913,
          -0.6286744508862634,
          -0.29632307209376,
          -0.6225633409559931,
          -0.1862015470582189,
          -0.1862303460195692,
          -0.025607814553170467,
          -0.028224917535422795,
          0.08729091483270214,
          -0.08756084035628632,
          -0.6286046048989498,
          -0.2903441305660279
         ]
        },
        {
         "customdata": [
          [
           "SHA-256"
          ],
          [
           "Ethash"
          ],
          [
           "Scrypt"
          ],
          [
           "CryptoNight-V7"
          ],
          [
           "Ethash"
          ],
          [
           "Equihash"
          ],
          [
           "Multiple"
          ],
          [
           "Scrypt"
          ],
          [
           "X11"
          ],
          [
           "Scrypt"
          ],
          [
           "Multiple"
          ],
          [
           "Scrypt"
          ],
          [
           "SHA-256"
          ],
          [
           "Scrypt"
          ],
          [
           "Scrypt"
          ],
          [
           "Quark"
          ],
          [
           "Groestl"
          ],
          [
           "Scrypt"
          ],
          [
           "Scrypt"
          ],
          [
           "Scrypt"
          ],
          [
           "X11"
          ],
          [
           "Multiple"
          ],
          [
           "SHA-256"
          ],
          [
           "Scrypt"
          ],
          [
           "Scrypt"
          ],
          [
           "Scrypt"
          ],
          [
           "Scrypt"
          ],
          [
           "Scrypt"
          ],
          [
           "NeoScrypt"
          ],
          [
           "Scrypt"
          ],
          [
           "Scrypt"
          ],
          [
           "Scrypt"
          ],
          [
           "Scrypt"
          ],
          [
           "SHA-256"
          ],
          [
           "Scrypt"
          ],
          [
           "Scrypt"
          ],
          [
           "Scrypt"
          ],
          [
           "Scrypt"
          ],
          [
           "HybridScryptHash256"
          ],
          [
           "Scrypt"
          ],
          [
           "Scrypt"
          ],
          [
           "SHA-256"
          ],
          [
           "Scrypt"
          ],
          [
           "Scrypt"
          ],
          [
           "Scrypt"
          ],
          [
           "Scrypt"
          ],
          [
           "SHA-256"
          ],
          [
           "SHA-256"
          ],
          [
           "SHA-256"
          ],
          [
           "SHA-256"
          ],
          [
           "SHA-256"
          ],
          [
           "X11"
          ],
          [
           "Scrypt"
          ],
          [
           "Lyra2REv2"
          ],
          [
           "Scrypt"
          ],
          [
           "SHA-256"
          ],
          [
           "CryptoNight"
          ],
          [
           "CryptoNight"
          ],
          [
           "Scrypt"
          ],
          [
           "Scrypt"
          ],
          [
           "Scrypt"
          ],
          [
           "Scrypt"
          ],
          [
           "Scrypt"
          ],
          [
           "Scrypt"
          ],
          [
           "Stanford Folding"
          ],
          [
           "Multiple"
          ],
          [
           "QuBit"
          ],
          [
           "Scrypt"
          ],
          [
           "Scrypt"
          ],
          [
           "M7 POW"
          ],
          [
           "Scrypt"
          ],
          [
           "SHA-256"
          ],
          [
           "Scrypt"
          ],
          [
           "X11"
          ],
          [
           "Lyra2RE"
          ],
          [
           "SHA-256"
          ],
          [
           "X11"
          ],
          [
           "Scrypt"
          ],
          [
           "Scrypt"
          ],
          [
           "Ethash"
          ],
          [
           "Blake2b"
          ],
          [
           "X11"
          ],
          [
           "SHA-256"
          ],
          [
           "Scrypt"
          ],
          [
           "1GB AES Pattern Search"
          ],
          [
           "Scrypt"
          ],
          [
           "SHA-256"
          ],
          [
           "X11"
          ],
          [
           "Dagger"
          ],
          [
           "Scrypt"
          ],
          [
           "X11GOST"
          ],
          [
           "Scrypt"
          ],
          [
           "X11"
          ],
          [
           "Scrypt"
          ],
          [
           "X11"
          ],
          [
           "Equihash"
          ],
          [
           "CryptoNight"
          ],
          [
           "SHA-256"
          ],
          [
           "Multiple"
          ],
          [
           "Scrypt"
          ],
          [
           "SHA-256"
          ],
          [
           "Scrypt"
          ],
          [
           "Lyra2Z"
          ],
          [
           "Ethash"
          ],
          [
           "Equihash"
          ],
          [
           "Scrypt"
          ],
          [
           "X11"
          ],
          [
           "X11"
          ],
          [
           "CryptoNight"
          ],
          [
           "Scrypt"
          ],
          [
           "CryptoNight"
          ],
          [
           "Lyra2RE"
          ],
          [
           "X11"
          ],
          [
           "CryptoNight-V7"
          ],
          [
           "Scrypt"
          ],
          [
           "X11"
          ],
          [
           "Equihash"
          ],
          [
           "Scrypt"
          ],
          [
           "Lyra2RE"
          ],
          [
           "Dagger-Hashimoto"
          ],
          [
           "Scrypt"
          ],
          [
           "NIST5"
          ],
          [
           "Scrypt"
          ],
          [
           "SHA-256"
          ],
          [
           "Scrypt"
          ],
          [
           "CryptoNight-V7"
          ],
          [
           "Argon2d"
          ],
          [
           "Blake2b"
          ],
          [
           "Cloverhash"
          ],
          [
           "CryptoNight"
          ],
          [
           "X11"
          ],
          [
           "Scrypt"
          ],
          [
           "Scrypt"
          ],
          [
           "X11"
          ],
          [
           "X11"
          ],
          [
           "CryptoNight"
          ],
          [
           "Time Travel"
          ],
          [
           "Scrypt"
          ],
          [
           "Keccak"
          ],
          [
           "X11"
          ],
          [
           "SHA-256"
          ],
          [
           "Scrypt"
          ],
          [
           "Scrypt"
          ],
          [
           "Scrypt"
          ],
          [
           "Scrypt"
          ],
          [
           "Scrypt"
          ],
          [
           "Scrypt"
          ],
          [
           "CryptoNight"
          ],
          [
           "Equihash"
          ],
          [
           "X11"
          ],
          [
           "NeoScrypt"
          ],
          [
           "Equihash"
          ],
          [
           "Dagger"
          ],
          [
           "Scrypt"
          ],
          [
           "X11"
          ],
          [
           "NeoScrypt"
          ],
          [
           "Ethash"
          ],
          [
           "NeoScrypt"
          ],
          [
           "Multiple"
          ],
          [
           "CryptoNight"
          ],
          [
           "CryptoNight"
          ],
          [
           "Ethash"
          ],
          [
           "X11"
          ],
          [
           "CryptoNight-V7"
          ],
          [
           "Scrypt"
          ],
          [
           "BLAKE256"
          ],
          [
           "X11"
          ],
          [
           "NeoScrypt"
          ],
          [
           "NeoScrypt"
          ],
          [
           "Scrypt"
          ],
          [
           "X11"
          ],
          [
           "SHA-256"
          ],
          [
           "C11"
          ],
          [
           "Ethash"
          ],
          [
           "CryptoNight"
          ],
          [
           "SkunkHash"
          ],
          [
           "CryptoNight"
          ],
          [
           "Scrypt"
          ],
          [
           "Dagger"
          ],
          [
           "Lyra2REv2"
          ],
          [
           "Scrypt"
          ],
          [
           "Scrypt"
          ],
          [
           "X11"
          ],
          [
           "Ethash"
          ],
          [
           "CryptoNight"
          ],
          [
           "Scrypt"
          ],
          [
           "IMesh"
          ],
          [
           "Equihash"
          ],
          [
           "Lyra2Z"
          ],
          [
           "X11"
          ],
          [
           "CryptoNight"
          ],
          [
           "NIST5"
          ],
          [
           "Lyra2RE"
          ],
          [
           "Tribus"
          ],
          [
           "Lyra2Z"
          ],
          [
           "CryptoNight"
          ],
          [
           "CryptoNight Heavy"
          ],
          [
           "CryptoNight"
          ],
          [
           "Jump Consistent Hash"
          ],
          [
           "CryptoNight"
          ],
          [
           "X16R"
          ],
          [
           "HMQ1725"
          ],
          [
           "X11"
          ],
          [
           "Scrypt"
          ],
          [
           "CryptoNight-V7"
          ],
          [
           "Cryptonight-GPU"
          ],
          [
           "XEVAN"
          ],
          [
           "CryptoNight Heavy"
          ],
          [
           "SHA-256"
          ],
          [
           "X11"
          ],
          [
           "X16R"
          ],
          [
           "Equihash"
          ],
          [
           "Lyra2Z"
          ],
          [
           "SHA-256"
          ],
          [
           "CryptoNight"
          ],
          [
           "Blake"
          ],
          [
           "Blake"
          ],
          [
           "Exosis"
          ],
          [
           "Scrypt"
          ],
          [
           "Equihash"
          ],
          [
           "Equihash"
          ],
          [
           "QuBit"
          ],
          [
           "SHA-256"
          ],
          [
           "X13"
          ],
          [
           "SHA-256"
          ],
          [
           "Scrypt"
          ],
          [
           "NeoScrypt"
          ],
          [
           "Blake"
          ],
          [
           "Scrypt"
          ],
          [
           "SHA-256"
          ],
          [
           "Scrypt"
          ],
          [
           "Groestl"
          ],
          [
           "Scrypt"
          ],
          [
           "Scrypt"
          ],
          [
           "Multiple"
          ],
          [
           "Equihash+Scrypt"
          ],
          [
           "Ethash"
          ],
          [
           "CryptoNight"
          ],
          [
           "Equihash"
          ]
         ],
         "hovertemplate": "<b>%{hovertext}</b><br><br>Class=%{marker.color}<br>PC 1=%{x}<br>PC 2=%{y}<br>PC 3=%{z}<br>Algorithm=%{customdata[0]}<extra></extra>",
         "hovertext": [
          "Bitcoin",
          "Ethereum",
          "Litecoin",
          "Monero",
          "Ethereum Classic",
          "ZCash",
          "DigiByte",
          "ProsperCoin",
          "Spreadcoin",
          "Argentum",
          "MyriadCoin",
          "MoonCoin",
          "ZetaCoin",
          "SexCoin",
          "Quatloo",
          "QuarkCoin",
          "Riecoin",
          "Digitalcoin ",
          "Catcoin",
          "CannaCoin",
          "CryptCoin",
          "Verge",
          "DevCoin",
          "EarthCoin",
          "E-Gulden",
          "Einsteinium",
          "Emerald",
          "Franko",
          "FeatherCoin",
          "GrandCoin",
          "GlobalCoin",
          "GoldCoin",
          "Infinite Coin",
          "IXcoin",
          "KrugerCoin",
          "LuckyCoin",
          "Litebar ",
          "MegaCoin",
          "MediterraneanCoin",
          "MinCoin",
          "NobleCoin",
          "Namecoin",
          "NyanCoin",
          "RonPaulCoin",
          "StableCoin",
          "SmartCoin",
          "SysCoin",
          "TigerCoin",
          "TerraCoin",
          "UnbreakableCoin",
          "Unobtanium",
          "UroCoin",
          "ViaCoin",
          "Vertcoin",
          "WorldCoin",
          "JouleCoin",
          "ByteCoin",
          "DigitalNote ",
          "MonaCoin",
          "Gulden",
          "PesetaCoin",
          "Wild Beast Coin",
          "Flo",
          "ArtByte",
          "Folding Coin",
          "Unitus",
          "CypherPunkCoin",
          "OmniCron",
          "GreenCoin",
          "Cryptonite",
          "MasterCoin",
          "SoonCoin",
          "1Credit",
          "MarsCoin ",
          "Crypto",
          "Anarchists Prime",
          "BowsCoin",
          "Song Coin",
          "BitZeny",
          "Expanse",
          "Siacoin",
          "MindCoin",
          "I0coin",
          "Revolution VR",
          "HOdlcoin",
          "Gamecredits",
          "CarpeDiemCoin",
          "Adzcoin",
          "SoilCoin",
          "YoCoin",
          "SibCoin",
          "Francs",
          "BolivarCoin",
          "Omni",
          "PizzaCoin",
          "Komodo",
          "Karbo",
          "ZayedCoin",
          "Circuits of Value",
          "DopeCoin",
          "DollarCoin",
          "Shilling",
          "ZCoin",
          "Elementrem",
          "ZClassic",
          "KiloCoin",
          "ArtexCoin",
          "Kurrent",
          "Cannabis Industry Coin",
          "OsmiumCoin",
          "Bikercoins",
          "HexxCoin",
          "PacCoin",
          "Citadel",
          "BeaverCoin",
          "VaultCoin",
          "Zero",
          "Canada eCoin",
          "Zoin",
          "DubaiCoin",
          "EB3coin",
          "Coinonat",
          "BenjiRolls",
          "ILCoin",
          "EquiTrader",
          "Quantum Resistant Ledger",
          "Dynamic",
          "Nano",
          "ChanCoin",
          "Dinastycoin",
          "DigitalPrice",
          "Unify",
          "SocialCoin",
          "ArcticCoin",
          "DAS",
          "LeviarCoin",
          "Bitcore",
          "gCn Coin",
          "SmartCash",
          "Onix",
          "Bitcoin Cash",
          "Sojourn Coin",
          "NewYorkCoin",
          "FrazCoin",
          "Kronecoin",
          "AdCoin",
          "Linx",
          "Sumokoin",
          "BitcoinZ",
          "Elements",
          "VIVO Coin",
          "Bitcoin Gold",
          "Pirl",
          "eBoost",
          "Pura",
          "Innova",
          "Ellaism",
          "GoByte",
          "SHIELD",
          "UltraNote",
          "BitCoal",
          "DaxxCoin",
          "AC3",
          "Lethean",
          "PopularCoin",
          "Photon",
          "Sucre",
          "SparksPay",
          "GunCoin",
          "IrishCoin",
          "Pioneer Coin",
          "UnitedBitcoin",
          "Interzone",
          "1717 Masonic Commemorative Token",
          "TurtleCoin",
          "MUNcoin",
          "Niobio Cash",
          "ShareChain",
          "Travelflex",
          "KREDS",
          "BitFlip",
          "LottoCoin",
          "Crypto Improvement Fund",
          "Callisto Network",
          "BitTube",
          "Poseidon",
          "Aidos Kuneen",
          "Bitrolium",
          "Alpenschillling",
          "FuturoCoin",
          "Monero Classic",
          "Jumpcoin",
          "Infinex",
          "KEYCO",
          "GINcoin",
          "PlatinCoin",
          "Loki",
          "Newton Coin",
          "MassGrid",
          "PluraCoin",
          "Motion",
          "PlusOneCoin",
          "Axe",
          "HexCoin",
          "Webchain",
          "Ryo",
          "Urals Coin",
          "Qwertycoin",
          "Project Pai",
          "Azart",
          "Xchange",
          "CrypticCoin",
          "Actinium",
          "Bitcoin SV",
          "FREDEnergy",
          "Universal Molecule",
          "Lithium",
          "Exosis",
          "Block-Logic",
          "Beam",
          "Bithereum",
          "SLICE",
          "BLAST",
          "Bitcoin Rhodium",
          "GlobalToken",
          "SolarCoin",
          "UFO Coin",
          "BlakeCoin",
          "Crypto Escudo",
          "Crown Coin",
          "SmileyCoin",
          "Groestlcoin",
          "Bata",
          "Pakcoin",
          "JoinCoin",
          "Vollar",
          "Reality Clash",
          "Beldex",
          "Horizen"
         ],
         "legendgroup": "3",
         "marker": {
          "color": [
           3,
           3,
           3,
           3,
           3,
           3,
           3,
           3,
           3,
           3,
           3,
           3,
           3,
           3,
           3,
           3,
           3,
           3,
           3,
           3,
           3,
           3,
           3,
           3,
           3,
           3,
           3,
           3,
           3,
           3,
           3,
           3,
           3,
           3,
           3,
           3,
           3,
           3,
           3,
           3,
           3,
           3,
           3,
           3,
           3,
           3,
           3,
           3,
           3,
           3,
           3,
           3,
           3,
           3,
           3,
           3,
           3,
           3,
           3,
           3,
           3,
           3,
           3,
           3,
           3,
           3,
           3,
           3,
           3,
           3,
           3,
           3,
           3,
           3,
           3,
           3,
           3,
           3,
           3,
           3,
           3,
           3,
           3,
           3,
           3,
           3,
           3,
           3,
           3,
           3,
           3,
           3,
           3,
           3,
           3,
           3,
           3,
           3,
           3,
           3,
           3,
           3,
           3,
           3,
           3,
           3,
           3,
           3,
           3,
           3,
           3,
           3,
           3,
           3,
           3,
           3,
           3,
           3,
           3,
           3,
           3,
           3,
           3,
           3,
           3,
           3,
           3,
           3,
           3,
           3,
           3,
           3,
           3,
           3,
           3,
           3,
           3,
           3,
           3,
           3,
           3,
           3,
           3,
           3,
           3,
           3,
           3,
           3,
           3,
           3,
           3,
           3,
           3,
           3,
           3,
           3,
           3,
           3,
           3,
           3,
           3,
           3,
           3,
           3,
           3,
           3,
           3,
           3,
           3,
           3,
           3,
           3,
           3,
           3,
           3,
           3,
           3,
           3,
           3,
           3,
           3,
           3,
           3,
           3,
           3,
           3,
           3,
           3,
           3,
           3,
           3,
           3,
           3,
           3,
           3,
           3,
           3,
           3,
           3,
           3,
           3,
           3,
           3,
           3,
           3,
           3,
           3,
           3,
           3,
           3,
           3,
           3,
           3,
           3,
           3,
           3,
           3,
           3,
           3,
           3,
           3,
           3,
           3,
           3,
           3,
           3,
           3,
           3,
           3,
           3,
           3,
           3,
           3,
           3,
           3,
           3,
           3,
           3,
           3
          ],
          "coloraxis": "coloraxis",
          "symbol": "diamond"
         },
         "mode": "markers",
         "name": "3",
         "scene": "scene",
         "showlegend": true,
         "type": "scatter3d",
         "x": [
          -0.141127162071541,
          -0.16327815160517647,
          -0.17304690164240052,
          -0.13915331343995577,
          -0.16172069270744008,
          -0.12102679760175955,
          0.16770700848125453,
          -0.17419230691374676,
          -0.22503911115659814,
          -0.1738090169714643,
          -0.08553930066365714,
          2.5468576699595245,
          -0.13821427696272487,
          -0.17106624073517726,
          -0.1736130640490151,
          -0.2296413153992625,
          -0.19814657181350176,
          -0.1736620434408696,
          -0.17417459069935273,
          -0.1742609984358449,
          -0.22512837391859214,
          0.19141038727141693,
          0.23644491924025998,
          0.07428699042166653,
          -0.17400750856102548,
          -0.16961584258228887,
          -0.17394680855088063,
          -0.1743179537451716,
          -0.17062064889193104,
          -0.15355411182139472,
          -0.17311397504812726,
          -0.17339113359695266,
          1.5732883871767176,
          -0.14108857020577167,
          -0.17068228240835295,
          -0.17403392863188746,
          -0.17438847942301225,
          -0.17364826984192983,
          -0.15609276712803885,
          -0.17426982186840898,
          -0.03923595350731107,
          -0.14116610299020704,
          -0.16793846201008683,
          -0.17424922925587222,
          -0.1723443370192001,
          -0.17373633656471815,
          -0.12832675081564635,
          -0.14063027917070567,
          -0.14091722123386563,
          -0.14090003453566433,
          -0.14149054502906808,
          -0.22530218345248584,
          -0.1739659927874081,
          -0.1884986152358531,
          -0.17107087340948404,
          -0.14069751651778908,
          3.861435338353609,
          0.46294517089173587,
          -0.17283431381796974,
          -0.15744082454732775,
          -0.1715541109593323,
          -0.17439068017603324,
          -0.17141931725428425,
          -0.15765258691298012,
          -0.11486646687066719,
          -0.11952174621587282,
          -0.1865058081725526,
          -0.17426388126907663,
          -0.04727952938555637,
          -0.1231541037712119,
          -0.17439957378228,
          -0.14119385270055734,
          0.47756029666583927,
          -0.22468981948386071,
          -0.13975133779763263,
          -0.1409338129066114,
          -0.22497449256390498,
          -0.17252419509010722,
          -0.17171704845375377,
          -0.16434445730063466,
          0.3562581313205864,
          -0.22500987867874422,
          -0.14108969143346617,
          -0.1703604438470462,
          -0.15098566196945343,
          -0.17296395131091793,
          0.27708225094526645,
          -0.22417110379434452,
          -0.15831655074983336,
          -0.17321071170762153,
          -0.1482538525190227,
          -0.1741895996946705,
          -0.22497311434501965,
          -0.17439963223357985,
          -0.22512293536411804,
          -0.13926685822269969,
          0.3079556071255709,
          -0.14134957195339665,
          -0.09960821746214682,
          -0.17156819152279904,
          -0.14130823855076263,
          -0.17406322373063773,
          -0.14243296983864517,
          -0.16408682616812018,
          -0.12104839304454684,
          -0.10114947527470636,
          -0.21171732154999548,
          -0.22295225449440936,
          0.3079500309592088,
          -0.17438137799113654,
          0.3080806359733516,
          -0.14029151747873614,
          0.48990038172743244,
          -0.13791833986909735,
          -0.17434969364640818,
          -0.21785944740394772,
          -0.12106077521143968,
          -0.1724843493154641,
          -0.14001012485458691,
          -0.14302085333356204,
          -0.1452827276599254,
          -0.1792976037345347,
          -0.17391234984366388,
          -0.10769609253795205,
          -0.17373441281655772,
          -0.13777661221566379,
          -0.14854186388524646,
          -0.04364309697974244,
          -0.12003835086521693,
          0.3440456853995949,
          -0.2241794101104746,
          -0.17405361483787973,
          -0.17381695749448423,
          -0.22457389268473904,
          -0.22515096998408887,
          0.30834478628730805,
          -0.14824699487733875,
          3.232876390822223,
          -0.09687760058368115,
          -0.21602689577160086,
          -0.1411263271241694,
          -0.09999589789209377,
          1.5708732719822616,
          -0.17415136101481388,
          -0.1736032370186408,
          -0.17330443231833859,
          -0.17329137630604402,
          0.3085283843894056,
          0.09115662774591737,
          -0.17957472436612668,
          -0.17530622123903944,
          -0.12090696064958094,
          -0.15707626507170547,
          -0.1724825602601385,
          -0.22069822143208848,
          -0.17515169906751069,
          -0.1624524132117927,
          -0.17525186900344972,
          -0.1097600762214039,
          1.145473130571447,
          0.30793277602343827,
          -0.08736889061944919,
          -0.2204390699165831,
          -0.12689516102411225,
          -0.09059834901527665,
          1.1023810956947895,
          -0.2251249901472051,
          -0.17530381184902752,
          -0.16834628355854778,
          -0.17340289405858797,
          -0.22505045639595594,
          -0.14110574921621405,
          -0.20516675850073207,
          -0.29480696809383816,
          8.042958013623386,
          -0.1491250478268302,
          0.31180492584057845,
          0.018497056784926257,
          -0.15658025398803274,
          -0.1740660992013086,
          -0.17397616356643744,
          0.13288361002289015,
          -0.21919487569447224,
          -0.11550728635867308,
          0.31585284916046724,
          -0.17421303087275058,
          -0.15358507945397176,
          -0.11989881884552255,
          -0.14021732782709895,
          -0.22422014186183462,
          0.30811514152762043,
          -0.17935713963537553,
          -0.14013683057513732,
          -0.13205261209614053,
          -0.14251731560868475,
          0.31204228965442005,
          0.595970720299303,
          2.1156981512320665,
          -0.13687049313071983,
          0.3217113245125751,
          -0.19185773963439182,
          -0.16035073737254651,
          -0.2251071622769151,
          -0.17423758276902132,
          -0.12677147837872954,
          -0.13140059306638202,
          -0.1052063199120365,
          3.1169141965183806,
          -0.10098396668614273,
          -0.22507853684815765,
          -0.19128565117829216,
          -0.01572103801894628,
          -0.1419153085300852,
          -0.14112636465214437,
          0.38783526092531634,
          -0.14380475215395072,
          -0.14419677704600536,
          -0.14703969207217574,
          -0.17313050498618068,
          -0.11896781451671236,
          -0.1207398978000663,
          -0.18571707847162586,
          -0.14040301833100244,
          -0.10233445274394722,
          -0.1392715765383824,
          0.5214658434789456,
          -0.10052455313603056,
          -0.09467744023941589,
          -0.15780302283559366,
          -0.14091659231277645,
          0.5409699032665686,
          -0.19770790684287767,
          -0.17431442835006408,
          -0.17227131143915997,
          -0.12025588494390636,
          -0.15001125013872998,
          -0.16411996004833979,
          0.329674997309781,
          -0.12102785349558055
         ],
         "y": [
          -1.2763168854250238,
          -2.060681872713737,
          -1.16986811611887,
          -2.1946465420068004,
          -2.0607842891356487,
          -2.013626088739408,
          -1.8281609156055942,
          -1.1698551964610575,
          -0.8940539439192962,
          -1.1698744771034224,
          -1.8218439767260672,
          -1.3604477041685135,
          -1.2763419482771063,
          -1.1699293950614862,
          -1.1698938993580819,
          -0.4509937634209988,
          -1.2391140253424642,
          -1.169859812935911,
          -1.1698547313224132,
          -1.169851636161441,
          -0.8940549226773551,
          -1.8245052430077462,
          -1.2807201572860996,
          -1.1725296718341318,
          -1.1698503445862,
          -1.1699252940969231,
          -1.1698562574903772,
          -1.1698518320727285,
          -1.6239371582116362,
          -1.1702684579386067,
          -1.1698603232986218,
          -1.1698691325901158,
          -1.1857877466670013,
          -1.2763158721968182,
          -1.1699298376555334,
          -1.1698503558278623,
          -1.1698469374806861,
          -1.1698552435306468,
          -2.205830296555666,
          -1.1698497250327116,
          -1.176533837789554,
          -1.276317907817601,
          -1.1699066455624125,
          -1.1698566909553345,
          -1.1699629514386636,
          -1.1698638339510334,
          -1.2765724661024236,
          -1.2763215907753045,
          -1.2763257041805858,
          -1.2763511847696727,
          -1.2763122658915373,
          -0.8940472025449298,
          -1.1698506194237983,
          -1.2846125522652323,
          -1.169940040099875,
          -1.276321983089637,
          -2.3089621437360783,
          -2.2791299422380664,
          -1.1698769472678519,
          -1.1705475157250191,
          -1.1698851445091722,
          -1.1698478673896169,
          -1.169877247593262,
          -1.1700890323495992,
          -2.188318284949842,
          -1.821371351839799,
          -1.5853412392962043,
          -1.1698450455537586,
          -1.1733329393414236,
          -2.156679350558604,
          -1.1698467302425009,
          -1.276318636385361,
          -1.2155114357772314,
          -0.8940536446914858,
          -2.1274677200923455,
          -1.2763341650119382,
          -0.8940529297766611,
          -1.1699405407283179,
          -1.1699464819973824,
          -2.0607214057392773,
          -2.2866364070965566,
          -0.8940504467557011,
          -1.2763159016346153,
          -1.1698835677284856,
          -2.105226484239939,
          -1.1698659382605596,
          -1.2800806092157364,
          -0.8940748290668181,
          -2.2277127560306877,
          -1.1699299796620481,
          -2.2400191742596864,
          -1.169854442966652,
          -0.8940556232573889,
          -1.1698467297094166,
          -0.8940595568034674,
          -1.3034463594909098,
          -2.276381847903982,
          -1.2763150380504271,
          -1.8216674225237366,
          -1.1699084529406445,
          -1.2763145685862616,
          -1.1698579491342989,
          -2.170038205823962,
          -2.06072098752963,
          -2.013626655727069,
          -1.1747472930527953,
          -0.8940317406565401,
          -0.8941410961868752,
          -2.2763895008870594,
          -1.1698476820440353,
          -2.2763888015224003,
          -2.1274438310920996,
          -0.9435112275303883,
          -2.194740364859304,
          -1.1698472908184339,
          -0.8945342102025885,
          -2.0136242511546447,
          -1.1698642649887478,
          -2.1274439497194164,
          -2.154141993200734,
          -1.1718115114551724,
          -0.5667576357992425,
          -1.1698577551570073,
          -1.2771308641531458,
          -1.1698779777053563,
          -2.194682050487863,
          -2.188501528510775,
          -2.297368015379142,
          -2.0720137422636964,
          -2.2767923127958003,
          -0.8940859658121673,
          -1.169850379164993,
          -1.1698821921626084,
          -0.8940690262813638,
          -0.894056130111144,
          -2.276401656341533,
          -2.138680840781231,
          -1.2168716767620658,
          -1.1670125039087458,
          -0.8945543382634488,
          -1.2763168635035067,
          -1.175058214143033,
          -1.1240242245928806,
          -1.169853439011331,
          -1.1698827226864286,
          -1.169885796241835,
          -1.169885453456649,
          -2.2764206447304947,
          -2.0223716344884677,
          -0.8940749791843637,
          -1.623849311079508,
          -2.0136229424240493,
          -2.2277663861625734,
          -1.169864218017157,
          -0.8941651714282486,
          -1.6238575376010176,
          -2.0608512695860237,
          -1.6238511596622816,
          -1.821565454365871,
          -2.3123914265674244,
          -2.2763841533749782,
          -2.06551304203995,
          -0.8942948507045255,
          -2.195006767239289,
          -1.1710581912923548,
          -1.2759828014963197,
          -0.8940560621861645,
          -1.6238451533223182,
          -1.623989361121002,
          -1.169863814359296,
          -0.8940562890375593,
          -1.276315754095866,
          -1.283488145620328,
          -0.1388522083940263,
          -2.755709237490913,
          -2.173216945577167,
          -2.276503251928292,
          -1.171605977169177,
          -2.2277149387664466,
          -1.2849269621355517,
          -1.169862487537017,
          -1.1743398232436297,
          -0.894228063602139,
          -2.063863357129322,
          -2.2768500983569115,
          -1.1698557405679402,
          -2.2079703354514773,
          -2.013629912099442,
          -2.1701701554380435,
          -0.8940870352230001,
          -2.2763833916315677,
          -0.5667406016991818,
          -2.127450879532953,
          -2.1656197309121534,
          -2.170032981980102,
          -2.2766771782466093,
          -2.1706762415547227,
          -2.354477428661811,
          -2.091285174617122,
          -2.2766962842733722,
          -1.3026117588973907,
          -2.1656723869786907,
          -0.8940564130157448,
          -1.1698571394268527,
          -2.195515686118837,
          -2.1802519702374696,
          -0.5599250248141187,
          -2.2302719520146246,
          -1.2766816709208573,
          -0.8940583911218467,
          -1.3026499155578046,
          -2.0160333236942445,
          -2.1700673339129137,
          -1.2763168644888023,
          -2.27979171093483,
          -2.21086666229228,
          -2.2108224358228257,
          -2.140134361553924,
          -1.1698948781143816,
          -2.0137370385030535,
          -2.0136253025633395,
          -1.5853887728685851,
          -1.2763272169617845,
          -0.31875657372767296,
          -1.2763684823049493,
          -1.218521437422915,
          -1.624597161345048,
          -2.214282005852725,
          -1.1700929820399495,
          -1.2763256876682827,
          -1.1851851274571956,
          -1.23911683895321,
          -1.169847484092189,
          -1.1699146298354306,
          -1.821392537394766,
          -2.3153082671172203,
          -2.0607206853435067,
          -2.276760316792879,
          -2.013626116461866
         ],
         "z": [
          0.1979272949467673,
          0.3869092142116095,
          -0.0671640720423356,
          0.3753810684930903,
          0.3868958363067233,
          0.3973771915220669,
          0.3953676889775795,
          -0.06714434437187708,
          0.113991463107572,
          -0.06714857549067346,
          0.3991810262525755,
          -0.08866916331377192,
          0.19787589037446462,
          -0.06719201476922118,
          -0.06714922272721152,
          0.07192606544538949,
          0.13883117214031362,
          -0.06715369353264343,
          -0.06714475488675445,
          -0.06714360271522775,
          0.11399331518195552,
          0.3943377236125812,
          0.19144714248553213,
          -0.07144430675208717,
          -0.06714862646461876,
          -0.06722023801320169,
          -0.06714884335972092,
          -0.06714248889759589,
          0.2650476024022787,
          -0.06747120159526791,
          -0.0671640319086715,
          -0.06715736680492203,
          -0.09784051573165932,
          0.1979264007074675,
          -0.06719924400986983,
          -0.06714812241451619,
          -0.0671419238279775,
          -0.06715467953072901,
          0.5328010087817932,
          -0.06714373784585669,
          -0.06865156474890682,
          0.1979281972742041,
          -0.06725508185963515,
          -0.06714302538421041,
          -0.06716239910035547,
          -0.06715164391344974,
          0.19772445188727594,
          0.19791859446452362,
          0.19792470136697674,
          0.19792841274440667,
          0.19793347107892767,
          0.11399539598174316,
          -0.06714937215991763,
          0.1912752732440314,
          -0.06719023969418765,
          0.19791993487819612,
          0.3558803220100424,
          0.41576083249370754,
          -0.06716671397954951,
          -0.06735308729685519,
          -0.0671897526683659,
          -0.06714173461968576,
          -0.06719356670108806,
          -0.06742172101540111,
          0.4311642379040822,
          0.39975216150265847,
          0.06587512904728283,
          -0.06714459237605334,
          -0.0690059211935234,
          0.4787516368882268,
          -0.06714174575723238,
          0.19792884028228033,
          -0.0722992215324229,
          0.11398477534778931,
          0.4868803624965328,
          0.1979263576443281,
          0.11399007393262564,
          -0.06716253144528758,
          -0.06717693444536009,
          0.3869357507239943,
          0.3683818752245467,
          0.11399035314940244,
          0.19792642668822374,
          -0.06721269520428237,
          0.40981558175035615,
          -0.06716599414286085,
          0.19057323716604518,
          0.1139782713673417,
          0.39796407914211157,
          -0.06715115386287758,
          0.43432470305102033,
          -0.0671445152507174,
          0.113990474588789,
          -0.06714174473050467,
          0.11399394619710689,
          0.47149857058364625,
          0.41827180666971303,
          0.19793123038409347,
          0.3994205086604842,
          -0.06718579111215822,
          0.1979303702004082,
          -0.06714636211754818,
          0.37188986920166284,
          0.38693078665487773,
          0.3973776919252771,
          -0.0677576627491393,
          0.11373468556236624,
          0.11396560185842856,
          0.41827312550655965,
          -0.06714194083550648,
          0.41827053175766554,
          0.4868868459027338,
          0.10823772988219657,
          0.3753724594237431,
          -0.06714260518311371,
          0.11393108306546443,
          0.3973775462493405,
          -0.06717537697099626,
          0.48688151518379785,
          0.42494387469353945,
          -0.06738390785067748,
          0.006968865175726814,
          -0.06714926110260579,
          0.1974207388918858,
          -0.06714943901238599,
          0.3753605235156269,
          0.5053678829240245,
          0.3776850689878793,
          0.5661858079856082,
          0.41765075249830397,
          0.11398019420621548,
          -0.0671477444641821,
          -0.06714720186765415,
          0.11398500912125063,
          0.1139939361044633,
          0.4182675472356272,
          0.3773989388923245,
          -0.12446461090637338,
          0.09090451416999466,
          0.11389943451743807,
          0.1979272755996071,
          -0.0677303191224178,
          -0.10758275865512457,
          -0.0671454013060909,
          -0.06715118080362548,
          -0.06715637425034107,
          -0.06715667678039439,
          0.41826706611683295,
          0.3947293760532941,
          0.11313047916157333,
          0.2651227573781821,
          0.397374414695675,
          0.39794899942500744,
          -0.06717541842645672,
          0.11392656612257607,
          0.26512112349944766,
          0.38692036187497275,
          0.2651220170544759,
          0.3995973446285202,
          0.40805659366075986,
          0.4182726060751574,
          0.38623174688896866,
          0.1139421907325308,
          0.37520511810079243,
          -0.06854289012905881,
          0.1372256168711514,
          0.11399343144053596,
          0.2651220526607444,
          0.26501263774741607,
          -0.06715798605062656,
          0.11399205043998371,
          0.1979267085790144,
          0.021165812303502726,
          0.1637366158619405,
          0.34718549935535525,
          0.41760560355733567,
          0.41821786763083485,
          -0.07053007678296823,
          0.3979314165446337,
          0.1910507255817807,
          -0.06714729797030038,
          -0.07227141041705958,
          0.11390795323416582,
          0.38650524360485944,
          0.41819588059561147,
          -0.06714386416243198,
          0.48421636116291245,
          0.39735635358221555,
          0.3718686590225555,
          0.11398113803030434,
          0.4182690184286315,
          0.006967297475772026,
          0.4868850221924918,
          0.3730404577123122,
          0.3718906448241119,
          0.41824091862448337,
          0.41537782117875094,
          0.3962814747308288,
          0.36941826079851986,
          0.4180601297384542,
          0.1962077981799298,
          0.31567601059737754,
          0.1139931481159545,
          -0.06714317572121743,
          0.3752834192068016,
          0.3619396318236522,
          0.14632360035882355,
          0.3768970971259533,
          0.19722194831360826,
          0.11399291740783411,
          0.19620296926967343,
          0.39575673101990233,
          0.3718846441693653,
          0.19792727646919422,
          0.4172936130151983,
          0.456258889139749,
          0.45625933295400567,
          0.4154792369143305,
          -0.06715824148379339,
          0.3973556315522836,
          0.39737161271550653,
          0.0658676676321529,
          0.19791516566461997,
          -0.06111891181384024,
          0.19790019561816363,
          -0.07265688530866207,
          0.26381961054375275,
          0.4558661928188678,
          -0.06741823515872085,
          0.19792468679380362,
          -0.07831074452977331,
          0.1388232786326076,
          -0.06714324497746867,
          -0.06717144528882717,
          0.3997694755623011,
          0.36374150527458354,
          0.3869313686689482,
          0.41791888112827064,
          0.39737721598892667
         ]
        },
        {
         "customdata": [
          [
           "Proof-of-BibleHash"
          ],
          [
           "SHA-256 + Hive"
          ],
          [
           "Proof-of-Authority"
          ],
          [
           "ECC 256K1"
          ],
          [
           "Leased POS"
          ]
         ],
         "hovertemplate": "<b>%{hovertext}</b><br><br>Class=%{marker.color}<br>PC 1=%{x}<br>PC 2=%{y}<br>PC 3=%{z}<br>Algorithm=%{customdata[0]}<extra></extra>",
         "hovertext": [
          "BiblePay",
          "LitecoinCash",
          "Poa Network",
          "Acute Angle Cloud",
          "Waves"
         ],
         "legendgroup": "1",
         "marker": {
          "color": [
           1,
           1,
           1,
           1,
           1
          ],
          "coloraxis": "coloraxis",
          "symbol": "square"
         },
         "mode": "markers",
         "name": "1",
         "scene": "scene",
         "showlegend": true,
         "type": "scatter3d",
         "x": [
          -0.2900880861425128,
          -0.3300075681075827,
          -0.44463989628223205,
          -0.3405932709853612,
          -0.38395220654275525
         ],
         "y": [
          1.8835888976531345,
          3.413585447149667,
          2.6074465770969235,
          3.279915179164457,
          3.547459860603432
         ],
         "z": [
          11.033531429842403,
          8.855580615828092,
          16.739895687235904,
          16.596954933181834,
          14.252558659701123
         ]
        },
        {
         "customdata": [
          [
           "TRC10"
          ]
         ],
         "hovertemplate": "<b>%{hovertext}</b><br><br>Class=%{marker.color}<br>PC 1=%{x}<br>PC 2=%{y}<br>PC 3=%{z}<br>Algorithm=%{customdata[0]}<extra></extra>",
         "hovertext": [
          "BitTorrent"
         ],
         "legendgroup": "2",
         "marker": {
          "color": [
           2
          ],
          "coloraxis": "coloraxis",
          "symbol": "x"
         },
         "mode": "markers",
         "name": "2",
         "scene": "scene",
         "showlegend": true,
         "type": "scatter3d",
         "x": [
          34.03846576819898
         ],
         "y": [
          1.5573116660043596
         ],
         "z": [
          -0.792975726345781
         ]
        }
       ],
       "layout": {
        "coloraxis": {
         "colorbar": {
          "title": {
           "text": "Class"
          }
         },
         "colorscale": [
          [
           0,
           "#0d0887"
          ],
          [
           0.1111111111111111,
           "#46039f"
          ],
          [
           0.2222222222222222,
           "#7201a8"
          ],
          [
           0.3333333333333333,
           "#9c179e"
          ],
          [
           0.4444444444444444,
           "#bd3786"
          ],
          [
           0.5555555555555556,
           "#d8576b"
          ],
          [
           0.6666666666666666,
           "#ed7953"
          ],
          [
           0.7777777777777778,
           "#fb9f3a"
          ],
          [
           0.8888888888888888,
           "#fdca26"
          ],
          [
           1,
           "#f0f921"
          ]
         ]
        },
        "legend": {
         "title": {
          "text": "Class"
         },
         "tracegroupgap": 0,
         "x": 0,
         "y": 1
        },
        "margin": {
         "t": 60
        },
        "scene": {
         "domain": {
          "x": [
           0,
           1
          ],
          "y": [
           0,
           1
          ]
         },
         "xaxis": {
          "title": {
           "text": "PC 1"
          }
         },
         "yaxis": {
          "title": {
           "text": "PC 2"
          }
         },
         "zaxis": {
          "title": {
           "text": "PC 3"
          }
         }
        },
        "template": {
         "data": {
          "bar": [
           {
            "error_x": {
             "color": "#2a3f5f"
            },
            "error_y": {
             "color": "#2a3f5f"
            },
            "marker": {
             "line": {
              "color": "#E5ECF6",
              "width": 0.5
             },
             "pattern": {
              "fillmode": "overlay",
              "size": 10,
              "solidity": 0.2
             }
            },
            "type": "bar"
           }
          ],
          "barpolar": [
           {
            "marker": {
             "line": {
              "color": "#E5ECF6",
              "width": 0.5
             },
             "pattern": {
              "fillmode": "overlay",
              "size": 10,
              "solidity": 0.2
             }
            },
            "type": "barpolar"
           }
          ],
          "carpet": [
           {
            "aaxis": {
             "endlinecolor": "#2a3f5f",
             "gridcolor": "white",
             "linecolor": "white",
             "minorgridcolor": "white",
             "startlinecolor": "#2a3f5f"
            },
            "baxis": {
             "endlinecolor": "#2a3f5f",
             "gridcolor": "white",
             "linecolor": "white",
             "minorgridcolor": "white",
             "startlinecolor": "#2a3f5f"
            },
            "type": "carpet"
           }
          ],
          "choropleth": [
           {
            "colorbar": {
             "outlinewidth": 0,
             "ticks": ""
            },
            "type": "choropleth"
           }
          ],
          "contour": [
           {
            "colorbar": {
             "outlinewidth": 0,
             "ticks": ""
            },
            "colorscale": [
             [
              0,
              "#0d0887"
             ],
             [
              0.1111111111111111,
              "#46039f"
             ],
             [
              0.2222222222222222,
              "#7201a8"
             ],
             [
              0.3333333333333333,
              "#9c179e"
             ],
             [
              0.4444444444444444,
              "#bd3786"
             ],
             [
              0.5555555555555556,
              "#d8576b"
             ],
             [
              0.6666666666666666,
              "#ed7953"
             ],
             [
              0.7777777777777778,
              "#fb9f3a"
             ],
             [
              0.8888888888888888,
              "#fdca26"
             ],
             [
              1,
              "#f0f921"
             ]
            ],
            "type": "contour"
           }
          ],
          "contourcarpet": [
           {
            "colorbar": {
             "outlinewidth": 0,
             "ticks": ""
            },
            "type": "contourcarpet"
           }
          ],
          "heatmap": [
           {
            "colorbar": {
             "outlinewidth": 0,
             "ticks": ""
            },
            "colorscale": [
             [
              0,
              "#0d0887"
             ],
             [
              0.1111111111111111,
              "#46039f"
             ],
             [
              0.2222222222222222,
              "#7201a8"
             ],
             [
              0.3333333333333333,
              "#9c179e"
             ],
             [
              0.4444444444444444,
              "#bd3786"
             ],
             [
              0.5555555555555556,
              "#d8576b"
             ],
             [
              0.6666666666666666,
              "#ed7953"
             ],
             [
              0.7777777777777778,
              "#fb9f3a"
             ],
             [
              0.8888888888888888,
              "#fdca26"
             ],
             [
              1,
              "#f0f921"
             ]
            ],
            "type": "heatmap"
           }
          ],
          "heatmapgl": [
           {
            "colorbar": {
             "outlinewidth": 0,
             "ticks": ""
            },
            "colorscale": [
             [
              0,
              "#0d0887"
             ],
             [
              0.1111111111111111,
              "#46039f"
             ],
             [
              0.2222222222222222,
              "#7201a8"
             ],
             [
              0.3333333333333333,
              "#9c179e"
             ],
             [
              0.4444444444444444,
              "#bd3786"
             ],
             [
              0.5555555555555556,
              "#d8576b"
             ],
             [
              0.6666666666666666,
              "#ed7953"
             ],
             [
              0.7777777777777778,
              "#fb9f3a"
             ],
             [
              0.8888888888888888,
              "#fdca26"
             ],
             [
              1,
              "#f0f921"
             ]
            ],
            "type": "heatmapgl"
           }
          ],
          "histogram": [
           {
            "marker": {
             "pattern": {
              "fillmode": "overlay",
              "size": 10,
              "solidity": 0.2
             }
            },
            "type": "histogram"
           }
          ],
          "histogram2d": [
           {
            "colorbar": {
             "outlinewidth": 0,
             "ticks": ""
            },
            "colorscale": [
             [
              0,
              "#0d0887"
             ],
             [
              0.1111111111111111,
              "#46039f"
             ],
             [
              0.2222222222222222,
              "#7201a8"
             ],
             [
              0.3333333333333333,
              "#9c179e"
             ],
             [
              0.4444444444444444,
              "#bd3786"
             ],
             [
              0.5555555555555556,
              "#d8576b"
             ],
             [
              0.6666666666666666,
              "#ed7953"
             ],
             [
              0.7777777777777778,
              "#fb9f3a"
             ],
             [
              0.8888888888888888,
              "#fdca26"
             ],
             [
              1,
              "#f0f921"
             ]
            ],
            "type": "histogram2d"
           }
          ],
          "histogram2dcontour": [
           {
            "colorbar": {
             "outlinewidth": 0,
             "ticks": ""
            },
            "colorscale": [
             [
              0,
              "#0d0887"
             ],
             [
              0.1111111111111111,
              "#46039f"
             ],
             [
              0.2222222222222222,
              "#7201a8"
             ],
             [
              0.3333333333333333,
              "#9c179e"
             ],
             [
              0.4444444444444444,
              "#bd3786"
             ],
             [
              0.5555555555555556,
              "#d8576b"
             ],
             [
              0.6666666666666666,
              "#ed7953"
             ],
             [
              0.7777777777777778,
              "#fb9f3a"
             ],
             [
              0.8888888888888888,
              "#fdca26"
             ],
             [
              1,
              "#f0f921"
             ]
            ],
            "type": "histogram2dcontour"
           }
          ],
          "mesh3d": [
           {
            "colorbar": {
             "outlinewidth": 0,
             "ticks": ""
            },
            "type": "mesh3d"
           }
          ],
          "parcoords": [
           {
            "line": {
             "colorbar": {
              "outlinewidth": 0,
              "ticks": ""
             }
            },
            "type": "parcoords"
           }
          ],
          "pie": [
           {
            "automargin": true,
            "type": "pie"
           }
          ],
          "scatter": [
           {
            "fillpattern": {
             "fillmode": "overlay",
             "size": 10,
             "solidity": 0.2
            },
            "type": "scatter"
           }
          ],
          "scatter3d": [
           {
            "line": {
             "colorbar": {
              "outlinewidth": 0,
              "ticks": ""
             }
            },
            "marker": {
             "colorbar": {
              "outlinewidth": 0,
              "ticks": ""
             }
            },
            "type": "scatter3d"
           }
          ],
          "scattercarpet": [
           {
            "marker": {
             "colorbar": {
              "outlinewidth": 0,
              "ticks": ""
             }
            },
            "type": "scattercarpet"
           }
          ],
          "scattergeo": [
           {
            "marker": {
             "colorbar": {
              "outlinewidth": 0,
              "ticks": ""
             }
            },
            "type": "scattergeo"
           }
          ],
          "scattergl": [
           {
            "marker": {
             "colorbar": {
              "outlinewidth": 0,
              "ticks": ""
             }
            },
            "type": "scattergl"
           }
          ],
          "scattermapbox": [
           {
            "marker": {
             "colorbar": {
              "outlinewidth": 0,
              "ticks": ""
             }
            },
            "type": "scattermapbox"
           }
          ],
          "scatterpolar": [
           {
            "marker": {
             "colorbar": {
              "outlinewidth": 0,
              "ticks": ""
             }
            },
            "type": "scatterpolar"
           }
          ],
          "scatterpolargl": [
           {
            "marker": {
             "colorbar": {
              "outlinewidth": 0,
              "ticks": ""
             }
            },
            "type": "scatterpolargl"
           }
          ],
          "scatterternary": [
           {
            "marker": {
             "colorbar": {
              "outlinewidth": 0,
              "ticks": ""
             }
            },
            "type": "scatterternary"
           }
          ],
          "surface": [
           {
            "colorbar": {
             "outlinewidth": 0,
             "ticks": ""
            },
            "colorscale": [
             [
              0,
              "#0d0887"
             ],
             [
              0.1111111111111111,
              "#46039f"
             ],
             [
              0.2222222222222222,
              "#7201a8"
             ],
             [
              0.3333333333333333,
              "#9c179e"
             ],
             [
              0.4444444444444444,
              "#bd3786"
             ],
             [
              0.5555555555555556,
              "#d8576b"
             ],
             [
              0.6666666666666666,
              "#ed7953"
             ],
             [
              0.7777777777777778,
              "#fb9f3a"
             ],
             [
              0.8888888888888888,
              "#fdca26"
             ],
             [
              1,
              "#f0f921"
             ]
            ],
            "type": "surface"
           }
          ],
          "table": [
           {
            "cells": {
             "fill": {
              "color": "#EBF0F8"
             },
             "line": {
              "color": "white"
             }
            },
            "header": {
             "fill": {
              "color": "#C8D4E3"
             },
             "line": {
              "color": "white"
             }
            },
            "type": "table"
           }
          ]
         },
         "layout": {
          "annotationdefaults": {
           "arrowcolor": "#2a3f5f",
           "arrowhead": 0,
           "arrowwidth": 1
          },
          "autotypenumbers": "strict",
          "coloraxis": {
           "colorbar": {
            "outlinewidth": 0,
            "ticks": ""
           }
          },
          "colorscale": {
           "diverging": [
            [
             0,
             "#8e0152"
            ],
            [
             0.1,
             "#c51b7d"
            ],
            [
             0.2,
             "#de77ae"
            ],
            [
             0.3,
             "#f1b6da"
            ],
            [
             0.4,
             "#fde0ef"
            ],
            [
             0.5,
             "#f7f7f7"
            ],
            [
             0.6,
             "#e6f5d0"
            ],
            [
             0.7,
             "#b8e186"
            ],
            [
             0.8,
             "#7fbc41"
            ],
            [
             0.9,
             "#4d9221"
            ],
            [
             1,
             "#276419"
            ]
           ],
           "sequential": [
            [
             0,
             "#0d0887"
            ],
            [
             0.1111111111111111,
             "#46039f"
            ],
            [
             0.2222222222222222,
             "#7201a8"
            ],
            [
             0.3333333333333333,
             "#9c179e"
            ],
            [
             0.4444444444444444,
             "#bd3786"
            ],
            [
             0.5555555555555556,
             "#d8576b"
            ],
            [
             0.6666666666666666,
             "#ed7953"
            ],
            [
             0.7777777777777778,
             "#fb9f3a"
            ],
            [
             0.8888888888888888,
             "#fdca26"
            ],
            [
             1,
             "#f0f921"
            ]
           ],
           "sequentialminus": [
            [
             0,
             "#0d0887"
            ],
            [
             0.1111111111111111,
             "#46039f"
            ],
            [
             0.2222222222222222,
             "#7201a8"
            ],
            [
             0.3333333333333333,
             "#9c179e"
            ],
            [
             0.4444444444444444,
             "#bd3786"
            ],
            [
             0.5555555555555556,
             "#d8576b"
            ],
            [
             0.6666666666666666,
             "#ed7953"
            ],
            [
             0.7777777777777778,
             "#fb9f3a"
            ],
            [
             0.8888888888888888,
             "#fdca26"
            ],
            [
             1,
             "#f0f921"
            ]
           ]
          },
          "colorway": [
           "#636efa",
           "#EF553B",
           "#00cc96",
           "#ab63fa",
           "#FFA15A",
           "#19d3f3",
           "#FF6692",
           "#B6E880",
           "#FF97FF",
           "#FECB52"
          ],
          "font": {
           "color": "#2a3f5f"
          },
          "geo": {
           "bgcolor": "white",
           "lakecolor": "white",
           "landcolor": "#E5ECF6",
           "showlakes": true,
           "showland": true,
           "subunitcolor": "white"
          },
          "hoverlabel": {
           "align": "left"
          },
          "hovermode": "closest",
          "mapbox": {
           "style": "light"
          },
          "paper_bgcolor": "white",
          "plot_bgcolor": "#E5ECF6",
          "polar": {
           "angularaxis": {
            "gridcolor": "white",
            "linecolor": "white",
            "ticks": ""
           },
           "bgcolor": "#E5ECF6",
           "radialaxis": {
            "gridcolor": "white",
            "linecolor": "white",
            "ticks": ""
           }
          },
          "scene": {
           "xaxis": {
            "backgroundcolor": "#E5ECF6",
            "gridcolor": "white",
            "gridwidth": 2,
            "linecolor": "white",
            "showbackground": true,
            "ticks": "",
            "zerolinecolor": "white"
           },
           "yaxis": {
            "backgroundcolor": "#E5ECF6",
            "gridcolor": "white",
            "gridwidth": 2,
            "linecolor": "white",
            "showbackground": true,
            "ticks": "",
            "zerolinecolor": "white"
           },
           "zaxis": {
            "backgroundcolor": "#E5ECF6",
            "gridcolor": "white",
            "gridwidth": 2,
            "linecolor": "white",
            "showbackground": true,
            "ticks": "",
            "zerolinecolor": "white"
           }
          },
          "shapedefaults": {
           "line": {
            "color": "#2a3f5f"
           }
          },
          "ternary": {
           "aaxis": {
            "gridcolor": "white",
            "linecolor": "white",
            "ticks": ""
           },
           "baxis": {
            "gridcolor": "white",
            "linecolor": "white",
            "ticks": ""
           },
           "bgcolor": "#E5ECF6",
           "caxis": {
            "gridcolor": "white",
            "linecolor": "white",
            "ticks": ""
           }
          },
          "title": {
           "x": 0.05
          },
          "xaxis": {
           "automargin": true,
           "gridcolor": "white",
           "linecolor": "white",
           "ticks": "",
           "title": {
            "standoff": 15
           },
           "zerolinecolor": "white",
           "zerolinewidth": 2
          },
          "yaxis": {
           "automargin": true,
           "gridcolor": "white",
           "linecolor": "white",
           "ticks": "",
           "title": {
            "standoff": 15
           },
           "zerolinecolor": "white",
           "zerolinewidth": 2
          }
         }
        },
        "width": 800
       }
      },
      "text/html": [
       "<div>                            <div id=\"4e3fe97c-4bd6-4371-9c90-b83254500481\" class=\"plotly-graph-div\" style=\"height:525px; width:800px;\"></div>            <script type=\"text/javascript\">                require([\"plotly\"], function(Plotly) {                    window.PLOTLYENV=window.PLOTLYENV || {};                                    if (document.getElementById(\"4e3fe97c-4bd6-4371-9c90-b83254500481\")) {                    Plotly.newPlot(                        \"4e3fe97c-4bd6-4371-9c90-b83254500481\",                        [{\"customdata\":[[\"Scrypt\"],[\"Scrypt\"],[\"X13\"],[\"X11\"],[\"SHA-512\"],[\"SHA-256\"],[\"SHA-256\"],[\"X15\"],[\"Scrypt\"],[\"Scrypt\"],[\"Scrypt\"],[\"Scrypt\"],[\"Scrypt\"],[\"Scrypt\"],[\"Groestl\"],[\"PoS\"],[\"Scrypt\"],[\"Scrypt\"],[\"X11\"],[\"X11\"],[\"SHA3\"],[\"Scrypt\"],[\"SHA-256\"],[\"Scrypt\"],[\"X13\"],[\"X13\"],[\"NeoScrypt\"],[\"Scrypt\"],[\"Scrypt\"],[\"Scrypt\"],[\"X11\"],[\"X11\"],[\"Multiple\"],[\"PHI1612\"],[\"X11\"],[\"Scrypt\"],[\"Scrypt\"],[\"Scrypt\"],[\"X11\"],[\"Multiple\"],[\"X13\"],[\"Scrypt\"],[\"Shabal256\"],[\"Counterparty\"],[\"SHA-256\"],[\"Groestl\"],[\"Scrypt\"],[\"X13\"],[\"Scrypt\"],[\"Scrypt\"],[\"X13\"],[\"X11\"],[\"Scrypt\"],[\"X11\"],[\"SHA3\"],[\"QUAIT\"],[\"X11\"],[\"Scrypt\"],[\"X13\"],[\"SHA-256\"],[\"X15\"],[\"BLAKE256\"],[\"SHA-256\"],[\"X11\"],[\"SHA-256\"],[\"NIST5\"],[\"Scrypt\"],[\"Scrypt\"],[\"X11\"],[\"Scrypt\"],[\"SHA-256\"],[\"Scrypt\"],[\"PoS\"],[\"X11\"],[\"SHA-256\"],[\"SHA-256\"],[\"NIST5\"],[\"X11\"],[\"POS 3.0\"],[\"Scrypt\"],[\"Scrypt\"],[\"Scrypt\"],[\"X13\"],[\"X11\"],[\"X11\"],[\"Scrypt\"],[\"SHA-256\"],[\"X11\"],[\"Scrypt\"],[\"Scrypt\"],[\"Scrypt\"],[\"Scrypt\"],[\"SHA-256D\"],[\"PoS\"],[\"Scrypt\"],[\"X11\"],[\"PoS\"],[\"X13\"],[\"X14\"],[\"PoS\"],[\"SHA-256D\"],[\"DPoS\"],[\"X11\"],[\"X13\"],[\"X11\"],[\"PoS\"],[\"Scrypt\"],[\"Scrypt\"],[\"PoS\"],[\"X11\"],[\"SHA-256\"],[\"Scrypt\"],[\"X11\"],[\"Scrypt\"],[\"Scrypt\"],[\"X11\"],[\"Scrypt\"],[\"Scrypt\"],[\"Scrypt\"],[\"Scrypt\"],[\"Quark\"],[\"QuBit\"],[\"Scrypt\"],[\"SHA-256\"],[\"X11\"],[\"Scrypt\"],[\"Scrypt\"],[\"Scrypt\"],[\"Scrypt\"],[\"X13\"],[\"Scrypt\"],[\"Scrypt\"],[\"X11\"],[\"Blake2S\"],[\"X11\"],[\"PoS\"],[\"X11\"],[\"PoS\"],[\"X11\"],[\"Scrypt\"],[\"Scrypt\"],[\"Scrypt\"],[\"SHA-256\"],[\"X11\"],[\"Scrypt\"],[\"PoS\"],[\"Scrypt\"],[\"X15\"],[\"SHA-256\"],[\"POS 3.0\"],[\"536\"],[\"NIST5\"],[\"NIST5\"],[\"Skein\"],[\"X13\"],[\"Scrypt\"],[\"X13\"],[\"SkunkHash v2 Raptor\"],[\"Skein\"],[\"X11\"],[\"Scrypt\"],[\"VeChainThor Authority\"],[\"PoS\"],[\"Scrypt\"],[\"Scrypt\"],[\"SHA-512\"],[\"Ouroboros\"],[\"X11\"],[\"NeoScrypt\"],[\"Scrypt\"],[\"Lyra2REv2\"],[\"Scrypt\"],[\"SHA-256\"],[\"NIST5\"],[\"PHI1612\"],[\"Scrypt\"],[\"Quark\"],[\"POS 2.0\"],[\"Scrypt\"],[\"SHA-256\"],[\"X11\"],[\"DPoS\"],[\"NIST5\"],[\"X13\"],[\"Scrypt\"],[\"NIST5\"],[\"Quark\"],[\"Scrypt\"],[\"Scrypt\"],[\"X11\"],[\"Quark\"],[\"Scrypt\"],[\"Scrypt\"],[\"X11\"],[\"POS 3.0\"],[\"Scrypt\"],[\"Scrypt\"],[\"X13\"],[\"C11\"],[\"X11\"],[\"XEVAN\"],[\"Scrypt\"],[\"VBFT\"],[\"NIST5\"],[\"Scrypt\"],[\"Scrypt\"],[\"Scrypt\"],[\"Green Protocol\"],[\"PoS\"],[\"Scrypt\"],[\"Semux BFT consensus\"],[\"Quark\"],[\"PoS\"],[\"X16R\"],[\"Scrypt\"],[\"XEVAN\"],[\"Scrypt\"],[\"Scrypt\"],[\"Scrypt\"],[\"SHA-256D\"],[\"Scrypt\"],[\"X15\"],[\"Scrypt\"],[\"Quark\"],[\"SHA-256\"],[\"DPoS\"],[\"X16R\"],[\"Quark\"],[\"Quark\"],[\"Scrypt\"],[\"Lyra2REv2\"],[\"Quark\"],[\"Scrypt\"],[\"X11\"],[\"X11\"],[\"Scrypt\"],[\"PoS\"],[\"Keccak\"],[\"X11\"],[\"Scrypt\"],[\"SHA-512\"],[\"XEVAN\"],[\"XEVAN\"],[\"X11\"],[\"Quark\"],[\"Equihash\"],[\"Scrypt\"],[\"Quark\"],[\"Quark\"],[\"Scrypt\"],[\"X11\"],[\"Scrypt\"],[\"XEVAN\"],[\"SHA-256D\"],[\"X11\"],[\"X11\"],[\"DPoS\"],[\"Scrypt\"],[\"X11\"],[\"Scrypt\"],[\"Scrypt\"],[\"SHA-256\"],[\"Scrypt\"],[\"X11\"],[\"Scrypt\"],[\"SHA-256\"],[\"X11\"],[\"Scrypt\"],[\"Scrypt\"],[\"X11\"],[\"Scrypt\"],[\"PoS\"],[\"X11\"],[\"SHA-256\"],[\"DPoS\"],[\"Scrypt\"],[\"Scrypt\"],[\"NeoScrypt\"],[\"X13\"],[\"DPoS\"],[\"DPoS\"],[\"SHA-256\"],[\"PoS\"],[\"PoS\"],[\"SHA-256\"],[\"Scrypt\"],[\"Scrypt\"]],\"hovertemplate\":\"<b>%{hovertext}</b><br><br>Class=%{marker.color}<br>PC 1=%{x}<br>PC 2=%{y}<br>PC 3=%{z}<br>Algorithm=%{customdata[0]}<extra></extra>\",\"hovertext\":[\"42 Coin\",\"404Coin\",\"EliteCoin\",\"Dash\",\"Bitshares\",\"BitcoinDark\",\"PayCoin\",\"KoboCoin\",\"Aurora Coin\",\"BlueCoin\",\"EnergyCoin\",\"BitBar\",\"CryptoBullion\",\"CasinoCoin\",\"Diamond\",\"Exclusive Coin\",\"FlutterCoin\",\"HoboNickels\",\"HyperStake\",\"IOCoin\",\"MaxCoin\",\"MintCoin\",\"MazaCoin\",\"Nautilus Coin\",\"NavCoin\",\"OpalCoin\",\"Orbitcoin\",\"PotCoin\",\"PhoenixCoin\",\"Reddcoin\",\"SuperCoin\",\"SyncCoin\",\"TeslaCoin\",\"TittieCoin\",\"TorCoin\",\"UnitaryStatus Dollar\",\"UltraCoin\",\"VeriCoin\",\"X11 Coin\",\"Crypti\",\"StealthCoin\",\"ZCC Coin\",\"BurstCoin\",\"StorjCoin\",\"Neutron\",\"FairCoin\",\"RubyCoin\",\"Kore\",\"Dnotes\",\"8BIT Coin\",\"Sativa Coin\",\"Ucoin\",\"Vtorrent\",\"IslaCoin\",\"Nexus\",\"Droidz\",\"Squall Coin\",\"Diggits\",\"Paycon\",\"Emercoin\",\"EverGreenCoin\",\"Decred\",\"EDRCoin\",\"Hitcoin\",\"DubaiCoin\",\"PWR Coin\",\"BillaryCoin\",\"GPU Coin\",\"EuropeCoin\",\"ZeitCoin\",\"SwingCoin\",\"SafeExchangeCoin\",\"Nebuchadnezzar\",\"Ratecoin\",\"Revenu\",\"Clockcoin\",\"VIP Tokens\",\"BitSend\",\"Let it Ride\",\"PutinCoin\",\"iBankCoin\",\"Frankywillcoin\",\"MudraCoin\",\"Lutetium Coin\",\"GoldBlocks\",\"CarterCoin\",\"BitTokens\",\"MustangCoin\",\"ZoneCoin\",\"RootCoin\",\"BitCurrency\",\"Swiscoin\",\"BuzzCoin\",\"Opair\",\"PesoBit\",\"Halloween Coin\",\"CoffeeCoin\",\"RoyalCoin\",\"GanjaCoin V2\",\"TeamUP\",\"LanaCoin\",\"ARK\",\"InsaneCoin\",\"EmberCoin\",\"XenixCoin\",\"FreeCoin\",\"PLNCoin\",\"AquariusCoin\",\"Creatio\",\"Eternity\",\"Eurocoin\",\"BitcoinFast\",\"Stakenet\",\"BitConnect Coin\",\"MoneyCoin\",\"Enigma\",\"Russiacoin\",\"PandaCoin\",\"GameUnits\",\"GAKHcoin\",\"Allsafe\",\"LiteCreed\",\"Klingon Empire Darsek\",\"Internet of People\",\"KushCoin\",\"Printerium\",\"Impeach\",\"Zilbercoin\",\"FirstCoin\",\"FindCoin\",\"OpenChat\",\"RenosCoin\",\"VirtacoinPlus\",\"TajCoin\",\"Impact\",\"Atmos\",\"HappyCoin\",\"MacronCoin\",\"Condensate\",\"Independent Money System\",\"ArgusCoin\",\"LomoCoin\",\"ProCurrency\",\"GoldReserve\",\"GrowthCoin\",\"Phreak\",\"Degas Coin\",\"HTML5 Coin\",\"Ultimate Secure Cash\",\"QTUM\",\"Espers\",\"Denarius\",\"Virta Unique Coin\",\"Bitcoin Planet\",\"BritCoin\",\"Linda\",\"DeepOnion\",\"Signatum\",\"Cream\",\"Monoeci\",\"Draftcoin\",\"Vechain\",\"Stakecoin\",\"CoinonatX\",\"Ethereum Dark\",\"Obsidian\",\"Cardano\",\"Regalcoin\",\"TrezarCoin\",\"TerraNovaCoin\",\"Rupee\",\"WomenCoin\",\"Theresa May Coin\",\"NamoCoin\",\"LUXCoin\",\"Xios\",\"Bitcloud 2.0\",\"KekCoin\",\"BlackholeCoin\",\"Infinity Economics\",\"Magnet\",\"Lamden Tau\",\"Electra\",\"Bitcoin Diamond\",\"Cash & Back Coin\",\"Bulwark\",\"Kalkulus\",\"GermanCoin\",\"LiteCoin Ultra\",\"PhantomX\",\"Digiwage\",\"Trollcoin\",\"Litecoin Plus\",\"Monkey Project\",\"TokenPay\",\"My Big Coin\",\"Unified Society USDEX\",\"Tokyo Coin\",\"Stipend\",\"Pushi\",\"Ellerium\",\"Velox\",\"Ontology\",\"Bitspace\",\"Briacoin\",\"Ignition\",\"MedicCoin\",\"Bitcoin Green\",\"Deviant Coin\",\"Abjcoin\",\"Semux\",\"Carebit\",\"Zealium\",\"Proton\",\"iDealCash\",\"Bitcoin Incognito\",\"HollyWoodCoin\",\"Swisscoin\",\"Xt3ch\",\"TheVig\",\"EmaratCoin\",\"Dekado\",\"Lynx\",\"Poseidon Quark\",\"BitcoinWSpectrum\",\"Muse\",\"Trivechain\",\"Dystem\",\"Giant\",\"Peony Coin\",\"Absolute Coin\",\"Vitae\",\"TPCash\",\"ARENON\",\"EUNO\",\"MMOCoin\",\"Ketan\",\"XDNA\",\"PAXEX\",\"ThunderStake\",\"Kcash\",\"Bettex coin\",\"BitMoney\",\"Junson Ming Chan Coin\",\"HerbCoin\",\"PirateCash\",\"Oduwa\",\"Galilel\",\"Crypto Sports\",\"Credit\",\"Dash Platinum\",\"Nasdacoin\",\"Beetle Coin\",\"Titan Coin\",\"Award\",\"Insane Coin\",\"ALAX\",\"LiteDoge\",\"TruckCoin\",\"OrangeCoin\",\"BitstarCoin\",\"NeosCoin\",\"HyperCoin\",\"PinkCoin\",\"AudioCoin\",\"IncaKoin\",\"Piggy Coin\",\"Genstake\",\"XiaoMiCoin\",\"CapriCoin\",\" ClubCoin\",\"Radium\",\"Creditbit \",\"OKCash\",\"Lisk\",\"HiCoin\",\"WhiteCoin\",\"FriendshipCoin\",\"Triangles Coin\",\"EOS\",\"Oxycoin\",\"TigerCash\",\"Particl\",\"Nxt\",\"ZEPHYR\",\"Gapcoin\",\"BitcoinPlus\"],\"legendgroup\":\"0\",\"marker\":{\"color\":[0,0,0,0,0,0,0,0,0,0,0,0,0,0,0,0,0,0,0,0,0,0,0,0,0,0,0,0,0,0,0,0,0,0,0,0,0,0,0,0,0,0,0,0,0,0,0,0,0,0,0,0,0,0,0,0,0,0,0,0,0,0,0,0,0,0,0,0,0,0,0,0,0,0,0,0,0,0,0,0,0,0,0,0,0,0,0,0,0,0,0,0,0,0,0,0,0,0,0,0,0,0,0,0,0,0,0,0,0,0,0,0,0,0,0,0,0,0,0,0,0,0,0,0,0,0,0,0,0,0,0,0,0,0,0,0,0,0,0,0,0,0,0,0,0,0,0,0,0,0,0,0,0,0,0,0,0,0,0,0,0,0,0,0,0,0,0,0,0,0,0,0,0,0,0,0,0,0,0,0,0,0,0,0,0,0,0,0,0,0,0,0,0,0,0,0,0,0,0,0,0,0,0,0,0,0,0,0,0,0,0,0,0,0,0,0,0,0,0,0,0,0,0,0,0,0,0,0,0,0,0,0,0,0,0,0,0,0,0,0,0,0,0,0,0,0,0,0,0,0,0,0,0,0,0,0,0,0,0,0,0,0,0,0,0,0,0,0,0,0,0,0,0,0,0,0,0,0,0,0,0,0,0,0,0,0,0],\"coloraxis\":\"coloraxis\",\"symbol\":\"circle\"},\"mode\":\"markers\",\"name\":\"0\",\"scene\":\"scene\",\"showlegend\":true,\"x\":[-0.34061579744648857,-0.3239679983417739,2.315097787601181,-0.39125506599406873,-0.27821255205192763,-0.3075274072702193,-0.2715056198150072,-0.22120379066466364,-0.34027564062130394,-0.33286094546763934,-0.3391139128121046,-0.34061173528816324,-0.34059603001042416,0.6502353391613013,-0.36547945730290476,-0.3703814593205356,-0.294026989312118,-0.3386759683758114,-0.33507771784254775,-0.39114987026396514,-0.4094177161987986,-0.04478161045694169,-0.27085943685935826,-0.3043452257975399,-0.26776134997153056,-0.2683829198056935,-0.3416866553389557,-0.33492180831972385,-0.33901869245543237,0.017157819991505296,-0.35494389812831356,-0.391521170490044,-0.24887405091290835,-0.3274463782540566,-0.3914328509318352,-0.3158653178937274,-0.33929405285798103,-0.2877569897157932,-0.3913973859603401,-0.24934180913062676,-0.2681640083127311,-0.33172305437647714,-0.0018233616013503583,-0.35067688279132214,-0.3067397017098568,-0.36490163628089317,-0.30432558639196183,-0.2684581691359,-0.29898261309999,-0.3405978844028672,-0.2684104136981643,-0.3553881857389734,-0.3403324389110276,-0.3915027183650844,-0.40911614656765094,-0.3872408650813102,-0.32175747926280673,-0.302728266073028,-0.26793234247910575,-0.30008689315931336,-0.22364434655905693,-0.0685662867302476,-0.3074983511000574,-0.06916945872030236,-0.30756203755508604,-0.2230776013535919,-0.3402083368004563,-0.302596841076029,-0.38867291014260713,0.8481249440290772,-0.3073621584666374,-0.07997214893340684,-0.3700649585257314,-0.38934755600715526,-0.3061060808578799,-0.30377520093408855,-0.34431112367660266,-0.39023851604194404,-0.3535022829655277,-0.31651936378792517,-0.3402463836993134,-0.33868671244841586,-0.23113109622587372,-0.34288865180517,-0.39097691509159516,-0.3394511995502133,-0.30754295671732435,-0.3914919060871282,-0.34043546791894497,-0.34059212342543244,-0.3025875331346394,-0.27878910778377197,0.044018417735079626,-0.36902283960370424,-0.34020667672919197,-0.3776610401384931,-0.3683523381946161,-0.23256121549104977,-0.3845818958347819,-0.36810023438247946,-0.2702467077727083,3.736554681073149,-0.39108473306815683,0.8625972016795452,-0.3914468579610453,-0.36948623278324316,-0.3401341139774364,-0.3402882642581278,-0.3700649585257314,-0.3910219203377696,-0.3074057757509053,-0.3401348766761596,-0.3756687645333923,-0.3402821408092903,-0.3358716052649991,-0.3914758163246795,-0.33949307690782604,0.3384271419933093,-0.3404812869088484,-0.3405518338416779,-0.3645705747946373,-0.3518601830573952,-0.3367800003333647,-0.3075193946472356,-0.3913858386625261,-0.3403297905221577,-0.3404566035699489,-0.3042319185400349,-0.3247631117173699,-0.2323292481796949,-0.321324940173771,-0.30397341769620545,-0.3906518870088712,-0.41258057675728793,-0.3893915041601907,-0.3683128639577187,-0.3905498771496998,-0.3627170853643281,-0.3864930407947314,-0.34039995197353395,-0.340399105996723,-0.33352305762367457,0.2609843750947429,-0.3910281630840474,-0.2868821768034813,-0.37009916771306783,-0.33961103416638866,0.9100132333943114,-0.2701964424755758,-0.3522815580454865,0.6154187592595688,-0.34584559333722414,-0.344348812658619,-0.41241357995552946,-0.2680957317836301,0.12410245103956061,-0.268166486678925,-0.3282725374029957,-0.411918974173751,-0.3913004193084373,-0.3043062316436785,4.475045808454896,-0.36996542212415123,-0.34003538835262803,-0.3405347766527615,-0.3362344699810242,0.6106177772414739,-0.39124122075186174,-0.33668906253144626,-0.34049038003358867,-0.31950127547581914,0.4279602063997319,-0.305866970846391,-0.3306221653423822,-0.3989767581030509,-0.34044074358338466,-0.39897154374533167,-0.35629003096614226,-0.34031130699874185,-0.09812287387276429,-0.390034531955472,3.7414075690681865,0.21322125196027503,-0.2648398077774003,-0.3377732167698677,-0.30965083619846334,-0.3644565709321416,0.0736571555613779,-0.33945005024373476,-0.39061554398747766,-0.3636216676688539,-0.3270248522044205,-0.3405568864028094,-0.35536013908560954,-0.35378395210744606,-0.31411825166341745,-0.3361055827289373,-0.22412951556466018,-0.37140508440761827,-0.3913175693400715,-0.2726484382640252,-0.30346654664999706,-0.33348614551763195,-0.3454447662529547,-0.3405842179915964,-0.3405659378032264,-0.2978518730901832,-0.3662766003849783,-0.36956016482817283,-0.3402826152807068,3.918905015596035,-0.3976409415340613,-0.36974867977289916,-0.32198653614248296,-0.28718173464090746,-0.2030371524823939,-0.3040007128785327,-0.14384904581073224,-0.30425242159087035,-0.3355316569873987,-0.3397569175370452,-0.18703000203607398,2.2022241910724825,-0.3601657706462889,-0.2703245363436137,1.0210970037678693,-0.3572820306622273,-0.3645699811012898,-0.4006549359278169,-0.18502217666002138,-0.35538793972606497,-0.3632904357026368,-0.3334632105413372,-0.35493781111676653,-0.3907913224373752,-0.30149965196060735,-0.36884875123563354,-0.32321410102021275,-0.3547991061099423,-0.20012039251731126,-0.3128877718615556,-0.23668314021960432,0.6394152876278436,-0.14552905777975228,-0.3999500458074573,-0.2506029891557122,-0.340286630390362,-0.4004058705042816,-0.3646868756991906,0.5656684962062818,-0.3554144047217881,-0.33976976627934113,-0.2671075494499798,-0.29027338581631684,-0.3883566118333066,-0.39101842574535417,3.7536391873507284,0.09437161140392863,-0.3885607643014035,-0.33915530239684316,-0.3399801842393772,-0.27153817300418176,-0.34049825697737085,-0.3826525172404777,-0.25423701864953685,-0.08741223825952944,-0.3784027318142567,-0.33977724550528,-0.3328467758082534,-0.3875896766647984,-0.3382173119650599,-0.37034036061866005,-0.3848644181439505,-0.30604358273513016,3.736946267668194,-0.11168317000018899,-0.3354142754640651,-0.341312613755555,-0.2685653229244776,3.746803278697795,3.748046129083936,-0.2524497384142339,-0.37027629520931643,-0.3890738462709848,2.480442639328122,-0.3386619168603686,-0.3046486991119598],\"y\":[0.9976401123075874,0.997714154216637,1.7021774349586676,1.2734311181426015,1.5173917022952725,0.8911640205157731,0.6455498862390705,1.9505914955172985,0.9976375999851949,0.9978437157276479,0.9976795442694303,0.9976398777798605,0.9976399489131988,0.3830663275181794,0.928397410571865,1.533496517759719,0.18368360296908415,0.9976091525120075,1.0283546976748963,1.27343388005314,2.0570075042570877,0.7588408613674072,0.8904908481829956,0.7520149854260487,1.848752002924075,1.8487356836279014,0.5436486499517658,0.9975029929279796,0.9976151674642425,1.0070334472524467,1.027833111745039,1.2734391440571446,0.10044831925440877,1.5958699822759774,1.2734346394021931,0.9971980690591836,0.9976065730527445,0.22604847350596963,1.2734386414079373,0.1005042799228456,1.8487414311421686,0.9971911745666984,0.8454040383198496,1.5199017321499861,0.8911533105431979,0.928415570228445,0.7520265425562623,1.8487255189616736,0.7518256139220219,0.9976405826426396,1.8487281376120785,1.0278077986588845,0.9976339035764572,1.2734396291995138,2.2671646440217055,1.9739198957524378,0.9693954645017948,0.7520002385047704,1.8487133926984785,0.8906919676832281,1.9507483183715228,0.9265275840365428,0.891164783384594,1.2637843217649205,0.8911709590879838,1.6039762712065704,0.997622148711397,0.7519210807558461,1.2732518778053308,0.7147248654093419,0.8911560756216467,0.3897259332373282,1.533491179148889,1.2734450316843469,0.8910643593524201,0.8909192790964722,1.6007318714632237,1.2733779649039103,1.4489296715949387,0.9969079305229854,0.9976195574864459,0.997622518755829,1.603010877663046,1.0277012742416978,1.2734193133249279,0.9976092713359037,0.8911642946819907,1.273437865826161,0.9976305161366849,0.9976407338969185,0.7520721750891056,0.10611268051541997,1.9985859567065491,1.5334816894593681,0.997650853787636,1.2727794173370433,1.5335224956815663,1.6031081070926405,1.983322995174784,1.533351003894685,1.9988610470504804,1.9178869151913254,1.2734301308964968,1.877849476662818,1.2734384662390403,1.5334859010811444,0.9976264585901836,0.9976200502185449,1.533491179148889,1.2734113075490723,0.8911685787803444,0.9976302191527153,0.8292060793109371,0.9976297648198725,0.997320649973864,1.2734369234294505,0.9975713213586312,0.7467132806096088,0.9976347724922084,0.9976395289496792,1.470906047168602,0.58211400991505,0.9973996128394997,0.8911649133033893,1.2734363145488545,0.9976339731098225,0.9976293242990445,0.7519914688976882,0.14534646954655245,1.6031059915150982,0.997464176723488,0.7520122955765876,1.2733937261041115,2.0057026832401434,1.2734199932510566,1.5334755649336784,1.2733964043697108,1.5334247790714135,1.2732299498967317,0.9976313038518382,0.9976262844527334,0.9971439155388465,0.6083576901351776,1.273424791975073,0.7511196858082069,1.5334834568232132,0.9975948386363247,1.9191129271946705,0.64545624810354,1.4489163409945098,2.0210709708470147,1.60074617732764,1.6007104094465445,1.9135597692207773,1.8487227512466038,0.9757204523670917,1.8487284696385347,1.501027754397,1.9135727550798045,1.2734384526366194,0.75201517264799,3.4566577330790045,1.5334654039732831,0.9976224229997012,0.997639373385494,1.5182630619287099,1.2813036166496368,1.2734280695667175,0.5435094677194827,0.9976326684810913,0.6372729754296674,1.0007586394253416,0.8911543867376179,1.6003337923624001,1.842086935407881,0.9976303776242832,1.7164429718955543,1.4073128100400867,0.9976380149603644,0.6439688268128463,1.2733799084173194,1.9177584214401504,1.5949587900286732,1.8486854004656073,0.9975714367456587,1.3551180116356432,1.4709056282541004,0.9743960127430465,0.9975683565235931,1.2734288011117425,1.4708593069671256,0.9973827673604228,0.9976389293780027,1.027807852606419,1.4489280769204707,0.1313028815583645,0.9976002072622057,1.6027852540668655,0.8840001911616366,1.2734274298698796,1.6076315716650071,0.7519644769768397,1.4817826649497943,1.6007294043717446,0.9976388942044658,0.9976380093173179,0.7518553014649195,1.5435777296631203,1.533458028172362,0.9976283875297299,1.9099981163023654,1.7164779068141773,1.5334585380501415,0.6192401231550608,0.9955477181555977,1.3036105042688817,0.7520173292721601,0.9958455692817758,0.7519984371717501,2.002200969058483,0.9976053392186409,1.7050997874123783,0.12868981133057447,1.470588360711954,0.6455210051751045,1.689072302679139,0.8648541867928353,1.47090196825727,1.7165317426513784,0.7436396600093251,0.8828776914491572,1.4708816517809407,0.9971454868220851,1.0277957386542942,1.2734241860541458,0.7519233090962691,1.5333934515060053,1.0020577778323165,1.0277686716093382,0.9890453185174993,1.6820023871612164,1.3620162954688533,1.5061813032588882,1.0333312917000117,1.716516914157586,-0.09180137712420407,0.9976344238612512,1.7165288065043316,1.4709041060308838,0.9703898267106694,1.027807315005264,0.9976050018753216,1.607476784283803,2.0000453828939904,1.273235615214965,1.2734318717931423,1.9177383539604536,0.9851761169494906,1.2735168701096347,0.9975419742961508,0.9976197750723288,0.6455432310162568,0.997643198357519,1.2733307827201716,0.9927426116386608,0.8968284912940463,1.2731011524733788,0.9976518922438958,0.9975711211694991,1.2734004233618714,0.9975938978632344,1.5334914550567291,0.7562470208956545,0.8911463377158352,1.9178733673941386,0.7502541689198199,0.9975719531934412,0.5436199833794154,1.8487308127498594,1.9182412938520326,1.9182739248492857,0.645376311547974,1.533493386760893,1.759604122423127,0.8740392178438205,0.9975208072949139,0.7520173768256478],\"z\":[-0.6285863671419143,-0.6289145903055102,-0.6484555469979901,-0.4474528812196131,-0.11602351314759687,-0.363512887206671,-0.02527305341996234,-0.6038548423820546,-0.6285924356715705,-0.6287660602816039,-0.6286211683727417,-0.628586407199597,-0.6285867170436656,-0.3645712613374683,-0.42259611803690655,-0.02822341446839499,-0.6007542464147133,-0.6286183385363098,-0.10968143797022382,-0.4474553187839392,-0.598482027935781,-0.29636580198970863,-0.3641032942739782,-0.29034952087381594,-0.6225819833570938,-0.6225675805248383,-0.2963205042572599,-0.6286728844338876,-0.6286127762904994,-0.6368765915335987,-0.10922110471965056,-0.4474490942719715,0.17653976947497194,-0.18123718278796208,-0.4474500594151769,-0.628986841196773,-0.6286061794248171,-0.41975998559946265,-0.44745136786482564,0.17653979343387838,-0.6225726530771706,-0.6286842791963266,-0.1106595043731112,-0.15497080777963512,-0.3635261648806082,-0.4226099808227028,-0.2903517257863178,-0.622564539094096,-0.2904214576018379,-0.628586782222193,-0.622565861964889,-0.10920864685939614,-0.6285907700873583,-0.4474495219472987,-0.37316432348668777,-0.7599196255782595,0.060546957582276406,-0.290377923623962,-0.6225726137712649,-0.36357952789200837,-0.6038332982543454,-0.41066864981688034,-0.36351356048764744,-0.4520472044895053,-0.36351332846550855,-0.5573179635709209,-0.628591266489599,-0.29036787736978653,-0.44747356460901594,-0.30634932030233303,-0.363514769639749,-0.3517447819727182,-0.028228585371931045,-0.4474913496346099,-0.3635241137622312,-0.36354543379716403,-0.5544990429518661,-0.4474637831028482,-0.010574505449884657,-0.628928426654503,-0.6285901325329118,-0.6286202525370572,-0.2843335917733936,-0.10942939210962031,-0.44745629830710537,-0.6286036195477784,-0.36351263504744524,-0.447449448042321,-0.6285882745817156,-0.6285869157138573,-0.2903919994420537,-0.45002406015774354,-0.7152633468761828,-0.028246893053308717,-0.6285958471706367,-0.4476080352776322,-0.028266106755241154,-0.2843218126818654,-0.6840426395158549,-0.02824372180134381,-0.7093324890121028,-0.18595055109181707,-0.44745596294007706,-0.6486823914416243,-0.4474503995986162,-0.02823875099474632,-0.6285933605508336,-0.628589414434203,-0.028228585371931045,-0.4474541739792505,-0.36351592191216403,-0.6285939420175084,0.04481229103860875,-0.6285910703964,-0.628625930629544,-0.44744960457361327,-0.6285968091881514,-0.30172897983679925,-0.6285880780613275,-0.6285874906963502,-0.1511930041614379,-0.4955808699853895,-0.6286211751215702,-0.36351318102076063,-0.44745121863315174,-0.6285908314550415,-0.6285876838946046,-0.29034794809221337,-0.3759695746617838,-0.28432588730999975,-0.6289252212215123,-0.29035616298766986,-0.4474584223636073,-0.6360676677836732,-0.4474865461023823,-0.0282594197061283,-0.44746078610587575,-0.02835775188922303,-0.4475115307329897,-0.6285890746062386,-0.6285882952249137,-0.628642570053758,-0.02950200878357997,-0.4474561922833991,-0.2905396233894544,-0.028226711207156804,-0.6285982936879387,-0.6203716038067569,-0.025283102441118147,-0.010595599887081286,-0.8334495234561357,-0.5544721385118588,-0.5544949251951007,-0.6401268399164055,-0.6225709907218706,-0.6339472828307887,-0.6225705518487464,0.03744118347188891,-0.6401383007752113,-0.4474531813692002,-0.2903502918571768,5.673003884574281,-0.02822639284858529,-0.6285945978587999,-0.6285877903148671,-0.1150585572655272,-0.05422932789670671,-0.4474526612976626,-0.29639345553230617,-0.628587571753742,-0.03191618090714991,-0.64369188383986,-0.3635429268071596,-0.5546961952068015,-0.5188975008178539,-0.6285881523355802,-0.4894514151077454,-0.0991517928101308,-0.6285918233871004,-0.028318647301056606,-0.4474679690219305,-0.1860224452909829,-0.5641833126586098,-0.6226269693964523,-0.6286295235128893,-0.21623336935947987,-0.151195105085398,-0.632778379372269,-0.6285971573015139,-0.44746467189138944,-0.15120363642065057,-0.6288039593428061,-0.6285872996238738,-0.10920918860018765,-0.010568897953550292,-0.5621472010568325,-0.628665786180242,-0.28443094155195087,-0.5402786257011,-0.44745110846669184,-0.4151087701603184,-0.2903582208538504,-0.010258507250669192,-0.5544771004400031,-0.6285867744523479,-0.6285869817395412,-0.29044765877472495,0.10380855504825909,-0.028232928240766175,-0.628590843106167,-0.1758436234260595,-0.48948224742841934,-0.02822942521194135,-0.026994936789088667,-0.6292705968567085,0.09288659552548806,-0.29035644181224735,-0.6320426788848332,-0.2903486626291569,-0.7086206692871738,-0.6285971844288235,-0.2655992783776207,-0.5890478812105919,-0.15122639702447369,-0.02529092983312828,-0.12430493203153074,-0.3652485668420592,-0.15119236903055897,-0.4894334805642944,-0.29129065151102385,-0.37015709091751964,-0.1512134745889687,-0.6286439568126391,-0.10921529762823087,-0.44746059880516637,-0.2903890890328453,-0.0282362188547726,-0.4696481086128285,-0.10921364500136112,-0.6298952217962923,-0.18441747373137704,-0.07686768149167952,-0.08941042961381708,-0.11407360342797138,-0.48944453114982295,0.17416825696700072,-0.6285917234008823,-0.4894377502002537,-0.15119048555247108,-0.6414970511260778,-0.10920807176527368,-0.6285968867015699,-0.41518957689340136,-0.7091394555450103,-0.447477000453244,-0.4474574993937387,-0.18625179874966274,-0.6348805880265971,-0.44751769203624875,-0.6285985797133513,-0.6285952276989488,-0.025271379849428722,-0.6285890907594137,-0.447600522208261,-0.6294523570571076,-0.36859516190676506,-0.44764492299806324,-0.6286041756044624,-0.6287231294323957,-0.44751769901572064,-0.6286246404684931,-0.028223393463703915,-0.024497482140184094,-0.363538293668934,-0.18595584846675936,-0.29373314368521913,-0.6286744508862634,-0.29632307209376,-0.6225633409559931,-0.1862015470582189,-0.1862303460195692,-0.025607814553170467,-0.028224917535422795,0.08729091483270214,-0.08756084035628632,-0.6286046048989498,-0.2903441305660279],\"type\":\"scatter3d\"},{\"customdata\":[[\"SHA-256\"],[\"Ethash\"],[\"Scrypt\"],[\"CryptoNight-V7\"],[\"Ethash\"],[\"Equihash\"],[\"Multiple\"],[\"Scrypt\"],[\"X11\"],[\"Scrypt\"],[\"Multiple\"],[\"Scrypt\"],[\"SHA-256\"],[\"Scrypt\"],[\"Scrypt\"],[\"Quark\"],[\"Groestl\"],[\"Scrypt\"],[\"Scrypt\"],[\"Scrypt\"],[\"X11\"],[\"Multiple\"],[\"SHA-256\"],[\"Scrypt\"],[\"Scrypt\"],[\"Scrypt\"],[\"Scrypt\"],[\"Scrypt\"],[\"NeoScrypt\"],[\"Scrypt\"],[\"Scrypt\"],[\"Scrypt\"],[\"Scrypt\"],[\"SHA-256\"],[\"Scrypt\"],[\"Scrypt\"],[\"Scrypt\"],[\"Scrypt\"],[\"HybridScryptHash256\"],[\"Scrypt\"],[\"Scrypt\"],[\"SHA-256\"],[\"Scrypt\"],[\"Scrypt\"],[\"Scrypt\"],[\"Scrypt\"],[\"SHA-256\"],[\"SHA-256\"],[\"SHA-256\"],[\"SHA-256\"],[\"SHA-256\"],[\"X11\"],[\"Scrypt\"],[\"Lyra2REv2\"],[\"Scrypt\"],[\"SHA-256\"],[\"CryptoNight\"],[\"CryptoNight\"],[\"Scrypt\"],[\"Scrypt\"],[\"Scrypt\"],[\"Scrypt\"],[\"Scrypt\"],[\"Scrypt\"],[\"Stanford Folding\"],[\"Multiple\"],[\"QuBit\"],[\"Scrypt\"],[\"Scrypt\"],[\"M7 POW\"],[\"Scrypt\"],[\"SHA-256\"],[\"Scrypt\"],[\"X11\"],[\"Lyra2RE\"],[\"SHA-256\"],[\"X11\"],[\"Scrypt\"],[\"Scrypt\"],[\"Ethash\"],[\"Blake2b\"],[\"X11\"],[\"SHA-256\"],[\"Scrypt\"],[\"1GB AES Pattern Search\"],[\"Scrypt\"],[\"SHA-256\"],[\"X11\"],[\"Dagger\"],[\"Scrypt\"],[\"X11GOST\"],[\"Scrypt\"],[\"X11\"],[\"Scrypt\"],[\"X11\"],[\"Equihash\"],[\"CryptoNight\"],[\"SHA-256\"],[\"Multiple\"],[\"Scrypt\"],[\"SHA-256\"],[\"Scrypt\"],[\"Lyra2Z\"],[\"Ethash\"],[\"Equihash\"],[\"Scrypt\"],[\"X11\"],[\"X11\"],[\"CryptoNight\"],[\"Scrypt\"],[\"CryptoNight\"],[\"Lyra2RE\"],[\"X11\"],[\"CryptoNight-V7\"],[\"Scrypt\"],[\"X11\"],[\"Equihash\"],[\"Scrypt\"],[\"Lyra2RE\"],[\"Dagger-Hashimoto\"],[\"Scrypt\"],[\"NIST5\"],[\"Scrypt\"],[\"SHA-256\"],[\"Scrypt\"],[\"CryptoNight-V7\"],[\"Argon2d\"],[\"Blake2b\"],[\"Cloverhash\"],[\"CryptoNight\"],[\"X11\"],[\"Scrypt\"],[\"Scrypt\"],[\"X11\"],[\"X11\"],[\"CryptoNight\"],[\"Time Travel\"],[\"Scrypt\"],[\"Keccak\"],[\"X11\"],[\"SHA-256\"],[\"Scrypt\"],[\"Scrypt\"],[\"Scrypt\"],[\"Scrypt\"],[\"Scrypt\"],[\"Scrypt\"],[\"CryptoNight\"],[\"Equihash\"],[\"X11\"],[\"NeoScrypt\"],[\"Equihash\"],[\"Dagger\"],[\"Scrypt\"],[\"X11\"],[\"NeoScrypt\"],[\"Ethash\"],[\"NeoScrypt\"],[\"Multiple\"],[\"CryptoNight\"],[\"CryptoNight\"],[\"Ethash\"],[\"X11\"],[\"CryptoNight-V7\"],[\"Scrypt\"],[\"BLAKE256\"],[\"X11\"],[\"NeoScrypt\"],[\"NeoScrypt\"],[\"Scrypt\"],[\"X11\"],[\"SHA-256\"],[\"C11\"],[\"Ethash\"],[\"CryptoNight\"],[\"SkunkHash\"],[\"CryptoNight\"],[\"Scrypt\"],[\"Dagger\"],[\"Lyra2REv2\"],[\"Scrypt\"],[\"Scrypt\"],[\"X11\"],[\"Ethash\"],[\"CryptoNight\"],[\"Scrypt\"],[\"IMesh\"],[\"Equihash\"],[\"Lyra2Z\"],[\"X11\"],[\"CryptoNight\"],[\"NIST5\"],[\"Lyra2RE\"],[\"Tribus\"],[\"Lyra2Z\"],[\"CryptoNight\"],[\"CryptoNight Heavy\"],[\"CryptoNight\"],[\"Jump Consistent Hash\"],[\"CryptoNight\"],[\"X16R\"],[\"HMQ1725\"],[\"X11\"],[\"Scrypt\"],[\"CryptoNight-V7\"],[\"Cryptonight-GPU\"],[\"XEVAN\"],[\"CryptoNight Heavy\"],[\"SHA-256\"],[\"X11\"],[\"X16R\"],[\"Equihash\"],[\"Lyra2Z\"],[\"SHA-256\"],[\"CryptoNight\"],[\"Blake\"],[\"Blake\"],[\"Exosis\"],[\"Scrypt\"],[\"Equihash\"],[\"Equihash\"],[\"QuBit\"],[\"SHA-256\"],[\"X13\"],[\"SHA-256\"],[\"Scrypt\"],[\"NeoScrypt\"],[\"Blake\"],[\"Scrypt\"],[\"SHA-256\"],[\"Scrypt\"],[\"Groestl\"],[\"Scrypt\"],[\"Scrypt\"],[\"Multiple\"],[\"Equihash+Scrypt\"],[\"Ethash\"],[\"CryptoNight\"],[\"Equihash\"]],\"hovertemplate\":\"<b>%{hovertext}</b><br><br>Class=%{marker.color}<br>PC 1=%{x}<br>PC 2=%{y}<br>PC 3=%{z}<br>Algorithm=%{customdata[0]}<extra></extra>\",\"hovertext\":[\"Bitcoin\",\"Ethereum\",\"Litecoin\",\"Monero\",\"Ethereum Classic\",\"ZCash\",\"DigiByte\",\"ProsperCoin\",\"Spreadcoin\",\"Argentum\",\"MyriadCoin\",\"MoonCoin\",\"ZetaCoin\",\"SexCoin\",\"Quatloo\",\"QuarkCoin\",\"Riecoin\",\"Digitalcoin \",\"Catcoin\",\"CannaCoin\",\"CryptCoin\",\"Verge\",\"DevCoin\",\"EarthCoin\",\"E-Gulden\",\"Einsteinium\",\"Emerald\",\"Franko\",\"FeatherCoin\",\"GrandCoin\",\"GlobalCoin\",\"GoldCoin\",\"Infinite Coin\",\"IXcoin\",\"KrugerCoin\",\"LuckyCoin\",\"Litebar \",\"MegaCoin\",\"MediterraneanCoin\",\"MinCoin\",\"NobleCoin\",\"Namecoin\",\"NyanCoin\",\"RonPaulCoin\",\"StableCoin\",\"SmartCoin\",\"SysCoin\",\"TigerCoin\",\"TerraCoin\",\"UnbreakableCoin\",\"Unobtanium\",\"UroCoin\",\"ViaCoin\",\"Vertcoin\",\"WorldCoin\",\"JouleCoin\",\"ByteCoin\",\"DigitalNote \",\"MonaCoin\",\"Gulden\",\"PesetaCoin\",\"Wild Beast Coin\",\"Flo\",\"ArtByte\",\"Folding Coin\",\"Unitus\",\"CypherPunkCoin\",\"OmniCron\",\"GreenCoin\",\"Cryptonite\",\"MasterCoin\",\"SoonCoin\",\"1Credit\",\"MarsCoin \",\"Crypto\",\"Anarchists Prime\",\"BowsCoin\",\"Song Coin\",\"BitZeny\",\"Expanse\",\"Siacoin\",\"MindCoin\",\"I0coin\",\"Revolution VR\",\"HOdlcoin\",\"Gamecredits\",\"CarpeDiemCoin\",\"Adzcoin\",\"SoilCoin\",\"YoCoin\",\"SibCoin\",\"Francs\",\"BolivarCoin\",\"Omni\",\"PizzaCoin\",\"Komodo\",\"Karbo\",\"ZayedCoin\",\"Circuits of Value\",\"DopeCoin\",\"DollarCoin\",\"Shilling\",\"ZCoin\",\"Elementrem\",\"ZClassic\",\"KiloCoin\",\"ArtexCoin\",\"Kurrent\",\"Cannabis Industry Coin\",\"OsmiumCoin\",\"Bikercoins\",\"HexxCoin\",\"PacCoin\",\"Citadel\",\"BeaverCoin\",\"VaultCoin\",\"Zero\",\"Canada eCoin\",\"Zoin\",\"DubaiCoin\",\"EB3coin\",\"Coinonat\",\"BenjiRolls\",\"ILCoin\",\"EquiTrader\",\"Quantum Resistant Ledger\",\"Dynamic\",\"Nano\",\"ChanCoin\",\"Dinastycoin\",\"DigitalPrice\",\"Unify\",\"SocialCoin\",\"ArcticCoin\",\"DAS\",\"LeviarCoin\",\"Bitcore\",\"gCn Coin\",\"SmartCash\",\"Onix\",\"Bitcoin Cash\",\"Sojourn Coin\",\"NewYorkCoin\",\"FrazCoin\",\"Kronecoin\",\"AdCoin\",\"Linx\",\"Sumokoin\",\"BitcoinZ\",\"Elements\",\"VIVO Coin\",\"Bitcoin Gold\",\"Pirl\",\"eBoost\",\"Pura\",\"Innova\",\"Ellaism\",\"GoByte\",\"SHIELD\",\"UltraNote\",\"BitCoal\",\"DaxxCoin\",\"AC3\",\"Lethean\",\"PopularCoin\",\"Photon\",\"Sucre\",\"SparksPay\",\"GunCoin\",\"IrishCoin\",\"Pioneer Coin\",\"UnitedBitcoin\",\"Interzone\",\"1717 Masonic Commemorative Token\",\"TurtleCoin\",\"MUNcoin\",\"Niobio Cash\",\"ShareChain\",\"Travelflex\",\"KREDS\",\"BitFlip\",\"LottoCoin\",\"Crypto Improvement Fund\",\"Callisto Network\",\"BitTube\",\"Poseidon\",\"Aidos Kuneen\",\"Bitrolium\",\"Alpenschillling\",\"FuturoCoin\",\"Monero Classic\",\"Jumpcoin\",\"Infinex\",\"KEYCO\",\"GINcoin\",\"PlatinCoin\",\"Loki\",\"Newton Coin\",\"MassGrid\",\"PluraCoin\",\"Motion\",\"PlusOneCoin\",\"Axe\",\"HexCoin\",\"Webchain\",\"Ryo\",\"Urals Coin\",\"Qwertycoin\",\"Project Pai\",\"Azart\",\"Xchange\",\"CrypticCoin\",\"Actinium\",\"Bitcoin SV\",\"FREDEnergy\",\"Universal Molecule\",\"Lithium\",\"Exosis\",\"Block-Logic\",\"Beam\",\"Bithereum\",\"SLICE\",\"BLAST\",\"Bitcoin Rhodium\",\"GlobalToken\",\"SolarCoin\",\"UFO Coin\",\"BlakeCoin\",\"Crypto Escudo\",\"Crown Coin\",\"SmileyCoin\",\"Groestlcoin\",\"Bata\",\"Pakcoin\",\"JoinCoin\",\"Vollar\",\"Reality Clash\",\"Beldex\",\"Horizen\"],\"legendgroup\":\"3\",\"marker\":{\"color\":[3,3,3,3,3,3,3,3,3,3,3,3,3,3,3,3,3,3,3,3,3,3,3,3,3,3,3,3,3,3,3,3,3,3,3,3,3,3,3,3,3,3,3,3,3,3,3,3,3,3,3,3,3,3,3,3,3,3,3,3,3,3,3,3,3,3,3,3,3,3,3,3,3,3,3,3,3,3,3,3,3,3,3,3,3,3,3,3,3,3,3,3,3,3,3,3,3,3,3,3,3,3,3,3,3,3,3,3,3,3,3,3,3,3,3,3,3,3,3,3,3,3,3,3,3,3,3,3,3,3,3,3,3,3,3,3,3,3,3,3,3,3,3,3,3,3,3,3,3,3,3,3,3,3,3,3,3,3,3,3,3,3,3,3,3,3,3,3,3,3,3,3,3,3,3,3,3,3,3,3,3,3,3,3,3,3,3,3,3,3,3,3,3,3,3,3,3,3,3,3,3,3,3,3,3,3,3,3,3,3,3,3,3,3,3,3,3,3,3,3,3,3,3,3,3,3,3,3,3,3,3,3,3,3,3,3,3,3,3],\"coloraxis\":\"coloraxis\",\"symbol\":\"diamond\"},\"mode\":\"markers\",\"name\":\"3\",\"scene\":\"scene\",\"showlegend\":true,\"x\":[-0.141127162071541,-0.16327815160517647,-0.17304690164240052,-0.13915331343995577,-0.16172069270744008,-0.12102679760175955,0.16770700848125453,-0.17419230691374676,-0.22503911115659814,-0.1738090169714643,-0.08553930066365714,2.5468576699595245,-0.13821427696272487,-0.17106624073517726,-0.1736130640490151,-0.2296413153992625,-0.19814657181350176,-0.1736620434408696,-0.17417459069935273,-0.1742609984358449,-0.22512837391859214,0.19141038727141693,0.23644491924025998,0.07428699042166653,-0.17400750856102548,-0.16961584258228887,-0.17394680855088063,-0.1743179537451716,-0.17062064889193104,-0.15355411182139472,-0.17311397504812726,-0.17339113359695266,1.5732883871767176,-0.14108857020577167,-0.17068228240835295,-0.17403392863188746,-0.17438847942301225,-0.17364826984192983,-0.15609276712803885,-0.17426982186840898,-0.03923595350731107,-0.14116610299020704,-0.16793846201008683,-0.17424922925587222,-0.1723443370192001,-0.17373633656471815,-0.12832675081564635,-0.14063027917070567,-0.14091722123386563,-0.14090003453566433,-0.14149054502906808,-0.22530218345248584,-0.1739659927874081,-0.1884986152358531,-0.17107087340948404,-0.14069751651778908,3.861435338353609,0.46294517089173587,-0.17283431381796974,-0.15744082454732775,-0.1715541109593323,-0.17439068017603324,-0.17141931725428425,-0.15765258691298012,-0.11486646687066719,-0.11952174621587282,-0.1865058081725526,-0.17426388126907663,-0.04727952938555637,-0.1231541037712119,-0.17439957378228,-0.14119385270055734,0.47756029666583927,-0.22468981948386071,-0.13975133779763263,-0.1409338129066114,-0.22497449256390498,-0.17252419509010722,-0.17171704845375377,-0.16434445730063466,0.3562581313205864,-0.22500987867874422,-0.14108969143346617,-0.1703604438470462,-0.15098566196945343,-0.17296395131091793,0.27708225094526645,-0.22417110379434452,-0.15831655074983336,-0.17321071170762153,-0.1482538525190227,-0.1741895996946705,-0.22497311434501965,-0.17439963223357985,-0.22512293536411804,-0.13926685822269969,0.3079556071255709,-0.14134957195339665,-0.09960821746214682,-0.17156819152279904,-0.14130823855076263,-0.17406322373063773,-0.14243296983864517,-0.16408682616812018,-0.12104839304454684,-0.10114947527470636,-0.21171732154999548,-0.22295225449440936,0.3079500309592088,-0.17438137799113654,0.3080806359733516,-0.14029151747873614,0.48990038172743244,-0.13791833986909735,-0.17434969364640818,-0.21785944740394772,-0.12106077521143968,-0.1724843493154641,-0.14001012485458691,-0.14302085333356204,-0.1452827276599254,-0.1792976037345347,-0.17391234984366388,-0.10769609253795205,-0.17373441281655772,-0.13777661221566379,-0.14854186388524646,-0.04364309697974244,-0.12003835086521693,0.3440456853995949,-0.2241794101104746,-0.17405361483787973,-0.17381695749448423,-0.22457389268473904,-0.22515096998408887,0.30834478628730805,-0.14824699487733875,3.232876390822223,-0.09687760058368115,-0.21602689577160086,-0.1411263271241694,-0.09999589789209377,1.5708732719822616,-0.17415136101481388,-0.1736032370186408,-0.17330443231833859,-0.17329137630604402,0.3085283843894056,0.09115662774591737,-0.17957472436612668,-0.17530622123903944,-0.12090696064958094,-0.15707626507170547,-0.1724825602601385,-0.22069822143208848,-0.17515169906751069,-0.1624524132117927,-0.17525186900344972,-0.1097600762214039,1.145473130571447,0.30793277602343827,-0.08736889061944919,-0.2204390699165831,-0.12689516102411225,-0.09059834901527665,1.1023810956947895,-0.2251249901472051,-0.17530381184902752,-0.16834628355854778,-0.17340289405858797,-0.22505045639595594,-0.14110574921621405,-0.20516675850073207,-0.29480696809383816,8.042958013623386,-0.1491250478268302,0.31180492584057845,0.018497056784926257,-0.15658025398803274,-0.1740660992013086,-0.17397616356643744,0.13288361002289015,-0.21919487569447224,-0.11550728635867308,0.31585284916046724,-0.17421303087275058,-0.15358507945397176,-0.11989881884552255,-0.14021732782709895,-0.22422014186183462,0.30811514152762043,-0.17935713963537553,-0.14013683057513732,-0.13205261209614053,-0.14251731560868475,0.31204228965442005,0.595970720299303,2.1156981512320665,-0.13687049313071983,0.3217113245125751,-0.19185773963439182,-0.16035073737254651,-0.2251071622769151,-0.17423758276902132,-0.12677147837872954,-0.13140059306638202,-0.1052063199120365,3.1169141965183806,-0.10098396668614273,-0.22507853684815765,-0.19128565117829216,-0.01572103801894628,-0.1419153085300852,-0.14112636465214437,0.38783526092531634,-0.14380475215395072,-0.14419677704600536,-0.14703969207217574,-0.17313050498618068,-0.11896781451671236,-0.1207398978000663,-0.18571707847162586,-0.14040301833100244,-0.10233445274394722,-0.1392715765383824,0.5214658434789456,-0.10052455313603056,-0.09467744023941589,-0.15780302283559366,-0.14091659231277645,0.5409699032665686,-0.19770790684287767,-0.17431442835006408,-0.17227131143915997,-0.12025588494390636,-0.15001125013872998,-0.16411996004833979,0.329674997309781,-0.12102785349558055],\"y\":[-1.2763168854250238,-2.060681872713737,-1.16986811611887,-2.1946465420068004,-2.0607842891356487,-2.013626088739408,-1.8281609156055942,-1.1698551964610575,-0.8940539439192962,-1.1698744771034224,-1.8218439767260672,-1.3604477041685135,-1.2763419482771063,-1.1699293950614862,-1.1698938993580819,-0.4509937634209988,-1.2391140253424642,-1.169859812935911,-1.1698547313224132,-1.169851636161441,-0.8940549226773551,-1.8245052430077462,-1.2807201572860996,-1.1725296718341318,-1.1698503445862,-1.1699252940969231,-1.1698562574903772,-1.1698518320727285,-1.6239371582116362,-1.1702684579386067,-1.1698603232986218,-1.1698691325901158,-1.1857877466670013,-1.2763158721968182,-1.1699298376555334,-1.1698503558278623,-1.1698469374806861,-1.1698552435306468,-2.205830296555666,-1.1698497250327116,-1.176533837789554,-1.276317907817601,-1.1699066455624125,-1.1698566909553345,-1.1699629514386636,-1.1698638339510334,-1.2765724661024236,-1.2763215907753045,-1.2763257041805858,-1.2763511847696727,-1.2763122658915373,-0.8940472025449298,-1.1698506194237983,-1.2846125522652323,-1.169940040099875,-1.276321983089637,-2.3089621437360783,-2.2791299422380664,-1.1698769472678519,-1.1705475157250191,-1.1698851445091722,-1.1698478673896169,-1.169877247593262,-1.1700890323495992,-2.188318284949842,-1.821371351839799,-1.5853412392962043,-1.1698450455537586,-1.1733329393414236,-2.156679350558604,-1.1698467302425009,-1.276318636385361,-1.2155114357772314,-0.8940536446914858,-2.1274677200923455,-1.2763341650119382,-0.8940529297766611,-1.1699405407283179,-1.1699464819973824,-2.0607214057392773,-2.2866364070965566,-0.8940504467557011,-1.2763159016346153,-1.1698835677284856,-2.105226484239939,-1.1698659382605596,-1.2800806092157364,-0.8940748290668181,-2.2277127560306877,-1.1699299796620481,-2.2400191742596864,-1.169854442966652,-0.8940556232573889,-1.1698467297094166,-0.8940595568034674,-1.3034463594909098,-2.276381847903982,-1.2763150380504271,-1.8216674225237366,-1.1699084529406445,-1.2763145685862616,-1.1698579491342989,-2.170038205823962,-2.06072098752963,-2.013626655727069,-1.1747472930527953,-0.8940317406565401,-0.8941410961868752,-2.2763895008870594,-1.1698476820440353,-2.2763888015224003,-2.1274438310920996,-0.9435112275303883,-2.194740364859304,-1.1698472908184339,-0.8945342102025885,-2.0136242511546447,-1.1698642649887478,-2.1274439497194164,-2.154141993200734,-1.1718115114551724,-0.5667576357992425,-1.1698577551570073,-1.2771308641531458,-1.1698779777053563,-2.194682050487863,-2.188501528510775,-2.297368015379142,-2.0720137422636964,-2.2767923127958003,-0.8940859658121673,-1.169850379164993,-1.1698821921626084,-0.8940690262813638,-0.894056130111144,-2.276401656341533,-2.138680840781231,-1.2168716767620658,-1.1670125039087458,-0.8945543382634488,-1.2763168635035067,-1.175058214143033,-1.1240242245928806,-1.169853439011331,-1.1698827226864286,-1.169885796241835,-1.169885453456649,-2.2764206447304947,-2.0223716344884677,-0.8940749791843637,-1.623849311079508,-2.0136229424240493,-2.2277663861625734,-1.169864218017157,-0.8941651714282486,-1.6238575376010176,-2.0608512695860237,-1.6238511596622816,-1.821565454365871,-2.3123914265674244,-2.2763841533749782,-2.06551304203995,-0.8942948507045255,-2.195006767239289,-1.1710581912923548,-1.2759828014963197,-0.8940560621861645,-1.6238451533223182,-1.623989361121002,-1.169863814359296,-0.8940562890375593,-1.276315754095866,-1.283488145620328,-0.1388522083940263,-2.755709237490913,-2.173216945577167,-2.276503251928292,-1.171605977169177,-2.2277149387664466,-1.2849269621355517,-1.169862487537017,-1.1743398232436297,-0.894228063602139,-2.063863357129322,-2.2768500983569115,-1.1698557405679402,-2.2079703354514773,-2.013629912099442,-2.1701701554380435,-0.8940870352230001,-2.2763833916315677,-0.5667406016991818,-2.127450879532953,-2.1656197309121534,-2.170032981980102,-2.2766771782466093,-2.1706762415547227,-2.354477428661811,-2.091285174617122,-2.2766962842733722,-1.3026117588973907,-2.1656723869786907,-0.8940564130157448,-1.1698571394268527,-2.195515686118837,-2.1802519702374696,-0.5599250248141187,-2.2302719520146246,-1.2766816709208573,-0.8940583911218467,-1.3026499155578046,-2.0160333236942445,-2.1700673339129137,-1.2763168644888023,-2.27979171093483,-2.21086666229228,-2.2108224358228257,-2.140134361553924,-1.1698948781143816,-2.0137370385030535,-2.0136253025633395,-1.5853887728685851,-1.2763272169617845,-0.31875657372767296,-1.2763684823049493,-1.218521437422915,-1.624597161345048,-2.214282005852725,-1.1700929820399495,-1.2763256876682827,-1.1851851274571956,-1.23911683895321,-1.169847484092189,-1.1699146298354306,-1.821392537394766,-2.3153082671172203,-2.0607206853435067,-2.276760316792879,-2.013626116461866],\"z\":[0.1979272949467673,0.3869092142116095,-0.0671640720423356,0.3753810684930903,0.3868958363067233,0.3973771915220669,0.3953676889775795,-0.06714434437187708,0.113991463107572,-0.06714857549067346,0.3991810262525755,-0.08866916331377192,0.19787589037446462,-0.06719201476922118,-0.06714922272721152,0.07192606544538949,0.13883117214031362,-0.06715369353264343,-0.06714475488675445,-0.06714360271522775,0.11399331518195552,0.3943377236125812,0.19144714248553213,-0.07144430675208717,-0.06714862646461876,-0.06722023801320169,-0.06714884335972092,-0.06714248889759589,0.2650476024022787,-0.06747120159526791,-0.0671640319086715,-0.06715736680492203,-0.09784051573165932,0.1979264007074675,-0.06719924400986983,-0.06714812241451619,-0.0671419238279775,-0.06715467953072901,0.5328010087817932,-0.06714373784585669,-0.06865156474890682,0.1979281972742041,-0.06725508185963515,-0.06714302538421041,-0.06716239910035547,-0.06715164391344974,0.19772445188727594,0.19791859446452362,0.19792470136697674,0.19792841274440667,0.19793347107892767,0.11399539598174316,-0.06714937215991763,0.1912752732440314,-0.06719023969418765,0.19791993487819612,0.3558803220100424,0.41576083249370754,-0.06716671397954951,-0.06735308729685519,-0.0671897526683659,-0.06714173461968576,-0.06719356670108806,-0.06742172101540111,0.4311642379040822,0.39975216150265847,0.06587512904728283,-0.06714459237605334,-0.0690059211935234,0.4787516368882268,-0.06714174575723238,0.19792884028228033,-0.0722992215324229,0.11398477534778931,0.4868803624965328,0.1979263576443281,0.11399007393262564,-0.06716253144528758,-0.06717693444536009,0.3869357507239943,0.3683818752245467,0.11399035314940244,0.19792642668822374,-0.06721269520428237,0.40981558175035615,-0.06716599414286085,0.19057323716604518,0.1139782713673417,0.39796407914211157,-0.06715115386287758,0.43432470305102033,-0.0671445152507174,0.113990474588789,-0.06714174473050467,0.11399394619710689,0.47149857058364625,0.41827180666971303,0.19793123038409347,0.3994205086604842,-0.06718579111215822,0.1979303702004082,-0.06714636211754818,0.37188986920166284,0.38693078665487773,0.3973776919252771,-0.0677576627491393,0.11373468556236624,0.11396560185842856,0.41827312550655965,-0.06714194083550648,0.41827053175766554,0.4868868459027338,0.10823772988219657,0.3753724594237431,-0.06714260518311371,0.11393108306546443,0.3973775462493405,-0.06717537697099626,0.48688151518379785,0.42494387469353945,-0.06738390785067748,0.006968865175726814,-0.06714926110260579,0.1974207388918858,-0.06714943901238599,0.3753605235156269,0.5053678829240245,0.3776850689878793,0.5661858079856082,0.41765075249830397,0.11398019420621548,-0.0671477444641821,-0.06714720186765415,0.11398500912125063,0.1139939361044633,0.4182675472356272,0.3773989388923245,-0.12446461090637338,0.09090451416999466,0.11389943451743807,0.1979272755996071,-0.0677303191224178,-0.10758275865512457,-0.0671454013060909,-0.06715118080362548,-0.06715637425034107,-0.06715667678039439,0.41826706611683295,0.3947293760532941,0.11313047916157333,0.2651227573781821,0.397374414695675,0.39794899942500744,-0.06717541842645672,0.11392656612257607,0.26512112349944766,0.38692036187497275,0.2651220170544759,0.3995973446285202,0.40805659366075986,0.4182726060751574,0.38623174688896866,0.1139421907325308,0.37520511810079243,-0.06854289012905881,0.1372256168711514,0.11399343144053596,0.2651220526607444,0.26501263774741607,-0.06715798605062656,0.11399205043998371,0.1979267085790144,0.021165812303502726,0.1637366158619405,0.34718549935535525,0.41760560355733567,0.41821786763083485,-0.07053007678296823,0.3979314165446337,0.1910507255817807,-0.06714729797030038,-0.07227141041705958,0.11390795323416582,0.38650524360485944,0.41819588059561147,-0.06714386416243198,0.48421636116291245,0.39735635358221555,0.3718686590225555,0.11398113803030434,0.4182690184286315,0.006967297475772026,0.4868850221924918,0.3730404577123122,0.3718906448241119,0.41824091862448337,0.41537782117875094,0.3962814747308288,0.36941826079851986,0.4180601297384542,0.1962077981799298,0.31567601059737754,0.1139931481159545,-0.06714317572121743,0.3752834192068016,0.3619396318236522,0.14632360035882355,0.3768970971259533,0.19722194831360826,0.11399291740783411,0.19620296926967343,0.39575673101990233,0.3718846441693653,0.19792727646919422,0.4172936130151983,0.456258889139749,0.45625933295400567,0.4154792369143305,-0.06715824148379339,0.3973556315522836,0.39737161271550653,0.0658676676321529,0.19791516566461997,-0.06111891181384024,0.19790019561816363,-0.07265688530866207,0.26381961054375275,0.4558661928188678,-0.06741823515872085,0.19792468679380362,-0.07831074452977331,0.1388232786326076,-0.06714324497746867,-0.06717144528882717,0.3997694755623011,0.36374150527458354,0.3869313686689482,0.41791888112827064,0.39737721598892667],\"type\":\"scatter3d\"},{\"customdata\":[[\"Proof-of-BibleHash\"],[\"SHA-256 + Hive\"],[\"Proof-of-Authority\"],[\"ECC 256K1\"],[\"Leased POS\"]],\"hovertemplate\":\"<b>%{hovertext}</b><br><br>Class=%{marker.color}<br>PC 1=%{x}<br>PC 2=%{y}<br>PC 3=%{z}<br>Algorithm=%{customdata[0]}<extra></extra>\",\"hovertext\":[\"BiblePay\",\"LitecoinCash\",\"Poa Network\",\"Acute Angle Cloud\",\"Waves\"],\"legendgroup\":\"1\",\"marker\":{\"color\":[1,1,1,1,1],\"coloraxis\":\"coloraxis\",\"symbol\":\"square\"},\"mode\":\"markers\",\"name\":\"1\",\"scene\":\"scene\",\"showlegend\":true,\"x\":[-0.2900880861425128,-0.3300075681075827,-0.44463989628223205,-0.3405932709853612,-0.38395220654275525],\"y\":[1.8835888976531345,3.413585447149667,2.6074465770969235,3.279915179164457,3.547459860603432],\"z\":[11.033531429842403,8.855580615828092,16.739895687235904,16.596954933181834,14.252558659701123],\"type\":\"scatter3d\"},{\"customdata\":[[\"TRC10\"]],\"hovertemplate\":\"<b>%{hovertext}</b><br><br>Class=%{marker.color}<br>PC 1=%{x}<br>PC 2=%{y}<br>PC 3=%{z}<br>Algorithm=%{customdata[0]}<extra></extra>\",\"hovertext\":[\"BitTorrent\"],\"legendgroup\":\"2\",\"marker\":{\"color\":[2],\"coloraxis\":\"coloraxis\",\"symbol\":\"x\"},\"mode\":\"markers\",\"name\":\"2\",\"scene\":\"scene\",\"showlegend\":true,\"x\":[34.03846576819898],\"y\":[1.5573116660043596],\"z\":[-0.792975726345781],\"type\":\"scatter3d\"}],                        {\"template\":{\"data\":{\"histogram2dcontour\":[{\"type\":\"histogram2dcontour\",\"colorbar\":{\"outlinewidth\":0,\"ticks\":\"\"},\"colorscale\":[[0.0,\"#0d0887\"],[0.1111111111111111,\"#46039f\"],[0.2222222222222222,\"#7201a8\"],[0.3333333333333333,\"#9c179e\"],[0.4444444444444444,\"#bd3786\"],[0.5555555555555556,\"#d8576b\"],[0.6666666666666666,\"#ed7953\"],[0.7777777777777778,\"#fb9f3a\"],[0.8888888888888888,\"#fdca26\"],[1.0,\"#f0f921\"]]}],\"choropleth\":[{\"type\":\"choropleth\",\"colorbar\":{\"outlinewidth\":0,\"ticks\":\"\"}}],\"histogram2d\":[{\"type\":\"histogram2d\",\"colorbar\":{\"outlinewidth\":0,\"ticks\":\"\"},\"colorscale\":[[0.0,\"#0d0887\"],[0.1111111111111111,\"#46039f\"],[0.2222222222222222,\"#7201a8\"],[0.3333333333333333,\"#9c179e\"],[0.4444444444444444,\"#bd3786\"],[0.5555555555555556,\"#d8576b\"],[0.6666666666666666,\"#ed7953\"],[0.7777777777777778,\"#fb9f3a\"],[0.8888888888888888,\"#fdca26\"],[1.0,\"#f0f921\"]]}],\"heatmap\":[{\"type\":\"heatmap\",\"colorbar\":{\"outlinewidth\":0,\"ticks\":\"\"},\"colorscale\":[[0.0,\"#0d0887\"],[0.1111111111111111,\"#46039f\"],[0.2222222222222222,\"#7201a8\"],[0.3333333333333333,\"#9c179e\"],[0.4444444444444444,\"#bd3786\"],[0.5555555555555556,\"#d8576b\"],[0.6666666666666666,\"#ed7953\"],[0.7777777777777778,\"#fb9f3a\"],[0.8888888888888888,\"#fdca26\"],[1.0,\"#f0f921\"]]}],\"heatmapgl\":[{\"type\":\"heatmapgl\",\"colorbar\":{\"outlinewidth\":0,\"ticks\":\"\"},\"colorscale\":[[0.0,\"#0d0887\"],[0.1111111111111111,\"#46039f\"],[0.2222222222222222,\"#7201a8\"],[0.3333333333333333,\"#9c179e\"],[0.4444444444444444,\"#bd3786\"],[0.5555555555555556,\"#d8576b\"],[0.6666666666666666,\"#ed7953\"],[0.7777777777777778,\"#fb9f3a\"],[0.8888888888888888,\"#fdca26\"],[1.0,\"#f0f921\"]]}],\"contourcarpet\":[{\"type\":\"contourcarpet\",\"colorbar\":{\"outlinewidth\":0,\"ticks\":\"\"}}],\"contour\":[{\"type\":\"contour\",\"colorbar\":{\"outlinewidth\":0,\"ticks\":\"\"},\"colorscale\":[[0.0,\"#0d0887\"],[0.1111111111111111,\"#46039f\"],[0.2222222222222222,\"#7201a8\"],[0.3333333333333333,\"#9c179e\"],[0.4444444444444444,\"#bd3786\"],[0.5555555555555556,\"#d8576b\"],[0.6666666666666666,\"#ed7953\"],[0.7777777777777778,\"#fb9f3a\"],[0.8888888888888888,\"#fdca26\"],[1.0,\"#f0f921\"]]}],\"surface\":[{\"type\":\"surface\",\"colorbar\":{\"outlinewidth\":0,\"ticks\":\"\"},\"colorscale\":[[0.0,\"#0d0887\"],[0.1111111111111111,\"#46039f\"],[0.2222222222222222,\"#7201a8\"],[0.3333333333333333,\"#9c179e\"],[0.4444444444444444,\"#bd3786\"],[0.5555555555555556,\"#d8576b\"],[0.6666666666666666,\"#ed7953\"],[0.7777777777777778,\"#fb9f3a\"],[0.8888888888888888,\"#fdca26\"],[1.0,\"#f0f921\"]]}],\"mesh3d\":[{\"type\":\"mesh3d\",\"colorbar\":{\"outlinewidth\":0,\"ticks\":\"\"}}],\"scatter\":[{\"fillpattern\":{\"fillmode\":\"overlay\",\"size\":10,\"solidity\":0.2},\"type\":\"scatter\"}],\"parcoords\":[{\"type\":\"parcoords\",\"line\":{\"colorbar\":{\"outlinewidth\":0,\"ticks\":\"\"}}}],\"scatterpolargl\":[{\"type\":\"scatterpolargl\",\"marker\":{\"colorbar\":{\"outlinewidth\":0,\"ticks\":\"\"}}}],\"bar\":[{\"error_x\":{\"color\":\"#2a3f5f\"},\"error_y\":{\"color\":\"#2a3f5f\"},\"marker\":{\"line\":{\"color\":\"#E5ECF6\",\"width\":0.5},\"pattern\":{\"fillmode\":\"overlay\",\"size\":10,\"solidity\":0.2}},\"type\":\"bar\"}],\"scattergeo\":[{\"type\":\"scattergeo\",\"marker\":{\"colorbar\":{\"outlinewidth\":0,\"ticks\":\"\"}}}],\"scatterpolar\":[{\"type\":\"scatterpolar\",\"marker\":{\"colorbar\":{\"outlinewidth\":0,\"ticks\":\"\"}}}],\"histogram\":[{\"marker\":{\"pattern\":{\"fillmode\":\"overlay\",\"size\":10,\"solidity\":0.2}},\"type\":\"histogram\"}],\"scattergl\":[{\"type\":\"scattergl\",\"marker\":{\"colorbar\":{\"outlinewidth\":0,\"ticks\":\"\"}}}],\"scatter3d\":[{\"type\":\"scatter3d\",\"line\":{\"colorbar\":{\"outlinewidth\":0,\"ticks\":\"\"}},\"marker\":{\"colorbar\":{\"outlinewidth\":0,\"ticks\":\"\"}}}],\"scattermapbox\":[{\"type\":\"scattermapbox\",\"marker\":{\"colorbar\":{\"outlinewidth\":0,\"ticks\":\"\"}}}],\"scatterternary\":[{\"type\":\"scatterternary\",\"marker\":{\"colorbar\":{\"outlinewidth\":0,\"ticks\":\"\"}}}],\"scattercarpet\":[{\"type\":\"scattercarpet\",\"marker\":{\"colorbar\":{\"outlinewidth\":0,\"ticks\":\"\"}}}],\"carpet\":[{\"aaxis\":{\"endlinecolor\":\"#2a3f5f\",\"gridcolor\":\"white\",\"linecolor\":\"white\",\"minorgridcolor\":\"white\",\"startlinecolor\":\"#2a3f5f\"},\"baxis\":{\"endlinecolor\":\"#2a3f5f\",\"gridcolor\":\"white\",\"linecolor\":\"white\",\"minorgridcolor\":\"white\",\"startlinecolor\":\"#2a3f5f\"},\"type\":\"carpet\"}],\"table\":[{\"cells\":{\"fill\":{\"color\":\"#EBF0F8\"},\"line\":{\"color\":\"white\"}},\"header\":{\"fill\":{\"color\":\"#C8D4E3\"},\"line\":{\"color\":\"white\"}},\"type\":\"table\"}],\"barpolar\":[{\"marker\":{\"line\":{\"color\":\"#E5ECF6\",\"width\":0.5},\"pattern\":{\"fillmode\":\"overlay\",\"size\":10,\"solidity\":0.2}},\"type\":\"barpolar\"}],\"pie\":[{\"automargin\":true,\"type\":\"pie\"}]},\"layout\":{\"autotypenumbers\":\"strict\",\"colorway\":[\"#636efa\",\"#EF553B\",\"#00cc96\",\"#ab63fa\",\"#FFA15A\",\"#19d3f3\",\"#FF6692\",\"#B6E880\",\"#FF97FF\",\"#FECB52\"],\"font\":{\"color\":\"#2a3f5f\"},\"hovermode\":\"closest\",\"hoverlabel\":{\"align\":\"left\"},\"paper_bgcolor\":\"white\",\"plot_bgcolor\":\"#E5ECF6\",\"polar\":{\"bgcolor\":\"#E5ECF6\",\"angularaxis\":{\"gridcolor\":\"white\",\"linecolor\":\"white\",\"ticks\":\"\"},\"radialaxis\":{\"gridcolor\":\"white\",\"linecolor\":\"white\",\"ticks\":\"\"}},\"ternary\":{\"bgcolor\":\"#E5ECF6\",\"aaxis\":{\"gridcolor\":\"white\",\"linecolor\":\"white\",\"ticks\":\"\"},\"baxis\":{\"gridcolor\":\"white\",\"linecolor\":\"white\",\"ticks\":\"\"},\"caxis\":{\"gridcolor\":\"white\",\"linecolor\":\"white\",\"ticks\":\"\"}},\"coloraxis\":{\"colorbar\":{\"outlinewidth\":0,\"ticks\":\"\"}},\"colorscale\":{\"sequential\":[[0.0,\"#0d0887\"],[0.1111111111111111,\"#46039f\"],[0.2222222222222222,\"#7201a8\"],[0.3333333333333333,\"#9c179e\"],[0.4444444444444444,\"#bd3786\"],[0.5555555555555556,\"#d8576b\"],[0.6666666666666666,\"#ed7953\"],[0.7777777777777778,\"#fb9f3a\"],[0.8888888888888888,\"#fdca26\"],[1.0,\"#f0f921\"]],\"sequentialminus\":[[0.0,\"#0d0887\"],[0.1111111111111111,\"#46039f\"],[0.2222222222222222,\"#7201a8\"],[0.3333333333333333,\"#9c179e\"],[0.4444444444444444,\"#bd3786\"],[0.5555555555555556,\"#d8576b\"],[0.6666666666666666,\"#ed7953\"],[0.7777777777777778,\"#fb9f3a\"],[0.8888888888888888,\"#fdca26\"],[1.0,\"#f0f921\"]],\"diverging\":[[0,\"#8e0152\"],[0.1,\"#c51b7d\"],[0.2,\"#de77ae\"],[0.3,\"#f1b6da\"],[0.4,\"#fde0ef\"],[0.5,\"#f7f7f7\"],[0.6,\"#e6f5d0\"],[0.7,\"#b8e186\"],[0.8,\"#7fbc41\"],[0.9,\"#4d9221\"],[1,\"#276419\"]]},\"xaxis\":{\"gridcolor\":\"white\",\"linecolor\":\"white\",\"ticks\":\"\",\"title\":{\"standoff\":15},\"zerolinecolor\":\"white\",\"automargin\":true,\"zerolinewidth\":2},\"yaxis\":{\"gridcolor\":\"white\",\"linecolor\":\"white\",\"ticks\":\"\",\"title\":{\"standoff\":15},\"zerolinecolor\":\"white\",\"automargin\":true,\"zerolinewidth\":2},\"scene\":{\"xaxis\":{\"backgroundcolor\":\"#E5ECF6\",\"gridcolor\":\"white\",\"linecolor\":\"white\",\"showbackground\":true,\"ticks\":\"\",\"zerolinecolor\":\"white\",\"gridwidth\":2},\"yaxis\":{\"backgroundcolor\":\"#E5ECF6\",\"gridcolor\":\"white\",\"linecolor\":\"white\",\"showbackground\":true,\"ticks\":\"\",\"zerolinecolor\":\"white\",\"gridwidth\":2},\"zaxis\":{\"backgroundcolor\":\"#E5ECF6\",\"gridcolor\":\"white\",\"linecolor\":\"white\",\"showbackground\":true,\"ticks\":\"\",\"zerolinecolor\":\"white\",\"gridwidth\":2}},\"shapedefaults\":{\"line\":{\"color\":\"#2a3f5f\"}},\"annotationdefaults\":{\"arrowcolor\":\"#2a3f5f\",\"arrowhead\":0,\"arrowwidth\":1},\"geo\":{\"bgcolor\":\"white\",\"landcolor\":\"#E5ECF6\",\"subunitcolor\":\"white\",\"showland\":true,\"showlakes\":true,\"lakecolor\":\"white\"},\"title\":{\"x\":0.05},\"mapbox\":{\"style\":\"light\"}}},\"scene\":{\"domain\":{\"x\":[0.0,1.0],\"y\":[0.0,1.0]},\"xaxis\":{\"title\":{\"text\":\"PC 1\"}},\"yaxis\":{\"title\":{\"text\":\"PC 2\"}},\"zaxis\":{\"title\":{\"text\":\"PC 3\"}}},\"coloraxis\":{\"colorbar\":{\"title\":{\"text\":\"Class\"}},\"colorscale\":[[0.0,\"#0d0887\"],[0.1111111111111111,\"#46039f\"],[0.2222222222222222,\"#7201a8\"],[0.3333333333333333,\"#9c179e\"],[0.4444444444444444,\"#bd3786\"],[0.5555555555555556,\"#d8576b\"],[0.6666666666666666,\"#ed7953\"],[0.7777777777777778,\"#fb9f3a\"],[0.8888888888888888,\"#fdca26\"],[1.0,\"#f0f921\"]]},\"legend\":{\"title\":{\"text\":\"Class\"},\"tracegroupgap\":0,\"x\":0,\"y\":1},\"margin\":{\"t\":60},\"width\":800},                        {\"responsive\": true}                    ).then(function(){\n",
       "                            \n",
       "var gd = document.getElementById('4e3fe97c-4bd6-4371-9c90-b83254500481');\n",
       "var x = new MutationObserver(function (mutations, observer) {{\n",
       "        var display = window.getComputedStyle(gd).display;\n",
       "        if (!display || display === 'none') {{\n",
       "            console.log([gd, 'removed!']);\n",
       "            Plotly.purge(gd);\n",
       "            observer.disconnect();\n",
       "        }}\n",
       "}});\n",
       "\n",
       "// Listen for the removal of the full notebook cells\n",
       "var notebookContainer = gd.closest('#notebook-container');\n",
       "if (notebookContainer) {{\n",
       "    x.observe(notebookContainer, {childList: true});\n",
       "}}\n",
       "\n",
       "// Listen for the clearing of the current output cell\n",
       "var outputEl = gd.closest('.output');\n",
       "if (outputEl) {{\n",
       "    x.observe(outputEl, {childList: true});\n",
       "}}\n",
       "\n",
       "                        })                };                });            </script>        </div>"
      ]
     },
     "metadata": {},
     "output_type": "display_data"
    }
   ],
   "source": [
    "# Creating a 3D-Scatter with the PCA data and the clusters\n",
    "fig = px.scatter_3d(\n",
    "    clustered_df,\n",
    "    x=\"PC 1\",\n",
    "    y=\"PC 2\",\n",
    "    z=\"PC 3\",\n",
    "    color=\"Class\",\n",
    "    symbol=\"Class\",\n",
    "    width=800,\n",
    "    hover_name='CoinName',\n",
    "    hover_data=['Algorithm']\n",
    ")\n",
    "fig.update_layout(legend=dict(x=0, y=1))\n",
    "fig.show()"
   ]
  },
  {
   "cell_type": "code",
   "execution_count": 141,
   "metadata": {},
   "outputs": [
    {
     "data": {},
     "metadata": {},
     "output_type": "display_data"
    },
    {
     "data": {
      "application/vnd.holoviews_exec.v0+json": "",
      "text/html": [
       "<div id='2341'>\n",
       "  <div class=\"bk-root\" id=\"b1e02d57-ef09-43e5-8351-271b961210c2\" data-root-id=\"2341\"></div>\n",
       "</div>\n",
       "<script type=\"application/javascript\">(function(root) {\n",
       "  function embed_document(root) {\n",
       "    var docs_json = {\"845bd329-c4a6-43c6-a0b5-bc67705716a6\":{\"defs\":[{\"extends\":null,\"module\":null,\"name\":\"ReactiveHTML1\",\"overrides\":[],\"properties\":[]},{\"extends\":null,\"module\":null,\"name\":\"FlexBox1\",\"overrides\":[],\"properties\":[{\"default\":\"flex-start\",\"kind\":null,\"name\":\"align_content\"},{\"default\":\"flex-start\",\"kind\":null,\"name\":\"align_items\"},{\"default\":\"row\",\"kind\":null,\"name\":\"flex_direction\"},{\"default\":\"wrap\",\"kind\":null,\"name\":\"flex_wrap\"},{\"default\":\"flex-start\",\"kind\":null,\"name\":\"justify_content\"}]},{\"extends\":null,\"module\":null,\"name\":\"GridStack1\",\"overrides\":[],\"properties\":[{\"default\":\"warn\",\"kind\":null,\"name\":\"mode\"},{\"default\":null,\"kind\":null,\"name\":\"ncols\"},{\"default\":null,\"kind\":null,\"name\":\"nrows\"},{\"default\":true,\"kind\":null,\"name\":\"allow_resize\"},{\"default\":true,\"kind\":null,\"name\":\"allow_drag\"},{\"default\":[],\"kind\":null,\"name\":\"state\"}]},{\"extends\":null,\"module\":null,\"name\":\"click1\",\"overrides\":[],\"properties\":[{\"default\":\"\",\"kind\":null,\"name\":\"terminal_output\"},{\"default\":\"\",\"kind\":null,\"name\":\"debug_name\"},{\"default\":0,\"kind\":null,\"name\":\"clears\"}]},{\"extends\":null,\"module\":null,\"name\":\"NotificationAreaBase1\",\"overrides\":[],\"properties\":[{\"default\":\"bottom-right\",\"kind\":null,\"name\":\"position\"},{\"default\":0,\"kind\":null,\"name\":\"_clear\"}]},{\"extends\":null,\"module\":null,\"name\":\"NotificationArea1\",\"overrides\":[],\"properties\":[{\"default\":[],\"kind\":null,\"name\":\"notifications\"},{\"default\":\"bottom-right\",\"kind\":null,\"name\":\"position\"},{\"default\":0,\"kind\":null,\"name\":\"_clear\"},{\"default\":[{\"background\":\"#ffc107\",\"icon\":{\"className\":\"fas fa-exclamation-triangle\",\"color\":\"white\",\"tagName\":\"i\"},\"type\":\"warning\"},{\"background\":\"#007bff\",\"icon\":{\"className\":\"fas fa-info-circle\",\"color\":\"white\",\"tagName\":\"i\"},\"type\":\"info\"}],\"kind\":null,\"name\":\"types\"}]},{\"extends\":null,\"module\":null,\"name\":\"Notification\",\"overrides\":[],\"properties\":[{\"default\":null,\"kind\":null,\"name\":\"background\"},{\"default\":3000,\"kind\":null,\"name\":\"duration\"},{\"default\":null,\"kind\":null,\"name\":\"icon\"},{\"default\":\"\",\"kind\":null,\"name\":\"message\"},{\"default\":null,\"kind\":null,\"name\":\"notification_type\"},{\"default\":false,\"kind\":null,\"name\":\"_destroyed\"}]},{\"extends\":null,\"module\":null,\"name\":\"TemplateActions1\",\"overrides\":[],\"properties\":[{\"default\":0,\"kind\":null,\"name\":\"open_modal\"},{\"default\":0,\"kind\":null,\"name\":\"close_modal\"}]},{\"extends\":null,\"module\":null,\"name\":\"MaterialTemplateActions1\",\"overrides\":[],\"properties\":[{\"default\":0,\"kind\":null,\"name\":\"open_modal\"},{\"default\":0,\"kind\":null,\"name\":\"close_modal\"}]}],\"roots\":{\"references\":[{\"attributes\":{},\"id\":\"2371\",\"type\":\"NumberEditor\"},{\"attributes\":{\"editor\":{\"id\":\"2376\"},\"field\":\"PC_3\",\"formatter\":{\"id\":\"2375\"},\"title\":\"PC 3\"},\"id\":\"2377\",\"type\":\"TableColumn\"},{\"attributes\":{\"editor\":{\"id\":\"2386\"},\"field\":\"Class\",\"formatter\":{\"id\":\"2385\"},\"title\":\"Class\"},\"id\":\"2387\",\"type\":\"TableColumn\"},{\"attributes\":{},\"id\":\"2345\",\"type\":\"StringFormatter\"},{\"attributes\":{},\"id\":\"2393\",\"type\":\"UnionRenderers\"},{\"attributes\":{},\"id\":\"2344\",\"type\":\"Selection\"},{\"attributes\":{},\"id\":\"2386\",\"type\":\"IntEditor\"},{\"attributes\":{},\"id\":\"2366\",\"type\":\"NumberEditor\"},{\"attributes\":{},\"id\":\"2376\",\"type\":\"NumberEditor\"},{\"attributes\":{\"format\":\"0,0.0[00000]\"},\"id\":\"2370\",\"type\":\"NumberFormatter\"},{\"attributes\":{},\"id\":\"2380\",\"type\":\"StringFormatter\"},{\"attributes\":{\"format\":\"0,0.0[00000]\"},\"id\":\"2355\",\"type\":\"NumberFormatter\"},{\"attributes\":{\"editor\":{\"id\":\"2371\"},\"field\":\"PC_2\",\"formatter\":{\"id\":\"2370\"},\"title\":\"PC 2\"},\"id\":\"2372\",\"type\":\"TableColumn\"},{\"attributes\":{\"data\":{\"Algorithm\":[\"Scrypt\",\"Scrypt\",\"X13\",\"SHA-256\",\"Ethash\",\"Scrypt\",\"X11\",\"CryptoNight-V7\",\"Ethash\",\"Equihash\",\"SHA-512\",\"Multiple\",\"SHA-256\",\"SHA-256\",\"Scrypt\",\"X15\",\"X11\",\"Scrypt\",\"Scrypt\",\"Scrypt\",\"Multiple\",\"Scrypt\",\"SHA-256\",\"Scrypt\",\"Scrypt\",\"Scrypt\",\"Quark\",\"Groestl\",\"Scrypt\",\"Scrypt\",\"Scrypt\",\"Scrypt\",\"Scrypt\",\"X11\",\"Scrypt\",\"Groestl\",\"Multiple\",\"SHA-256\",\"Scrypt\",\"Scrypt\",\"Scrypt\",\"Scrypt\",\"PoS\",\"Scrypt\",\"Scrypt\",\"NeoScrypt\",\"Scrypt\",\"Scrypt\",\"Scrypt\",\"Scrypt\",\"X11\",\"Scrypt\",\"X11\",\"SHA-256\",\"Scrypt\",\"Scrypt\",\"Scrypt\",\"SHA3\",\"Scrypt\",\"HybridScryptHash256\",\"Scrypt\",\"Scrypt\",\"SHA-256\",\"Scrypt\",\"X13\",\"Scrypt\",\"SHA-256\",\"Scrypt\",\"X13\",\"NeoScrypt\",\"Scrypt\",\"Scrypt\",\"Scrypt\",\"Scrypt\",\"Scrypt\",\"Scrypt\",\"X11\",\"X11\",\"SHA-256\",\"Multiple\",\"SHA-256\",\"PHI1612\",\"X11\",\"SHA-256\",\"SHA-256\",\"SHA-256\",\"X11\",\"Scrypt\",\"Scrypt\",\"Scrypt\",\"Scrypt\",\"Lyra2REv2\",\"Scrypt\",\"X11\",\"Multiple\",\"SHA-256\",\"X13\",\"Scrypt\",\"CryptoNight\",\"CryptoNight\",\"Shabal256\",\"Counterparty\",\"Scrypt\",\"SHA-256\",\"Groestl\",\"Scrypt\",\"Scrypt\",\"Scrypt\",\"X13\",\"Scrypt\",\"Scrypt\",\"Scrypt\",\"Scrypt\",\"X13\",\"Scrypt\",\"Stanford Folding\",\"X11\",\"Multiple\",\"QuBit\",\"Scrypt\",\"Scrypt\",\"Scrypt\",\"M7 POW\",\"Scrypt\",\"SHA-256\",\"Scrypt\",\"X11\",\"SHA3\",\"X11\",\"Lyra2RE\",\"SHA-256\",\"QUAIT\",\"X11\",\"X11\",\"Scrypt\",\"Scrypt\",\"Scrypt\",\"Ethash\",\"X13\",\"Blake2b\",\"SHA-256\",\"X15\",\"X11\",\"SHA-256\",\"BLAKE256\",\"Scrypt\",\"1GB AES Pattern Search\",\"SHA-256\",\"X11\",\"Scrypt\",\"SHA-256\",\"SHA-256\",\"NIST5\",\"Scrypt\",\"Scrypt\",\"X11\",\"Dagger\",\"Scrypt\",\"X11GOST\",\"X11\",\"Scrypt\",\"SHA-256\",\"Scrypt\",\"PoS\",\"Scrypt\",\"X11\",\"X11\",\"SHA-256\",\"SHA-256\",\"NIST5\",\"X11\",\"Scrypt\",\"POS 3.0\",\"Scrypt\",\"Scrypt\",\"Scrypt\",\"X13\",\"X11\",\"X11\",\"Equihash\",\"X11\",\"Scrypt\",\"CryptoNight\",\"SHA-256\",\"SHA-256\",\"X11\",\"Scrypt\",\"Multiple\",\"Scrypt\",\"Scrypt\",\"Scrypt\",\"SHA-256\",\"Scrypt\",\"Scrypt\",\"SHA-256D\",\"PoS\",\"Scrypt\",\"X11\",\"Lyra2Z\",\"PoS\",\"X13\",\"X14\",\"PoS\",\"SHA-256D\",\"Ethash\",\"Equihash\",\"DPoS\",\"X11\",\"Scrypt\",\"X11\",\"X13\",\"X11\",\"PoS\",\"Scrypt\",\"Scrypt\",\"X11\",\"PoS\",\"X11\",\"SHA-256\",\"Scrypt\",\"X11\",\"Scrypt\",\"Scrypt\",\"X11\",\"CryptoNight\",\"Scrypt\",\"Scrypt\",\"Scrypt\",\"Scrypt\",\"Quark\",\"QuBit\",\"Scrypt\",\"CryptoNight\",\"Lyra2RE\",\"Scrypt\",\"SHA-256\",\"X11\",\"Scrypt\",\"X11\",\"Scrypt\",\"CryptoNight-V7\",\"Scrypt\",\"Scrypt\",\"Scrypt\",\"X13\",\"X11\",\"Equihash\",\"Scrypt\",\"Scrypt\",\"Lyra2RE\",\"Scrypt\",\"Dagger-Hashimoto\",\"X11\",\"Blake2S\",\"X11\",\"Scrypt\",\"PoS\",\"X11\",\"NIST5\",\"PoS\",\"X11\",\"Scrypt\",\"Scrypt\",\"Scrypt\",\"SHA-256\",\"X11\",\"Scrypt\",\"Scrypt\",\"SHA-256\",\"PoS\",\"Scrypt\",\"X15\",\"SHA-256\",\"Scrypt\",\"POS 3.0\",\"CryptoNight-V7\",\"536\",\"Argon2d\",\"Blake2b\",\"Cloverhash\",\"CryptoNight\",\"NIST5\",\"X11\",\"NIST5\",\"Skein\",\"Scrypt\",\"X13\",\"Scrypt\",\"X11\",\"X11\",\"Scrypt\",\"CryptoNight\",\"X13\",\"Time Travel\",\"Scrypt\",\"Keccak\",\"SkunkHash v2 Raptor\",\"X11\",\"Skein\",\"SHA-256\",\"X11\",\"Scrypt\",\"VeChainThor Authority\",\"Scrypt\",\"PoS\",\"Scrypt\",\"Scrypt\",\"Scrypt\",\"Scrypt\",\"Scrypt\",\"Scrypt\",\"Scrypt\",\"CryptoNight\",\"SHA-512\",\"Ouroboros\",\"X11\",\"Equihash\",\"NeoScrypt\",\"X11\",\"Scrypt\",\"NeoScrypt\",\"Lyra2REv2\",\"Equihash\",\"Scrypt\",\"SHA-256\",\"NIST5\",\"PHI1612\",\"Dagger\",\"Scrypt\",\"Quark\",\"Scrypt\",\"POS 2.0\",\"Scrypt\",\"SHA-256\",\"X11\",\"NeoScrypt\",\"Ethash\",\"NeoScrypt\",\"X11\",\"DPoS\",\"NIST5\",\"X13\",\"Multiple\",\"Scrypt\",\"CryptoNight\",\"CryptoNight\",\"Ethash\",\"NIST5\",\"Quark\",\"X11\",\"CryptoNight-V7\",\"Scrypt\",\"Scrypt\",\"Scrypt\",\"X11\",\"BLAKE256\",\"X11\",\"NeoScrypt\",\"Quark\",\"NeoScrypt\",\"Scrypt\",\"Scrypt\",\"Scrypt\",\"X11\",\"X11\",\"SHA-256\",\"C11\",\"POS 3.0\",\"Ethash\",\"Scrypt\",\"CryptoNight\",\"SkunkHash\",\"Scrypt\",\"CryptoNight\",\"Scrypt\",\"Dagger\",\"Lyra2REv2\",\"X13\",\"Proof-of-BibleHash\",\"SHA-256 + Hive\",\"Scrypt\",\"Scrypt\",\"X11\",\"C11\",\"Proof-of-Authority\",\"X11\",\"XEVAN\",\"Scrypt\",\"VBFT\",\"Ethash\",\"CryptoNight\",\"Scrypt\",\"IMesh\",\"NIST5\",\"Scrypt\",\"Scrypt\",\"Equihash\",\"Scrypt\",\"Lyra2Z\",\"Green Protocol\",\"PoS\",\"Scrypt\",\"Semux BFT consensus\",\"X11\",\"Quark\",\"PoS\",\"CryptoNight\",\"X16R\",\"Scrypt\",\"NIST5\",\"Lyra2RE\",\"XEVAN\",\"Tribus\",\"Scrypt\",\"Lyra2Z\",\"CryptoNight\",\"CryptoNight Heavy\",\"CryptoNight\",\"Scrypt\",\"Scrypt\",\"Jump Consistent Hash\",\"SHA-256D\",\"CryptoNight\",\"Scrypt\",\"X15\",\"Scrypt\",\"Quark\",\"SHA-256\",\"DPoS\",\"X16R\",\"HMQ1725\",\"X11\",\"X16R\",\"Quark\",\"Quark\",\"Scrypt\",\"Lyra2REv2\",\"Quark\",\"Scrypt\",\"Scrypt\",\"CryptoNight-V7\",\"Cryptonight-GPU\",\"XEVAN\",\"CryptoNight Heavy\",\"X11\",\"X11\",\"Scrypt\",\"PoS\",\"SHA-256\",\"Keccak\",\"X11\",\"X11\",\"Scrypt\",\"SHA-512\",\"X16R\",\"ECC 256K1\",\"Equihash\",\"XEVAN\",\"Lyra2Z\",\"SHA-256\",\"XEVAN\",\"X11\",\"CryptoNight\",\"Quark\",\"Blake\",\"Blake\",\"Equihash\",\"Exosis\",\"Scrypt\",\"Scrypt\",\"Equihash\",\"Quark\",\"Equihash\",\"Quark\",\"Scrypt\",\"QuBit\",\"X11\",\"Scrypt\",\"XEVAN\",\"SHA-256D\",\"X11\",\"SHA-256\",\"X13\",\"SHA-256\",\"X11\",\"DPoS\",\"Scrypt\",\"Scrypt\",\"X11\",\"NeoScrypt\",\"Scrypt\",\"Blake\",\"Scrypt\",\"SHA-256\",\"Scrypt\",\"X11\",\"Scrypt\",\"Scrypt\",\"SHA-256\",\"X11\",\"SHA-256\",\"Scrypt\",\"Scrypt\",\"Scrypt\",\"Groestl\",\"X11\",\"Scrypt\",\"PoS\",\"Scrypt\",\"Scrypt\",\"X11\",\"SHA-256\",\"DPoS\",\"Scrypt\",\"Scrypt\",\"NeoScrypt\",\"Multiple\",\"X13\",\"Equihash+Scrypt\",\"DPoS\",\"Ethash\",\"DPoS\",\"SHA-256\",\"Leased POS\",\"PoS\",\"TRC10\",\"PoS\",\"SHA-256\",\"Scrypt\",\"CryptoNight\",\"Equihash\",\"Scrypt\"],\"Class\":{\"__ndarray__\":\"AAAAAAAAAAAAAAAAAwAAAAMAAAADAAAAAAAAAAMAAAADAAAAAwAAAAAAAAADAAAAAAAAAAAAAAADAAAAAAAAAAMAAAADAAAAAAAAAAAAAAADAAAAAwAAAAMAAAADAAAAAwAAAAAAAAADAAAAAwAAAAMAAAAAAAAAAwAAAAAAAAADAAAAAwAAAAAAAAAAAAAAAwAAAAMAAAADAAAAAwAAAAMAAAADAAAAAAAAAAAAAAADAAAAAwAAAAMAAAADAAAAAwAAAAAAAAAAAAAAAwAAAAAAAAADAAAAAwAAAAMAAAADAAAAAAAAAAMAAAADAAAAAAAAAAMAAAAAAAAAAAAAAAAAAAADAAAAAwAAAAMAAAAAAAAAAAAAAAAAAAAAAAAAAAAAAAMAAAADAAAAAwAAAAAAAAAAAAAAAwAAAAAAAAADAAAAAAAAAAAAAAADAAAAAwAAAAMAAAADAAAAAAAAAAAAAAADAAAAAAAAAAMAAAADAAAAAAAAAAAAAAADAAAAAAAAAAAAAAADAAAAAwAAAAAAAAAAAAAAAwAAAAAAAAAAAAAAAwAAAAAAAAADAAAAAAAAAAMAAAAAAAAAAwAAAAAAAAAAAAAAAwAAAAMAAAAAAAAAAwAAAAMAAAADAAAAAAAAAAMAAAADAAAAAwAAAAMAAAADAAAAAAAAAAAAAAADAAAAAwAAAAMAAAAAAAAAAwAAAAAAAAADAAAAAwAAAAAAAAADAAAAAAAAAAMAAAAAAAAAAAAAAAMAAAADAAAAAAAAAAMAAAADAAAAAAAAAAAAAAADAAAAAAAAAAMAAAAAAAAAAAAAAAAAAAADAAAAAwAAAAMAAAADAAAAAAAAAAAAAAAAAAAAAAAAAAAAAAADAAAAAwAAAAAAAAAAAAAAAAAAAAAAAAAAAAAAAwAAAAAAAAAAAAAAAAAAAAAAAAAAAAAAAwAAAAAAAAADAAAAAAAAAAAAAAADAAAAAAAAAAMAAAAAAAAAAAAAAAMAAAAAAAAAAwAAAAAAAAADAAAAAAAAAAMAAAAAAAAAAAAAAAAAAAAAAAAAAwAAAAAAAAAAAAAAAAAAAAAAAAAAAAAAAwAAAAMAAAAAAAAAAAAAAAMAAAADAAAAAAAAAAAAAAAAAAAAAAAAAAAAAAADAAAAAAAAAAAAAAAAAAAAAAAAAAAAAAAAAAAAAAAAAAAAAAADAAAAAAAAAAAAAAAAAAAAAAAAAAAAAAAAAAAAAwAAAAMAAAADAAAAAAAAAAAAAAAAAAAAAAAAAAMAAAAAAAAAAwAAAAAAAAAAAAAAAwAAAAAAAAADAAAAAwAAAAAAAAADAAAAAwAAAAAAAAADAAAAAAAAAAAAAAAAAAAAAwAAAAAAAAAAAAAAAwAAAAAAAAAAAAAAAAAAAAAAAAAAAAAAAAAAAAAAAAADAAAAAAAAAAMAAAAAAAAAAAAAAAAAAAAAAAAAAwAAAAAAAAADAAAAAAAAAAMAAAADAAAAAwAAAAMAAAAAAAAAAwAAAAAAAAAAAAAAAwAAAAAAAAADAAAAAwAAAAMAAAAAAAAAAwAAAAAAAAADAAAAAwAAAAMAAAAAAAAAAwAAAAAAAAADAAAAAAAAAAAAAAAAAAAAAwAAAAAAAAADAAAAAwAAAAMAAAADAAAAAwAAAAAAAAAAAAAAAwAAAAAAAAAAAAAAAAAAAAMAAAAAAAAAAwAAAAAAAAADAAAAAAAAAAMAAAAAAAAAAAAAAAAAAAAAAAAAAwAAAAAAAAAAAAAAAwAAAAAAAAAAAAAAAAAAAAMAAAADAAAAAwAAAAMAAAAAAAAAAAAAAAAAAAAAAAAAAwAAAAAAAAADAAAAAwAAAAMAAAAAAAAAAAAAAAMAAAADAAAAAAAAAAAAAAADAAAAAAAAAAMAAAADAAAAAwAAAAAAAAADAAAAAwAAAAAAAAAAAAAAAAAAAAMAAAADAAAAAwAAAAAAAAADAAAAAAAAAAMAAAADAAAAAAAAAAMAAAADAAAAAwAAAAMAAAAAAAAAAQAAAAEAAAADAAAAAwAAAAMAAAAAAAAAAQAAAAAAAAAAAAAAAAAAAAAAAAADAAAAAwAAAAMAAAADAAAAAAAAAAAAAAAAAAAAAwAAAAAAAAADAAAAAAAAAAAAAAAAAAAAAAAAAAMAAAAAAAAAAAAAAAMAAAAAAAAAAAAAAAMAAAADAAAAAAAAAAMAAAAAAAAAAwAAAAMAAAADAAAAAwAAAAAAAAAAAAAAAwAAAAAAAAADAAAAAAAAAAAAAAAAAAAAAAAAAAAAAAAAAAAAAwAAAAMAAAADAAAAAAAAAAAAAAAAAAAAAAAAAAAAAAAAAAAAAwAAAAAAAAADAAAAAwAAAAMAAAADAAAAAAAAAAAAAAAAAAAAAAAAAAMAAAAAAAAAAAAAAAMAAAAAAAAAAAAAAAMAAAABAAAAAwAAAAAAAAADAAAAAwAAAAAAAAAAAAAAAwAAAAAAAAADAAAAAwAAAAAAAAADAAAAAwAAAAAAAAADAAAAAAAAAAMAAAAAAAAAAAAAAAMAAAAAAAAAAAAAAAAAAAAAAAAAAAAAAAMAAAADAAAAAwAAAAAAAAAAAAAAAAAAAAMAAAAAAAAAAwAAAAAAAAADAAAAAAAAAAAAAAAAAAAAAAAAAAMAAAAAAAAAAAAAAAAAAAADAAAAAAAAAAMAAAAAAAAAAwAAAAAAAAAAAAAAAAAAAAMAAAADAAAAAAAAAAAAAAAAAAAAAAAAAAAAAAAAAAAAAwAAAAAAAAADAAAAAAAAAAMAAAAAAAAAAAAAAAEAAAAAAAAAAgAAAAAAAAAAAAAAAAAAAAMAAAADAAAAAAAAAA==\",\"dtype\":\"int32\",\"order\":\"little\",\"shape\":[532]},\"CoinName\":[\"42 Coin\",\"404Coin\",\"EliteCoin\",\"Bitcoin\",\"Ethereum\",\"Litecoin\",\"Dash\",\"Monero\",\"Ethereum Classic\",\"ZCash\",\"Bitshares\",\"DigiByte\",\"BitcoinDark\",\"PayCoin\",\"ProsperCoin\",\"KoboCoin\",\"Spreadcoin\",\"Argentum\",\"Aurora Coin\",\"BlueCoin\",\"MyriadCoin\",\"MoonCoin\",\"ZetaCoin\",\"SexCoin\",\"Quatloo\",\"EnergyCoin\",\"QuarkCoin\",\"Riecoin\",\"Digitalcoin \",\"BitBar\",\"Catcoin\",\"CryptoBullion\",\"CannaCoin\",\"CryptCoin\",\"CasinoCoin\",\"Diamond\",\"Verge\",\"DevCoin\",\"EarthCoin\",\"E-Gulden\",\"Einsteinium\",\"Emerald\",\"Exclusive Coin\",\"FlutterCoin\",\"Franko\",\"FeatherCoin\",\"GrandCoin\",\"GlobalCoin\",\"GoldCoin\",\"HoboNickels\",\"HyperStake\",\"Infinite Coin\",\"IOCoin\",\"IXcoin\",\"KrugerCoin\",\"LuckyCoin\",\"Litebar \",\"MaxCoin\",\"MegaCoin\",\"MediterraneanCoin\",\"MintCoin\",\"MinCoin\",\"MazaCoin\",\"Nautilus Coin\",\"NavCoin\",\"NobleCoin\",\"Namecoin\",\"NyanCoin\",\"OpalCoin\",\"Orbitcoin\",\"PotCoin\",\"PhoenixCoin\",\"Reddcoin\",\"RonPaulCoin\",\"StableCoin\",\"SmartCoin\",\"SuperCoin\",\"SyncCoin\",\"SysCoin\",\"TeslaCoin\",\"TigerCoin\",\"TittieCoin\",\"TorCoin\",\"TerraCoin\",\"UnbreakableCoin\",\"Unobtanium\",\"UroCoin\",\"UnitaryStatus Dollar\",\"UltraCoin\",\"ViaCoin\",\"VeriCoin\",\"Vertcoin\",\"WorldCoin\",\"X11 Coin\",\"Crypti\",\"JouleCoin\",\"StealthCoin\",\"ZCC Coin\",\"ByteCoin\",\"DigitalNote \",\"BurstCoin\",\"StorjCoin\",\"MonaCoin\",\"Neutron\",\"FairCoin\",\"Gulden\",\"RubyCoin\",\"PesetaCoin\",\"Kore\",\"Wild Beast Coin\",\"Dnotes\",\"Flo\",\"8BIT Coin\",\"Sativa Coin\",\"ArtByte\",\"Folding Coin\",\"Ucoin\",\"Unitus\",\"CypherPunkCoin\",\"OmniCron\",\"Vtorrent\",\"GreenCoin\",\"Cryptonite\",\"MasterCoin\",\"SoonCoin\",\"1Credit\",\"IslaCoin\",\"Nexus\",\"MarsCoin \",\"Crypto\",\"Anarchists Prime\",\"Droidz\",\"BowsCoin\",\"Squall Coin\",\"Song Coin\",\"BitZeny\",\"Diggits\",\"Expanse\",\"Paycon\",\"Siacoin\",\"Emercoin\",\"EverGreenCoin\",\"MindCoin\",\"I0coin\",\"Decred\",\"Revolution VR\",\"HOdlcoin\",\"EDRCoin\",\"Hitcoin\",\"Gamecredits\",\"DubaiCoin\",\"CarpeDiemCoin\",\"PWR Coin\",\"BillaryCoin\",\"GPU Coin\",\"Adzcoin\",\"SoilCoin\",\"YoCoin\",\"SibCoin\",\"EuropeCoin\",\"ZeitCoin\",\"SwingCoin\",\"SafeExchangeCoin\",\"Nebuchadnezzar\",\"Francs\",\"BolivarCoin\",\"Ratecoin\",\"Revenu\",\"Clockcoin\",\"VIP Tokens\",\"BitSend\",\"Omni\",\"Let it Ride\",\"PutinCoin\",\"iBankCoin\",\"Frankywillcoin\",\"MudraCoin\",\"PizzaCoin\",\"Lutetium Coin\",\"Komodo\",\"GoldBlocks\",\"CarterCoin\",\"Karbo\",\"BitTokens\",\"ZayedCoin\",\"MustangCoin\",\"ZoneCoin\",\"Circuits of Value\",\"RootCoin\",\"DopeCoin\",\"BitCurrency\",\"DollarCoin\",\"Swiscoin\",\"Shilling\",\"BuzzCoin\",\"Opair\",\"PesoBit\",\"Halloween Coin\",\"ZCoin\",\"CoffeeCoin\",\"RoyalCoin\",\"GanjaCoin V2\",\"TeamUP\",\"LanaCoin\",\"Elementrem\",\"ZClassic\",\"ARK\",\"InsaneCoin\",\"KiloCoin\",\"ArtexCoin\",\"EmberCoin\",\"XenixCoin\",\"FreeCoin\",\"PLNCoin\",\"AquariusCoin\",\"Kurrent\",\"Creatio\",\"Eternity\",\"Eurocoin\",\"BitcoinFast\",\"Stakenet\",\"BitConnect Coin\",\"MoneyCoin\",\"Enigma\",\"Cannabis Industry Coin\",\"Russiacoin\",\"PandaCoin\",\"GameUnits\",\"GAKHcoin\",\"Allsafe\",\"LiteCreed\",\"OsmiumCoin\",\"Bikercoins\",\"HexxCoin\",\"Klingon Empire Darsek\",\"Internet of People\",\"KushCoin\",\"Printerium\",\"PacCoin\",\"Impeach\",\"Citadel\",\"Zilbercoin\",\"FirstCoin\",\"BeaverCoin\",\"FindCoin\",\"VaultCoin\",\"Zero\",\"OpenChat\",\"Canada eCoin\",\"Zoin\",\"RenosCoin\",\"DubaiCoin\",\"VirtacoinPlus\",\"TajCoin\",\"Impact\",\"EB3coin\",\"Atmos\",\"HappyCoin\",\"Coinonat\",\"MacronCoin\",\"Condensate\",\"Independent Money System\",\"ArgusCoin\",\"LomoCoin\",\"ProCurrency\",\"GoldReserve\",\"BenjiRolls\",\"GrowthCoin\",\"ILCoin\",\"Phreak\",\"Degas Coin\",\"HTML5 Coin\",\"Ultimate Secure Cash\",\"EquiTrader\",\"QTUM\",\"Quantum Resistant Ledger\",\"Espers\",\"Dynamic\",\"Nano\",\"ChanCoin\",\"Dinastycoin\",\"Denarius\",\"DigitalPrice\",\"Virta Unique Coin\",\"Bitcoin Planet\",\"Unify\",\"BritCoin\",\"SocialCoin\",\"ArcticCoin\",\"DAS\",\"Linda\",\"LeviarCoin\",\"DeepOnion\",\"Bitcore\",\"gCn Coin\",\"SmartCash\",\"Signatum\",\"Onix\",\"Cream\",\"Bitcoin Cash\",\"Monoeci\",\"Draftcoin\",\"Vechain\",\"Sojourn Coin\",\"Stakecoin\",\"NewYorkCoin\",\"FrazCoin\",\"Kronecoin\",\"AdCoin\",\"Linx\",\"CoinonatX\",\"Ethereum Dark\",\"Sumokoin\",\"Obsidian\",\"Cardano\",\"Regalcoin\",\"BitcoinZ\",\"TrezarCoin\",\"Elements\",\"TerraNovaCoin\",\"VIVO Coin\",\"Rupee\",\"Bitcoin Gold\",\"WomenCoin\",\"Theresa May Coin\",\"NamoCoin\",\"LUXCoin\",\"Pirl\",\"Xios\",\"Bitcloud 2.0\",\"eBoost\",\"KekCoin\",\"BlackholeCoin\",\"Infinity Economics\",\"Pura\",\"Innova\",\"Ellaism\",\"GoByte\",\"Magnet\",\"Lamden Tau\",\"Electra\",\"Bitcoin Diamond\",\"SHIELD\",\"Cash & Back Coin\",\"UltraNote\",\"BitCoal\",\"DaxxCoin\",\"Bulwark\",\"Kalkulus\",\"AC3\",\"Lethean\",\"GermanCoin\",\"LiteCoin Ultra\",\"PopularCoin\",\"PhantomX\",\"Photon\",\"Sucre\",\"SparksPay\",\"Digiwage\",\"GunCoin\",\"IrishCoin\",\"Trollcoin\",\"Litecoin Plus\",\"Monkey Project\",\"Pioneer Coin\",\"UnitedBitcoin\",\"Interzone\",\"TokenPay\",\"1717 Masonic Commemorative Token\",\"My Big Coin\",\"TurtleCoin\",\"MUNcoin\",\"Unified Society USDEX\",\"Niobio Cash\",\"ShareChain\",\"Travelflex\",\"KREDS\",\"Tokyo Coin\",\"BiblePay\",\"LitecoinCash\",\"BitFlip\",\"LottoCoin\",\"Crypto Improvement Fund\",\"Stipend\",\"Poa Network\",\"Pushi\",\"Ellerium\",\"Velox\",\"Ontology\",\"Callisto Network\",\"BitTube\",\"Poseidon\",\"Aidos Kuneen\",\"Bitspace\",\"Briacoin\",\"Ignition\",\"Bitrolium\",\"MedicCoin\",\"Alpenschillling\",\"Bitcoin Green\",\"Deviant Coin\",\"Abjcoin\",\"Semux\",\"FuturoCoin\",\"Carebit\",\"Zealium\",\"Monero Classic\",\"Proton\",\"iDealCash\",\"Jumpcoin\",\"Infinex\",\"Bitcoin Incognito\",\"KEYCO\",\"HollyWoodCoin\",\"GINcoin\",\"PlatinCoin\",\"Loki\",\"Newton Coin\",\"Swisscoin\",\"Xt3ch\",\"MassGrid\",\"TheVig\",\"PluraCoin\",\"EmaratCoin\",\"Dekado\",\"Lynx\",\"Poseidon Quark\",\"BitcoinWSpectrum\",\"Muse\",\"Motion\",\"PlusOneCoin\",\"Axe\",\"Trivechain\",\"Dystem\",\"Giant\",\"Peony Coin\",\"Absolute Coin\",\"Vitae\",\"HexCoin\",\"TPCash\",\"Webchain\",\"Ryo\",\"Urals Coin\",\"Qwertycoin\",\"ARENON\",\"EUNO\",\"MMOCoin\",\"Ketan\",\"Project Pai\",\"XDNA\",\"PAXEX\",\"Azart\",\"ThunderStake\",\"Kcash\",\"Xchange\",\"Acute Angle Cloud\",\"CrypticCoin\",\"Bettex coin\",\"Actinium\",\"Bitcoin SV\",\"BitMoney\",\"Junson Ming Chan Coin\",\"FREDEnergy\",\"HerbCoin\",\"Universal Molecule\",\"Lithium\",\"PirateCash\",\"Exosis\",\"Block-Logic\",\"Oduwa\",\"Beam\",\"Galilel\",\"Bithereum\",\"Crypto Sports\",\"Credit\",\"SLICE\",\"Dash Platinum\",\"Nasdacoin\",\"Beetle Coin\",\"Titan Coin\",\"Award\",\"BLAST\",\"Bitcoin Rhodium\",\"GlobalToken\",\"Insane Coin\",\"ALAX\",\"LiteDoge\",\"SolarCoin\",\"TruckCoin\",\"UFO Coin\",\"OrangeCoin\",\"BlakeCoin\",\"BitstarCoin\",\"NeosCoin\",\"HyperCoin\",\"PinkCoin\",\"Crypto Escudo\",\"AudioCoin\",\"IncaKoin\",\"Piggy Coin\",\"Crown Coin\",\"Genstake\",\"SmileyCoin\",\"XiaoMiCoin\",\"Groestlcoin\",\"CapriCoin\",\" ClubCoin\",\"Radium\",\"Bata\",\"Pakcoin\",\"Creditbit \",\"OKCash\",\"Lisk\",\"HiCoin\",\"WhiteCoin\",\"FriendshipCoin\",\"JoinCoin\",\"Triangles Coin\",\"Vollar\",\"EOS\",\"Reality Clash\",\"Oxycoin\",\"TigerCash\",\"Waves\",\"Particl\",\"BitTorrent\",\"Nxt\",\"ZEPHYR\",\"Gapcoin\",\"Beldex\",\"Horizen\",\"BitcoinPlus\"],\"PC_1\":{\"__ndarray__\":\"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\",\"dtype\":\"float64\",\"order\":\"little\",\"shape\":[532]},\"PC_2\":{\"__ndarray__\":\"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\",\"dtype\":\"float64\",\"order\":\"little\",\"shape\":[532]},\"PC_3\":{\"__ndarray__\":\"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\",\"dtype\":\"float64\",\"order\":\"little\",\"shape\":[532]},\"ProofType\":[\"PoW/PoS\",\"PoW/PoS\",\"PoW/PoS\",\"PoW\",\"PoW\",\"PoW\",\"PoW/PoS\",\"PoW\",\"PoW\",\"PoW\",\"PoS\",\"PoW\",\"PoW/PoS\",\"PoS\",\"PoW\",\"PoW/PoS\",\"PoW\",\"PoW\",\"PoW/PoS\",\"PoW/PoS\",\"PoW\",\"PoW\",\"PoW\",\"PoW\",\"PoW\",\"PoW/PoS\",\"PoW\",\"PoW\",\"PoW\",\"PoW/PoS\",\"PoW\",\"PoW/PoS\",\"PoW\",\"PoW\",\"PoC\",\"PoW/PoS\",\"PoW\",\"PoW\",\"PoW\",\"PoW\",\"PoW\",\"PoW\",\"PoS\",\"PoS/PoW/PoT\",\"PoW\",\"PoW\",\"PoW\",\"PoW\",\"PoW\",\"PoW/PoS\",\"PoS\",\"PoW\",\"PoW/PoS\",\"PoW\",\"PoW\",\"PoW\",\"PoW\",\"PoW/PoS\",\"PoW\",\"PoW\",\"PoS\",\"PoW\",\"PoW/PoS\",\"PoS\",\"PoW/PoS\",\"PoW\",\"PoW\",\"PoW\",\"PoW/PoS\",\"PoW/PoS\",\"PoW/PoS\",\"PoW/PoS\",\"PoW/PoS\",\"PoW\",\"PoW\",\"PoW\",\"PoS\",\"PoW/PoS\",\"PoW\",\"PoS\",\"PoW\",\"PoS\",\"PoW/PoS\",\"PoW\",\"PoW\",\"PoW\",\"PoW\",\"PoW/PoS\",\"PoW/PoS\",\"PoW\",\"PoST\",\"PoW\",\"PoW\",\"PoW/PoS\",\"PoS\",\"PoW\",\"PoW/PoS\",\"PoW/PoS\",\"PoW\",\"PoW\",\"PoC\",\"PoS\",\"PoW\",\"PoW/PoS\",\"PoW/PoS\",\"PoW\",\"PoS\",\"PoW\",\"PoW/PoS\",\"PoW\",\"PoS\",\"PoW\",\"PoW/PoS\",\"PoW/PoS\",\"PoW\",\"PoW\",\"PoS\",\"PoW\",\"PoW\",\"PoW\",\"PoW/PoS\",\"PoW\",\"PoW\",\"PoW\",\"PoW\",\"PoW\",\"PoW/PoS\",\"PoW/nPoS\",\"PoW\",\"PoW\",\"PoW\",\"PoW/PoS\",\"PoW\",\"PoS/PoW\",\"PoW\",\"PoW\",\"PoS\",\"PoW\",\"PoW/PoS\",\"PoW\",\"PoW/PoS\",\"PoW/PoS\",\"PoW\",\"PoW\",\"PoW/PoS\",\"PoW\",\"PoW\",\"PoW/PoS\",\"PoW/PoS\",\"PoW\",\"PoW/PoS\",\"PoW\",\"PoW/PoS\",\"PoW/PoS\",\"PoS\",\"PoW\",\"PoW\",\"PoW\",\"PoW\",\"PoW/PoS\",\"PoS\",\"PoW/PoS\",\"PoC\",\"PoS\",\"PoW\",\"PoW\",\"PoW/PoS\",\"PoW/PoS\",\"PoW/PoS\",\"PoW/PoS\",\"PoW/PoS\",\"PoW\",\"PoS\",\"PoW/PoS\",\"PoW/PoS\",\"PoW/PoS\",\"PoS\",\"PoW\",\"PoS\",\"dPoW/PoW\",\"PoW/PoS\",\"PoW/PoS\",\"PoW\",\"PoW/PoS\",\"PoW\",\"PoW/PoS\",\"PoW/PoS\",\"PoW\",\"PoW/PoS\",\"PoW\",\"PoS\",\"PoW\",\"PoW/PoW\",\"PoW\",\"PoW/PoS\",\"PoS\",\"PoW/PoS\",\"PoW/PoS\",\"PoW\",\"PoS\",\"PoS\",\"PoW/PoS\",\"PoS\",\"PoW/PoS\",\"PoW\",\"PoW\",\"DPoS\",\"PoW/PoS\",\"PoW\",\"PoW\",\"PoW/PoS\",\"PoW/PoS\",\"PoS\",\"PoW/PoS\",\"PoW/PoS\",\"PoW\",\"PoS\",\"PoW/PoS\",\"PoW/PoS\",\"PoW/PoS\",\"TPoS\",\"PoW/PoS\",\"PoW/PoS\",\"PoW/PoS\",\"PoW\",\"PoW/PoS\",\"PoS\",\"PoW/PoS\",\"PoW/PoS\",\"PoS\",\"PoW/PoS\",\"PoW\",\"PoW\",\"PoW\",\"PoW/PoS\",\"PoW/PoS\",\"PoW/PoS\",\"PoW/PoS\",\"PoW\",\"PoW/PoS\",\"PoW\",\"PoS\",\"PoW/PoS \",\"PoW\",\"PoS\",\"PoW\",\"PoW\",\"PoW/PoS\",\"PoW\",\"PoW\",\"PoS\",\"PoW\",\"PoW/PoS\",\"PoW/PoS\",\"PoW/PoS\",\"PoW\",\"PoS\",\"PoW/PoS\",\"PoW\",\"PoS\",\"PoW/PoS\",\"PoW/PoS\",\"PoW/PoS\",\"PoW/PoS\",\"PoS\",\"PoW/PoS\",\"PoW\",\"PoS\",\"PoW\",\"PoS\",\"PoW/PoS\",\"PoW/PoS\",\"PoS\",\"PoW\",\"PoS\",\"PoW\",\"PoW/PoS\",\"PoW\",\"PoW\",\"PoW\",\"PoW\",\"PoW/PoS\",\"PoW\",\"PoW/PoS\",\"PoW/PoS\",\"PoW\",\"PoW/PoS\",\"PoW\",\"PoW\",\"PoW\",\"PoW/PoS\",\"PoW\",\"PoW/PoS\",\"PoW\",\"PoW\",\"PoW\",\"PoS\",\"PoW\",\"PoW/PoS\",\"PoW\",\"PoW/PoS\",\"PoS\",\"Proof of Authority\",\"PoW\",\"PoS\",\"PoW\",\"PoW\",\"PoW\",\"PoW\",\"PoW\",\"PoW/PoS\",\"PoW/PoS\",\"PoW\",\"PoS\",\"PoS\",\"PoW/PoS\",\"PoW\",\"PoW/PoS\",\"PoW\",\"PoW/PoS\",\"PoW\",\"PoS\",\"PoW\",\"PoW/PoS\",\"PoW/PoS\",\"PoW/PoS\",\"PoW/PoS\",\"PoW\",\"PoW/PoS\",\"PoW/PoS\",\"PoW\",\"PoS\",\"PoW/PoS\",\"PoS\",\"PoW\",\"PoW\",\"PoW\",\"PoW\",\"PoW/PoS\",\"DPoS\",\"PoW/PoS\",\"PoW/PoS\",\"PoW\",\"PoW/PoS\",\"PoW\",\"PoW\",\"PoW\",\"PoS\",\"PoS\",\"PoW\",\"PoW\",\"PoW/PoS\",\"PoW/PoS\",\"PoW\",\"PoW/PoS\",\"PoW\",\"PoW\",\"PoW\",\"PoS\",\"PoW\",\"PoW\",\"PoW/PoS\",\"PoW/PoS\",\"PoS\",\"PoW\",\"PoW\",\"PoW\",\"PoS\",\"PoS\",\"PoW and PoS\",\"PoW\",\"PoW\",\"PoW/PoS\",\"PoW\",\"PoW\",\"PoW\",\"PoW\",\"PoS\",\"POBh\",\"PoW + Hive\",\"PoW\",\"PoW\",\"PoW\",\"PoW/PoS\",\"PoA\",\"PoW/PoS\",\"PoW/PoS\",\"PoS\",\"PoS\",\"PoW\",\"PoW\",\"PoW\",\"PoW\",\"PoW/PoS\",\"PoW/PoS\",\"PoW/PoS\",\"PoW\",\"PoS\",\"PoW\",\"PoS\",\"PoS\",\"PoW/PoS\",\"DPoS\",\"PoW\",\"PoW/PoS\",\"PoS\",\"PoW\",\"PoS\",\"PoW/PoS\",\"PoW\",\"PoW\",\"PoS/PoW\",\"PoW\",\"PoS\",\"PoW\",\"PoW\",\"PoW\",\"PoW\",\"PoW/PoS\",\"PoS\",\"PoW\",\"PoW/PoS\",\"PoW\",\"PoW/PoS\",\"PoS\",\"HPoW\",\"PoS\",\"PoS\",\"PoS\",\"PoW\",\"PoW\",\"PoW\",\"PoW/PoS\",\"PoS\",\"PoW/PoS\",\"PoS\",\"PoW/PoS\",\"PoS\",\"PoW\",\"PoW/PoS\",\"PoW\",\"PoW\",\"PoW\",\"PoW\",\"PoS\",\"PoW/PoS\",\"PoS\",\"PoS\",\"PoW\",\"PoW/PoS\",\"PoS\",\"PoW\",\"PoW/PoS\",\"Zero-Knowledge Proof\",\"PoW\",\"DPOS\",\"PoW\",\"PoS\",\"PoW\",\"PoW\",\"Pos\",\"PoS\",\"PoW\",\"PoW/PoS\",\"PoW\",\"PoW\",\"PoS\",\"PoW\",\"PoW\",\"PoW/PoS\",\"PoW\",\"PoW/PoS\",\"PoW\",\"PoS\",\"PoW/PoS\",\"PoW\",\"PoS\",\"PoW/PoS\",\"PoW/PoS\",\"PoW/PoS\",\"PoW/PoS\",\"PoW\",\"PoW\",\"PoW\",\"PoW/PoS\",\"DPoS\",\"PoW/PoS\",\"PoW\",\"PoW/PoS\",\"PoW\",\"PoW/PoS\",\"PoW\",\"PoW/PoS\",\"PoS\",\"PoW/PoS\",\"PoW/PoS\",\"PoW\",\"PoW/PoS\",\"PoW/PoS\",\"PoW/PoS\",\"PoW\",\"PoW/PoS\",\"PoW\",\"PoW/PoS\",\"PoW\",\"PoW/PoS\",\"PoW/PoS\",\"PoS\",\"PoW\",\"PoW\",\"Proof of Trust\",\"PoW/PoS\",\"DPoS\",\"PoS\",\"PoW/PoS\",\"PoW/PoS\",\"PoW\",\"PoW/PoS\",\"PoW\",\"DPoS\",\"PoW\",\"DPoS\",\"PoS\",\"LPoS\",\"PoS\",\"DPoS\",\"PoS/LPoS\",\"DPoS\",\"PoW/PoS\",\"PoW\",\"PoW\",\"PoS\"],\"TotalCoinSupply\":[\"42\",\"532000000\",\"314159265359\",\"21000000\",\"0\",\"84000000\",\"22000000\",\"0\",\"210000000\",\"21000000\",\"3600570502\",\"21000000000\",\"22000000\",\"12500000\",\"21000000\",\"350000000\",\"20000000\",\"64000000\",\"16768584\",\"0\",\"2000000000\",\"384000000000\",\"169795588\",\"250000000\",\"100000000\",\"0\",\"247000000\",\"84000000\",\"48166000\",\"500000\",\"21000000 \",\"1000000\",\"13140000\",\"18000000\",\"40000000000\",\"4380000\",\"16555000000\",\"21000000000\",\"13500000000\",\"21000000 \",\"299792458\",\"32000000\",\"0\",\"0\",\"11235813\",\"336000000\",\"1420609614\",\"70000000\",\"72245700\",\"120000000\",\"0\",\"90600000000\",\"22000000\",\"21000000\",\"265420800\",\"20000000\",\"1350000\",\"100000000\",\"42000000\",\"200000000\",\"0\",\"10000000\",\"2419200000\",\"16180000\",\"0\",\"15000000000\",\"21000000\",\"337000000\",\"0\",\"3770000\",\"420000000\",\"98000000\",\"0\",\"21000000\",\"250000000\",\"51200000\",\"0\",\"1000\",\"888000000\",\"100000000\",\"47011968\",\"2300000000\",\"10000000\",\"42000000\",\"80000000\",\"250000\",\"0\",\"1600000000\",\"100000000\",\"23000000\",\"0\",\"84000000\",\"265420800\",\"5500000\",\"0\",\"45000000\",\"0\",\"1000000000\",\"184467440735\",\"10000000000\",\"2158812800\",\"500000000\",\"105120000\",\"68000000\",\"0\",\"1680000000\",\"0\",\"166386000\",\"12000000\",\"2628000\",\"500000000\",\"160000000\",\"0\",\"10000000\",\"1000000000\",\"1000000000\",\"20000000\",\"0\",\"0\",\"3371337\",\"20000000\",\"10000000000\",\"1840000000\",\"619478\",\"21000000\",\"92000000000\",\"0\",\"78000000\",\"33000000\",\"65789100\",\"53760000\",\"5060000\",\"21000000\",\"0\",\"210240000\",\"250000000\",\"100000000\",\"16906397\",\"50000000\",\"0\",\"1000000000\",\"26298000\",\"16000000\",\"21000000\",\"21000000\",\"210000000\",\"81962100\",\"22000000\",\"26550000000\",\"84000000\",\"10500000\",\"21626280000 \",\"0\",\"42000000\",\"221052632\",\"84000000\",\"30000000\",\"168351300\",\"24000000\",\"384000000\",\" 99000000000\",\"40000000\",\"2147483647\",\"20000000\",\"20000000\",\"25000000\",\"75000000\",\"222725000\",\"525000000\",\"90000000\",\"139000000\",\"616448\",\"33500000\",\"2000000000\",\"44333333\",\"100000000\",\"200000000\",\"25000000\",\"657000000\",\"200000000\",\"50000000\",\"90000000\",\"10000000\",\"21000000\",\"9736000\",\"3000000\",\"21000000\",\"1200000000\",\"0\",\"200000000\",\"0\",\"10638298\",\"3100000000\",\"30000000\",\"20000000000\",\"74000000\",\"0\",\"1500000000\",\"21400000\",\"39999898\",\"2500124\",\"100000000\",\"301000000\",\"7506000000\",\"26205539\",\"21000000\",\"125000000\",\"30000000\",\"10000000000\",\"500000000\",\"850000000\",\"3853326.77707314\",\"50000000\",\"38540000 \",\"42000000\",\"228000000\",\"20000000\",\"60000000\",\"20000000\",\"33000000\",\"76500000\",\"28000000\",\"650659833\",\"5000000\",\"21000000\",\"144000000\",\"32514916898\",\"13000000\",\"3315789\",\"15000000\",\"78835200\",\"2714286\",\"25000000\",\"9999999\",\"500000000\",\"21000000\",\"9354000\",\"20000000\",\"100000000000\",\"21933333\",\"185000000\",\"55000000\",\"110000000\",\"3360000\",\"14524851.4827\",\"1000000000\",\"17000000\",\"1000000000\",\"100000000 \",\"21000000\",\"34426423\",\"2232901\",\"100000000\",\"36900000\",\"110000000\",\"4000000000\",\"110290030\",\"100000000\",\"48252000\",\"400000000\",\"500000000\",\"21212121\",\"28600000\",\"1000000000\",\"75000000000\",\"40000000\",\"35520400\",\"2000000000\",\"2500000000\",\"30000000\",\"105000000\",\"90000000000\",\"200084200\",\"72000000\",\"100000000\",\"105000000\",\"50000000000\",\"0\",\"340282367\",\"30000000\",\"2000000000\",\"10000000\",\"100000000\",\"120000000\",\"100000000\",\"19276800\",\"30000000\",\" 75000000\",\"60000000\",\"18900000\",\"50000000000\",\"54000000\",\"18898187.6216583\",\"21000000\",\"200000000000\",\"5000000000\",\"137500000\",\"1100000000\",\"100000000\",\"21000000\",\"9507271\",\"17405891.19707116\",\"86712634466\",\"10500000000\",\"61599965\",\"0\",\"20000000\",\"84000000\",\"100000000\",\"100000000\",\"48252000\",\"4200000\",\"88888888\",\"91388946\",\"45000000000\",\"27000000\",\"21000000000\",\"400000000\",\"1800000000\",\"15733333\",\"27000000\",\"24000000\",\"21000000\",\"25000000000\",\"100000000\",\"1200000000\",\"60000000\",\"156306732.71\",\"21000000\",\"200000000\",\"100000000\",\"21000000\",\"14788275.991\",\"9000000000\",\"350000000\",\"45000000\",\"280000000\",\"31800000\",\"144000000\",\"500000000\",\"30000000000\",\"210000000\",\"660000000\",\"210000000\",\"85000000000\",\"12500000\",\"10000000000\",\"27716121\",\"20000000\",\"550000000\",\"999481516\",\"50000000000\",\"150000000\",\"4999999999\",\"50000000\",\" 90000000000\",\"19800000\",\"21000000\",\"120000000\",\"500000000\",\"64000000\",\"900000000\",\"4000000\",\"21000000\",\"23000000\",\"20166000\",\"23000000\",\"25000000\",\"1618033\",\"30000000\",\"1000000000000\",\"16600000\",\"232000000\",\"336000000\",\"10000000000\",\"100000000\",\"1100000000\",\"800000000\",\"5200000000\",\"840000000\",\"40000000\",\"18406979840\",\"500000000\",\"19340594\",\"252460800\",\"25000000\",\"60000000\",\"124000000\",\"1000000000\",\"6500000000\",\"1000000000\",\"21000000\",\"25000000\",\"50000000\",\"3000000\",\"5000000\",\"70000000\",\"500000000\",\"300000000\",\"21000000\",\"88000000\",\"30000000\",\"100000000\",\"100000000\",\"200000000\",\"80000000\",\"18400000\",\"45000000\",\"5121951220\",\"21000000\",\"26280000\",\"21000000\",\"18000000\",\"26000000\",\"10500000\",\"600000518\",\"150000000\",\"184000000000\",\"10200000000\",\"44000000\",\"168000000\",\"100000000\",\"1000000000\",\"84000000\",\"90000000\",\"92000000000\",\"650000000 \",\"100262205\",\"18081806 \",\"22075700\",\"21000000\",\"21000000\",\"82546564\",\"21000000\",\"5151000\",\"16880000000\",\"52500000\",\"100000000\",\"22105263\",\"1000000000\",\"1750000000\",\"88188888\",\"210000000\",\"184470000000\",\"55000000\",\"50000000\",\"260000000\",\"210000000\",\"2100000000\",\"366000000\",\"100000000\",\"25000000\",\"18000000000\",\"1000000000\",\"100000000\",\"1000000000\",\"7600000000\",\"50000000\",\"84000000\",\"21000000\",\"70000000000\",\"0\",\"8080000000\",\"54000000\",\"105120001.44\",\"25228800\",\"105000000\",\"21000000\",\"120000000\",\"21000000\",\"262800000\",\"19035999\",\"30886000\",\"13370000\",\"74800000000\",\"100000000\",\"19700000\",\"84000000\",\"500000000\",\"5000000000\",\"420000000\",\"64000000\",\"2100000\",\"168000000\",\"30000000\",\"1000000000\",\"35000000000\",\"98100000000\",\"0\",\"4000000000\",\"200000000\",\"7000000000\",\"54256119\",\"21000000\",\"0\",\"500000000\",\"1000000000\",\"10500000000\",\"190000000\",\"1000000000\",\"42000000\",\"15000000\",\"50000000000\",\"400000000\",\"105000000\",\"208000000\",\"160000000\",\"9000000\",\"5000000\",\"182000000\",\"16504333\",\"105000000\",\"159918400\",\"10008835635\",\"300000000\",\"60168145\",\"2800000\",\"120000\",\"2100000000\",\"0\",\"24487944\",\"0\",\"1000000000\",\"100000000\",\"8634140\",\"990000000000\",\"1000000000\",\"2000000000\",\"250000000\",\"1400222610\",\"21000000\",\"1000000\"],\"TotalCoinsMined\":{\"__ndarray__\":\"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\",\"dtype\":\"float64\",\"order\":\"little\",\"shape\":[532]}},\"selected\":{\"id\":\"2344\"},\"selection_policy\":{\"id\":\"2393\"}},\"id\":\"2343\",\"type\":\"ColumnDataSource\"},{\"attributes\":{},\"id\":\"2356\",\"type\":\"NumberEditor\"},{\"attributes\":{\"editor\":{\"id\":\"2361\"},\"field\":\"TotalCoinSupply\",\"formatter\":{\"id\":\"2360\"},\"title\":\"TotalCoinSupply\"},\"id\":\"2362\",\"type\":\"TableColumn\"},{\"attributes\":{\"source\":{\"id\":\"2343\"}},\"id\":\"2392\",\"type\":\"CDSView\"},{\"attributes\":{},\"id\":\"2346\",\"type\":\"StringEditor\"},{\"attributes\":{\"margin\":[5,5,5,5],\"name\":\"HSpacer02233\",\"sizing_mode\":\"stretch_width\"},\"id\":\"2342\",\"type\":\"Spacer\"},{\"attributes\":{},\"id\":\"2360\",\"type\":\"StringFormatter\"},{\"attributes\":{\"children\":[{\"id\":\"2342\"},{\"id\":\"2390\"},{\"id\":\"2395\"}],\"margin\":[0,0,0,0],\"name\":\"Row02229\",\"tags\":[\"embedded\"]},\"id\":\"2341\",\"type\":\"Row\"},{\"attributes\":{\"editor\":{\"id\":\"2356\"},\"field\":\"TotalCoinsMined\",\"formatter\":{\"id\":\"2355\"},\"title\":\"TotalCoinsMined\"},\"id\":\"2357\",\"type\":\"TableColumn\"},{\"attributes\":{\"columns\":[{\"id\":\"2347\"},{\"id\":\"2352\"},{\"id\":\"2357\"},{\"id\":\"2362\"},{\"id\":\"2367\"},{\"id\":\"2372\"},{\"id\":\"2377\"},{\"id\":\"2382\"},{\"id\":\"2387\"}],\"height\":300,\"reorderable\":false,\"source\":{\"id\":\"2343\"},\"view\":{\"id\":\"2392\"},\"width\":700},\"id\":\"2390\",\"type\":\"DataTable\"},{\"attributes\":{},\"id\":\"2361\",\"type\":\"StringEditor\"},{\"attributes\":{},\"id\":\"2381\",\"type\":\"StringEditor\"},{\"attributes\":{\"margin\":[5,5,5,5],\"name\":\"HSpacer02234\",\"sizing_mode\":\"stretch_width\"},\"id\":\"2395\",\"type\":\"Spacer\"},{\"attributes\":{\"editor\":{\"id\":\"2381\"},\"field\":\"CoinName\",\"formatter\":{\"id\":\"2380\"},\"title\":\"CoinName\"},\"id\":\"2382\",\"type\":\"TableColumn\"},{\"attributes\":{},\"id\":\"2351\",\"type\":\"StringEditor\"},{\"attributes\":{\"editor\":{\"id\":\"2346\"},\"field\":\"Algorithm\",\"formatter\":{\"id\":\"2345\"},\"title\":\"Algorithm\"},\"id\":\"2347\",\"type\":\"TableColumn\"},{\"attributes\":{},\"id\":\"2385\",\"type\":\"NumberFormatter\"},{\"attributes\":{\"format\":\"0,0.0[00000]\"},\"id\":\"2365\",\"type\":\"NumberFormatter\"},{\"attributes\":{},\"id\":\"2350\",\"type\":\"StringFormatter\"},{\"attributes\":{\"format\":\"0,0.0[00000]\"},\"id\":\"2375\",\"type\":\"NumberFormatter\"},{\"attributes\":{\"editor\":{\"id\":\"2366\"},\"field\":\"PC_1\",\"formatter\":{\"id\":\"2365\"},\"title\":\"PC 1\"},\"id\":\"2367\",\"type\":\"TableColumn\"},{\"attributes\":{\"editor\":{\"id\":\"2351\"},\"field\":\"ProofType\",\"formatter\":{\"id\":\"2350\"},\"title\":\"ProofType\"},\"id\":\"2352\",\"type\":\"TableColumn\"}],\"root_ids\":[\"2341\"]},\"title\":\"Bokeh Application\",\"version\":\"2.4.3\"}};\n",
       "    var render_items = [{\"docid\":\"845bd329-c4a6-43c6-a0b5-bc67705716a6\",\"root_ids\":[\"2341\"],\"roots\":{\"2341\":\"b1e02d57-ef09-43e5-8351-271b961210c2\"}}];\n",
       "    root.Bokeh.embed.embed_items_notebook(docs_json, render_items);\n",
       "  }\n",
       "  if (root.Bokeh !== undefined && root.Bokeh.Panel !== undefined) {\n",
       "    embed_document(root);\n",
       "  } else {\n",
       "    var attempts = 0;\n",
       "    var timer = setInterval(function(root) {\n",
       "      if (root.Bokeh !== undefined && root.Bokeh.Panel !== undefined) {\n",
       "        clearInterval(timer);\n",
       "        embed_document(root);\n",
       "      } else if (document.readyState == \"complete\") {\n",
       "        attempts++;\n",
       "        if (attempts > 200) {\n",
       "          clearInterval(timer);\n",
       "          console.log(\"Bokeh: ERROR: Unable to run BokehJS code because BokehJS library is missing\");\n",
       "        }\n",
       "      }\n",
       "    }, 25, root)\n",
       "  }\n",
       "})(window);</script>"
      ],
      "text/plain": [
       ":Table   [Algorithm,ProofType,TotalCoinsMined,TotalCoinSupply,PC 1,PC 2,PC 3,CoinName,Class]"
      ]
     },
     "execution_count": 141,
     "metadata": {
      "application/vnd.holoviews_exec.v0+json": {
       "id": "2341"
      }
     },
     "output_type": "execute_result"
    }
   ],
   "source": [
    "# Create a table with tradable cryptocurrencies.\n",
    "clustered_df.hvplot.table()"
   ]
  },
  {
   "cell_type": "code",
   "execution_count": 142,
   "metadata": {},
   "outputs": [
    {
     "name": "stdout",
     "output_type": "stream",
     "text": [
      "There are 532 tradable cryptocurrencies.\n"
     ]
    }
   ],
   "source": [
    "# Print the total number of tradable cryptocurrencies.\n",
    "print(f\"There are {clustered_df['CoinName'].count()} tradable cryptocurrencies.\")"
   ]
  },
  {
   "cell_type": "code",
   "execution_count": 143,
   "metadata": {},
   "outputs": [
    {
     "data": {
      "text/plain": [
       "array([[4.20000000e-11, 0.00000000e+00],\n",
       "       [5.32000000e-04, 1.06585544e-03],\n",
       "       [3.14159265e-01, 2.95755135e-02],\n",
       "       ...,\n",
       "       [1.40022261e-03, 9.90135079e-04],\n",
       "       [2.10000000e-05, 7.37028150e-06],\n",
       "       [1.00000000e-06, 1.29582282e-07]])"
      ]
     },
     "execution_count": 143,
     "metadata": {},
     "output_type": "execute_result"
    }
   ],
   "source": [
    "# Scaling data to create the scatter plot with tradable cryptocurrencies.\n",
    "Scaled_data = clustered_df[['TotalCoinSupply','TotalCoinsMined']]\n",
    "Min_Max_Scaler = MinMaxScaler().fit_transform(Scaled_data)\n",
    "Min_Max_Scaler"
   ]
  },
  {
   "cell_type": "code",
   "execution_count": 144,
   "metadata": {},
   "outputs": [
    {
     "data": {
      "text/html": [
       "<div>\n",
       "<style scoped>\n",
       "    .dataframe tbody tr th:only-of-type {\n",
       "        vertical-align: middle;\n",
       "    }\n",
       "\n",
       "    .dataframe tbody tr th {\n",
       "        vertical-align: top;\n",
       "    }\n",
       "\n",
       "    .dataframe thead th {\n",
       "        text-align: right;\n",
       "    }\n",
       "</style>\n",
       "<table border=\"1\" class=\"dataframe\">\n",
       "  <thead>\n",
       "    <tr style=\"text-align: right;\">\n",
       "      <th></th>\n",
       "      <th>TotalCoinSupply</th>\n",
       "      <th>TotalCoinsMined</th>\n",
       "      <th>CoinName</th>\n",
       "      <th>Class</th>\n",
       "    </tr>\n",
       "  </thead>\n",
       "  <tbody>\n",
       "    <tr>\n",
       "      <th>42</th>\n",
       "      <td>4.200000e-11</td>\n",
       "      <td>0.000000</td>\n",
       "      <td>42 Coin</td>\n",
       "      <td>0</td>\n",
       "    </tr>\n",
       "    <tr>\n",
       "      <th>404</th>\n",
       "      <td>5.320000e-04</td>\n",
       "      <td>0.001066</td>\n",
       "      <td>404Coin</td>\n",
       "      <td>0</td>\n",
       "    </tr>\n",
       "    <tr>\n",
       "      <th>1337</th>\n",
       "      <td>3.141593e-01</td>\n",
       "      <td>0.029576</td>\n",
       "      <td>EliteCoin</td>\n",
       "      <td>0</td>\n",
       "    </tr>\n",
       "    <tr>\n",
       "      <th>BTC</th>\n",
       "      <td>2.100000e-05</td>\n",
       "      <td>0.000018</td>\n",
       "      <td>Bitcoin</td>\n",
       "      <td>3</td>\n",
       "    </tr>\n",
       "    <tr>\n",
       "      <th>ETH</th>\n",
       "      <td>0.000000e+00</td>\n",
       "      <td>0.000109</td>\n",
       "      <td>Ethereum</td>\n",
       "      <td>3</td>\n",
       "    </tr>\n",
       "    <tr>\n",
       "      <th>LTC</th>\n",
       "      <td>8.400000e-05</td>\n",
       "      <td>0.000064</td>\n",
       "      <td>Litecoin</td>\n",
       "      <td>3</td>\n",
       "    </tr>\n",
       "    <tr>\n",
       "      <th>DASH</th>\n",
       "      <td>2.200000e-05</td>\n",
       "      <td>0.000009</td>\n",
       "      <td>Dash</td>\n",
       "      <td>0</td>\n",
       "    </tr>\n",
       "    <tr>\n",
       "      <th>XMR</th>\n",
       "      <td>0.000000e+00</td>\n",
       "      <td>0.000017</td>\n",
       "      <td>Monero</td>\n",
       "      <td>3</td>\n",
       "    </tr>\n",
       "    <tr>\n",
       "      <th>ETC</th>\n",
       "      <td>2.100000e-04</td>\n",
       "      <td>0.000115</td>\n",
       "      <td>Ethereum Classic</td>\n",
       "      <td>3</td>\n",
       "    </tr>\n",
       "    <tr>\n",
       "      <th>ZEC</th>\n",
       "      <td>2.100000e-05</td>\n",
       "      <td>0.000007</td>\n",
       "      <td>ZCash</td>\n",
       "      <td>3</td>\n",
       "    </tr>\n",
       "  </tbody>\n",
       "</table>\n",
       "</div>"
      ],
      "text/plain": [
       "      TotalCoinSupply  TotalCoinsMined          CoinName  Class\n",
       "42       4.200000e-11         0.000000           42 Coin      0\n",
       "404      5.320000e-04         0.001066           404Coin      0\n",
       "1337     3.141593e-01         0.029576         EliteCoin      0\n",
       "BTC      2.100000e-05         0.000018           Bitcoin      3\n",
       "ETH      0.000000e+00         0.000109          Ethereum      3\n",
       "LTC      8.400000e-05         0.000064          Litecoin      3\n",
       "DASH     2.200000e-05         0.000009              Dash      0\n",
       "XMR      0.000000e+00         0.000017            Monero      3\n",
       "ETC      2.100000e-04         0.000115  Ethereum Classic      3\n",
       "ZEC      2.100000e-05         0.000007             ZCash      3"
      ]
     },
     "execution_count": 144,
     "metadata": {},
     "output_type": "execute_result"
    }
   ],
   "source": [
    "# Create a new DataFrame that has the scaled data with the clustered_df DataFrame index.\n",
    "plot_df = pd.DataFrame(\n",
    "    data=Min_Max_Scaler,\n",
    "    index=clustered_df.index,\n",
    "    columns=['TotalCoinSupply','TotalCoinsMined'])\n",
    "\n",
    "# Add the \"CoinName\" column from the clustered_df DataFrame to the new DataFrame.\n",
    "plot_df['CoinName'] = crypto_names['CoinName']\n",
    "\n",
    "# Add the \"Class\" column from the clustered_df DataFrame to the new DataFrame. \n",
    "plot_df['Class'] = clustered_df['Class']\n",
    "\n",
    "plot_df.head(10)"
   ]
  },
  {
   "cell_type": "code",
   "execution_count": 145,
   "metadata": {},
   "outputs": [
    {
     "data": {},
     "metadata": {},
     "output_type": "display_data"
    },
    {
     "data": {
      "application/vnd.holoviews_exec.v0+json": "",
      "text/html": [
       "<div id='2407'>\n",
       "  <div class=\"bk-root\" id=\"72203acc-75b9-42e3-97d0-ceacdfc416b1\" data-root-id=\"2407\"></div>\n",
       "</div>\n",
       "<script type=\"application/javascript\">(function(root) {\n",
       "  function embed_document(root) {\n",
       "    var docs_json = {\"a3dbfd5a-d7ba-4913-9605-285ab1f35a94\":{\"defs\":[{\"extends\":null,\"module\":null,\"name\":\"ReactiveHTML1\",\"overrides\":[],\"properties\":[]},{\"extends\":null,\"module\":null,\"name\":\"FlexBox1\",\"overrides\":[],\"properties\":[{\"default\":\"flex-start\",\"kind\":null,\"name\":\"align_content\"},{\"default\":\"flex-start\",\"kind\":null,\"name\":\"align_items\"},{\"default\":\"row\",\"kind\":null,\"name\":\"flex_direction\"},{\"default\":\"wrap\",\"kind\":null,\"name\":\"flex_wrap\"},{\"default\":\"flex-start\",\"kind\":null,\"name\":\"justify_content\"}]},{\"extends\":null,\"module\":null,\"name\":\"GridStack1\",\"overrides\":[],\"properties\":[{\"default\":\"warn\",\"kind\":null,\"name\":\"mode\"},{\"default\":null,\"kind\":null,\"name\":\"ncols\"},{\"default\":null,\"kind\":null,\"name\":\"nrows\"},{\"default\":true,\"kind\":null,\"name\":\"allow_resize\"},{\"default\":true,\"kind\":null,\"name\":\"allow_drag\"},{\"default\":[],\"kind\":null,\"name\":\"state\"}]},{\"extends\":null,\"module\":null,\"name\":\"click1\",\"overrides\":[],\"properties\":[{\"default\":\"\",\"kind\":null,\"name\":\"terminal_output\"},{\"default\":\"\",\"kind\":null,\"name\":\"debug_name\"},{\"default\":0,\"kind\":null,\"name\":\"clears\"}]},{\"extends\":null,\"module\":null,\"name\":\"NotificationAreaBase1\",\"overrides\":[],\"properties\":[{\"default\":\"bottom-right\",\"kind\":null,\"name\":\"position\"},{\"default\":0,\"kind\":null,\"name\":\"_clear\"}]},{\"extends\":null,\"module\":null,\"name\":\"NotificationArea1\",\"overrides\":[],\"properties\":[{\"default\":[],\"kind\":null,\"name\":\"notifications\"},{\"default\":\"bottom-right\",\"kind\":null,\"name\":\"position\"},{\"default\":0,\"kind\":null,\"name\":\"_clear\"},{\"default\":[{\"background\":\"#ffc107\",\"icon\":{\"className\":\"fas fa-exclamation-triangle\",\"color\":\"white\",\"tagName\":\"i\"},\"type\":\"warning\"},{\"background\":\"#007bff\",\"icon\":{\"className\":\"fas fa-info-circle\",\"color\":\"white\",\"tagName\":\"i\"},\"type\":\"info\"}],\"kind\":null,\"name\":\"types\"}]},{\"extends\":null,\"module\":null,\"name\":\"Notification\",\"overrides\":[],\"properties\":[{\"default\":null,\"kind\":null,\"name\":\"background\"},{\"default\":3000,\"kind\":null,\"name\":\"duration\"},{\"default\":null,\"kind\":null,\"name\":\"icon\"},{\"default\":\"\",\"kind\":null,\"name\":\"message\"},{\"default\":null,\"kind\":null,\"name\":\"notification_type\"},{\"default\":false,\"kind\":null,\"name\":\"_destroyed\"}]},{\"extends\":null,\"module\":null,\"name\":\"TemplateActions1\",\"overrides\":[],\"properties\":[{\"default\":0,\"kind\":null,\"name\":\"open_modal\"},{\"default\":0,\"kind\":null,\"name\":\"close_modal\"}]},{\"extends\":null,\"module\":null,\"name\":\"MaterialTemplateActions1\",\"overrides\":[],\"properties\":[{\"default\":0,\"kind\":null,\"name\":\"open_modal\"},{\"default\":0,\"kind\":null,\"name\":\"close_modal\"}]}],\"roots\":{\"references\":[{\"attributes\":{\"source\":{\"id\":\"2518\"}},\"id\":\"2525\",\"type\":\"CDSView\"},{\"attributes\":{\"source\":{\"id\":\"2451\"}},\"id\":\"2458\",\"type\":\"CDSView\"},{\"attributes\":{\"fill_alpha\":{\"value\":0.1},\"fill_color\":{\"value\":\"#6d904f\"},\"hatch_alpha\":{\"value\":0.1},\"hatch_color\":{\"value\":\"#6d904f\"},\"line_alpha\":{\"value\":0.1},\"line_color\":{\"value\":\"#6d904f\"},\"size\":{\"value\":5.477225575051661},\"x\":{\"field\":\"TotalCoinsMined\"},\"y\":{\"field\":\"TotalCoinSupply\"}},\"id\":\"2522\",\"type\":\"Scatter\"},{\"attributes\":{\"fill_alpha\":{\"value\":0.1},\"fill_color\":{\"value\":\"#30a2da\"},\"hatch_alpha\":{\"value\":0.1},\"hatch_color\":{\"value\":\"#30a2da\"},\"line_alpha\":{\"value\":0.1},\"line_color\":{\"value\":\"#30a2da\"},\"size\":{\"value\":5.477225575051661},\"x\":{\"field\":\"TotalCoinsMined\"},\"y\":{\"field\":\"TotalCoinSupply\"}},\"id\":\"2455\",\"type\":\"Scatter\"},{\"attributes\":{\"click_policy\":\"mute\",\"coordinates\":null,\"group\":null,\"items\":[{\"id\":\"2470\"},{\"id\":\"2492\"},{\"id\":\"2516\"},{\"id\":\"2542\"}],\"location\":[0,0],\"title\":\"Class\"},\"id\":\"2469\",\"type\":\"Legend\"},{\"attributes\":{\"fill_alpha\":{\"value\":0.2},\"fill_color\":{\"value\":\"#6d904f\"},\"hatch_alpha\":{\"value\":0.2},\"hatch_color\":{\"value\":\"#6d904f\"},\"line_alpha\":{\"value\":0.2},\"line_color\":{\"value\":\"#6d904f\"},\"size\":{\"value\":5.477225575051661},\"x\":{\"field\":\"TotalCoinsMined\"},\"y\":{\"field\":\"TotalCoinSupply\"}},\"id\":\"2523\",\"type\":\"Scatter\"},{\"attributes\":{\"fill_alpha\":{\"value\":0.2},\"fill_color\":{\"value\":\"#30a2da\"},\"hatch_alpha\":{\"value\":0.2},\"hatch_color\":{\"value\":\"#30a2da\"},\"line_alpha\":{\"value\":0.2},\"line_color\":{\"value\":\"#30a2da\"},\"size\":{\"value\":5.477225575051661},\"x\":{\"field\":\"TotalCoinsMined\"},\"y\":{\"field\":\"TotalCoinSupply\"}},\"id\":\"2456\",\"type\":\"Scatter\"},{\"attributes\":{},\"id\":\"2466\",\"type\":\"UnionRenderers\"},{\"attributes\":{\"coordinates\":null,\"data_source\":{\"id\":\"2451\"},\"glyph\":{\"id\":\"2454\"},\"group\":null,\"hover_glyph\":null,\"muted_glyph\":{\"id\":\"2456\"},\"nonselection_glyph\":{\"id\":\"2455\"},\"selection_glyph\":{\"id\":\"2471\"},\"view\":{\"id\":\"2458\"}},\"id\":\"2457\",\"type\":\"GlyphRenderer\"},{\"attributes\":{},\"id\":\"2539\",\"type\":\"UnionRenderers\"},{\"attributes\":{\"label\":{\"value\":\"0\"},\"renderers\":[{\"id\":\"2457\"}]},\"id\":\"2470\",\"type\":\"LegendItem\"},{\"attributes\":{\"coordinates\":null,\"data_source\":{\"id\":\"2472\"},\"glyph\":{\"id\":\"2475\"},\"group\":null,\"hover_glyph\":null,\"muted_glyph\":{\"id\":\"2477\"},\"nonselection_glyph\":{\"id\":\"2476\"},\"selection_glyph\":{\"id\":\"2493\"},\"view\":{\"id\":\"2479\"}},\"id\":\"2478\",\"type\":\"GlyphRenderer\"},{\"attributes\":{},\"id\":\"2452\",\"type\":\"Selection\"},{\"attributes\":{\"coordinates\":null,\"data_source\":{\"id\":\"2518\"},\"glyph\":{\"id\":\"2521\"},\"group\":null,\"hover_glyph\":null,\"muted_glyph\":{\"id\":\"2523\"},\"nonselection_glyph\":{\"id\":\"2522\"},\"selection_glyph\":{\"id\":\"2543\"},\"view\":{\"id\":\"2525\"}},\"id\":\"2524\",\"type\":\"GlyphRenderer\"},{\"attributes\":{\"label\":{\"value\":\"3\"},\"renderers\":[{\"id\":\"2524\"}]},\"id\":\"2542\",\"type\":\"LegendItem\"},{\"attributes\":{},\"id\":\"2473\",\"type\":\"Selection\"},{\"attributes\":{\"angle\":{\"value\":0.0},\"fill_alpha\":{\"value\":1.0},\"fill_color\":{\"value\":\"#6d904f\"},\"hatch_alpha\":{\"value\":1.0},\"hatch_color\":{\"value\":\"#6d904f\"},\"hatch_scale\":{\"value\":12.0},\"hatch_weight\":{\"value\":1.0},\"line_alpha\":{\"value\":1.0},\"line_cap\":{\"value\":\"butt\"},\"line_color\":{\"value\":\"#6d904f\"},\"line_dash\":{\"value\":[]},\"line_dash_offset\":{\"value\":0},\"line_join\":{\"value\":\"bevel\"},\"line_width\":{\"value\":1},\"marker\":{\"value\":\"circle\"},\"size\":{\"value\":5.477225575051661},\"x\":{\"field\":\"TotalCoinsMined\"},\"y\":{\"field\":\"TotalCoinSupply\"}},\"id\":\"2543\",\"type\":\"Scatter\"},{\"attributes\":{},\"id\":\"2489\",\"type\":\"UnionRenderers\"},{\"attributes\":{\"fill_color\":{\"value\":\"#30a2da\"},\"hatch_color\":{\"value\":\"#30a2da\"},\"line_color\":{\"value\":\"#30a2da\"},\"size\":{\"value\":5.477225575051661},\"x\":{\"field\":\"TotalCoinsMined\"},\"y\":{\"field\":\"TotalCoinSupply\"}},\"id\":\"2454\",\"type\":\"Scatter\"},{\"attributes\":{\"coordinates\":null,\"group\":null,\"text_color\":\"black\",\"text_font_size\":\"12pt\"},\"id\":\"2416\",\"type\":\"Title\"},{\"attributes\":{\"fill_alpha\":{\"value\":0.1},\"fill_color\":{\"value\":\"#fc4f30\"},\"hatch_alpha\":{\"value\":0.1},\"hatch_color\":{\"value\":\"#fc4f30\"},\"line_alpha\":{\"value\":0.1},\"line_color\":{\"value\":\"#fc4f30\"},\"size\":{\"value\":5.477225575051661},\"x\":{\"field\":\"TotalCoinsMined\"},\"y\":{\"field\":\"TotalCoinSupply\"}},\"id\":\"2476\",\"type\":\"Scatter\"},{\"attributes\":{},\"id\":\"2420\",\"type\":\"LinearScale\"},{\"attributes\":{\"below\":[{\"id\":\"2424\"}],\"center\":[{\"id\":\"2427\"},{\"id\":\"2431\"}],\"height\":300,\"left\":[{\"id\":\"2428\"}],\"margin\":[5,5,5,5],\"min_border_bottom\":10,\"min_border_left\":10,\"min_border_right\":10,\"min_border_top\":10,\"renderers\":[{\"id\":\"2457\"},{\"id\":\"2478\"},{\"id\":\"2500\"},{\"id\":\"2524\"}],\"right\":[{\"id\":\"2469\"}],\"sizing_mode\":\"fixed\",\"title\":{\"id\":\"2416\"},\"toolbar\":{\"id\":\"2438\"},\"width\":700,\"x_range\":{\"id\":\"2409\"},\"x_scale\":{\"id\":\"2420\"},\"y_range\":{\"id\":\"2410\"},\"y_scale\":{\"id\":\"2422\"}},\"id\":\"2415\",\"subtype\":\"Figure\",\"type\":\"Plot\"},{\"attributes\":{\"source\":{\"id\":\"2472\"}},\"id\":\"2479\",\"type\":\"CDSView\"},{\"attributes\":{\"margin\":[5,5,5,5],\"name\":\"HSpacer02409\",\"sizing_mode\":\"stretch_width\"},\"id\":\"2560\",\"type\":\"Spacer\"},{\"attributes\":{\"fill_color\":{\"value\":\"#fc4f30\"},\"hatch_color\":{\"value\":\"#fc4f30\"},\"line_color\":{\"value\":\"#fc4f30\"},\"size\":{\"value\":5.477225575051661},\"x\":{\"field\":\"TotalCoinsMined\"},\"y\":{\"field\":\"TotalCoinSupply\"}},\"id\":\"2475\",\"type\":\"Scatter\"},{\"attributes\":{\"axis_label\":\"TotalCoinsMined\",\"coordinates\":null,\"formatter\":{\"id\":\"2446\"},\"group\":null,\"major_label_policy\":{\"id\":\"2447\"},\"ticker\":{\"id\":\"2425\"}},\"id\":\"2424\",\"type\":\"LinearAxis\"},{\"attributes\":{\"fill_color\":{\"value\":\"#6d904f\"},\"hatch_color\":{\"value\":\"#6d904f\"},\"line_color\":{\"value\":\"#6d904f\"},\"size\":{\"value\":5.477225575051661},\"x\":{\"field\":\"TotalCoinsMined\"},\"y\":{\"field\":\"TotalCoinSupply\"}},\"id\":\"2521\",\"type\":\"Scatter\"},{\"attributes\":{},\"id\":\"2422\",\"type\":\"LinearScale\"},{\"attributes\":{\"margin\":[5,5,5,5],\"name\":\"HSpacer02408\",\"sizing_mode\":\"stretch_width\"},\"id\":\"2408\",\"type\":\"Spacer\"},{\"attributes\":{\"axis\":{\"id\":\"2428\"},\"coordinates\":null,\"dimension\":1,\"grid_line_color\":null,\"group\":null,\"ticker\":null},\"id\":\"2431\",\"type\":\"Grid\"},{\"attributes\":{\"fill_alpha\":{\"value\":0.2},\"fill_color\":{\"value\":\"#fc4f30\"},\"hatch_alpha\":{\"value\":0.2},\"hatch_color\":{\"value\":\"#fc4f30\"},\"line_alpha\":{\"value\":0.2},\"line_color\":{\"value\":\"#fc4f30\"},\"size\":{\"value\":5.477225575051661},\"x\":{\"field\":\"TotalCoinsMined\"},\"y\":{\"field\":\"TotalCoinSupply\"}},\"id\":\"2477\",\"type\":\"Scatter\"},{\"attributes\":{},\"id\":\"2425\",\"type\":\"BasicTicker\"},{\"attributes\":{\"axis\":{\"id\":\"2424\"},\"coordinates\":null,\"grid_line_color\":null,\"group\":null,\"ticker\":null},\"id\":\"2427\",\"type\":\"Grid\"},{\"attributes\":{\"label\":{\"value\":\"1\"},\"renderers\":[{\"id\":\"2478\"}]},\"id\":\"2492\",\"type\":\"LegendItem\"},{\"attributes\":{},\"id\":\"2429\",\"type\":\"BasicTicker\"},{\"attributes\":{\"axis_label\":\"TotalCoinSupply\",\"coordinates\":null,\"formatter\":{\"id\":\"2449\"},\"group\":null,\"major_label_policy\":{\"id\":\"2450\"},\"ticker\":{\"id\":\"2429\"}},\"id\":\"2428\",\"type\":\"LinearAxis\"},{\"attributes\":{\"angle\":{\"value\":0.0},\"fill_alpha\":{\"value\":1.0},\"fill_color\":{\"value\":\"#fc4f30\"},\"hatch_alpha\":{\"value\":1.0},\"hatch_color\":{\"value\":\"#fc4f30\"},\"hatch_scale\":{\"value\":12.0},\"hatch_weight\":{\"value\":1.0},\"line_alpha\":{\"value\":1.0},\"line_cap\":{\"value\":\"butt\"},\"line_color\":{\"value\":\"#fc4f30\"},\"line_dash\":{\"value\":[]},\"line_dash_offset\":{\"value\":0},\"line_join\":{\"value\":\"bevel\"},\"line_width\":{\"value\":1},\"marker\":{\"value\":\"circle\"},\"size\":{\"value\":5.477225575051661},\"x\":{\"field\":\"TotalCoinsMined\"},\"y\":{\"field\":\"TotalCoinSupply\"}},\"id\":\"2493\",\"type\":\"Scatter\"},{\"attributes\":{\"data\":{\"Class\":[1,1,1,1,1],\"CoinName\":[\"BiblePay\",\"LitecoinCash\",\"Poa Network\",\"Acute Angle Cloud\",\"Waves\"],\"TotalCoinSupply\":{\"__ndarray__\":\"lPYGX5hMdT+8eapDboZLP4RaKOGWizA//Knx0k1iUD8sQxzr4jYaPw==\",\"dtype\":\"float64\",\"order\":\"little\",\"shape\":[5]},\"TotalCoinsMined\":{\"__ndarray__\":\"j1gNkdpTXT+QpMXySiFFP5wZJXiPEis/ekNDBbiMUD/7RX5gv3oaPw==\",\"dtype\":\"float64\",\"order\":\"little\",\"shape\":[5]}},\"selected\":{\"id\":\"2473\"},\"selection_policy\":{\"id\":\"2489\"}},\"id\":\"2472\",\"type\":\"ColumnDataSource\"},{\"attributes\":{\"fill_color\":{\"value\":\"#e5ae38\"},\"hatch_color\":{\"value\":\"#e5ae38\"},\"line_color\":{\"value\":\"#e5ae38\"},\"size\":{\"value\":5.477225575051661},\"x\":{\"field\":\"TotalCoinsMined\"},\"y\":{\"field\":\"TotalCoinSupply\"}},\"id\":\"2497\",\"type\":\"Scatter\"},{\"attributes\":{},\"id\":\"2449\",\"type\":\"BasicTickFormatter\"},{\"attributes\":{\"children\":[{\"id\":\"2408\"},{\"id\":\"2415\"},{\"id\":\"2560\"}],\"margin\":[0,0,0,0],\"name\":\"Row02404\",\"tags\":[\"embedded\"]},\"id\":\"2407\",\"type\":\"Row\"},{\"attributes\":{\"data\":{\"Class\":[2],\"CoinName\":[\"BitTorrent\"],\"TotalCoinSupply\":{\"__ndarray__\":\"rkfhehSu7z8=\",\"dtype\":\"float64\",\"order\":\"little\",\"shape\":[1]},\"TotalCoinsMined\":{\"__ndarray__\":\"AAAAAAAA8D8=\",\"dtype\":\"float64\",\"order\":\"little\",\"shape\":[1]}},\"selected\":{\"id\":\"2495\"},\"selection_policy\":{\"id\":\"2513\"}},\"id\":\"2494\",\"type\":\"ColumnDataSource\"},{\"attributes\":{\"source\":{\"id\":\"2494\"}},\"id\":\"2501\",\"type\":\"CDSView\"},{\"attributes\":{\"end\":1.042857142857143,\"reset_end\":1.042857142857143,\"reset_start\":-0.04285714285714286,\"start\":-0.04285714285714286,\"tags\":[[[\"TotalCoinsMined\",\"TotalCoinsMined\",null]]]},\"id\":\"2409\",\"type\":\"Range1d\"},{\"attributes\":{},\"id\":\"2432\",\"type\":\"SaveTool\"},{\"attributes\":{},\"id\":\"2513\",\"type\":\"UnionRenderers\"},{\"attributes\":{\"coordinates\":null,\"data_source\":{\"id\":\"2494\"},\"glyph\":{\"id\":\"2497\"},\"group\":null,\"hover_glyph\":null,\"muted_glyph\":{\"id\":\"2499\"},\"nonselection_glyph\":{\"id\":\"2498\"},\"selection_glyph\":{\"id\":\"2517\"},\"view\":{\"id\":\"2501\"}},\"id\":\"2500\",\"type\":\"GlyphRenderer\"},{\"attributes\":{\"angle\":{\"value\":0.0},\"fill_alpha\":{\"value\":1.0},\"fill_color\":{\"value\":\"#30a2da\"},\"hatch_alpha\":{\"value\":1.0},\"hatch_color\":{\"value\":\"#30a2da\"},\"hatch_scale\":{\"value\":12.0},\"hatch_weight\":{\"value\":1.0},\"line_alpha\":{\"value\":1.0},\"line_cap\":{\"value\":\"butt\"},\"line_color\":{\"value\":\"#30a2da\"},\"line_dash\":{\"value\":[]},\"line_dash_offset\":{\"value\":0},\"line_join\":{\"value\":\"bevel\"},\"line_width\":{\"value\":1},\"marker\":{\"value\":\"circle\"},\"size\":{\"value\":5.477225575051661},\"x\":{\"field\":\"TotalCoinsMined\"},\"y\":{\"field\":\"TotalCoinSupply\"}},\"id\":\"2471\",\"type\":\"Scatter\"},{\"attributes\":{\"callback\":null,\"renderers\":[{\"id\":\"2457\"},{\"id\":\"2478\"},{\"id\":\"2500\"},{\"id\":\"2524\"}],\"tags\":[\"hv_created\"],\"tooltips\":[[\"Class\",\"@{Class}\"],[\"TotalCoinsMined\",\"@{TotalCoinsMined}\"],[\"TotalCoinSupply\",\"@{TotalCoinSupply}\"],[\"CoinName\",\"@{CoinName}\"]]},\"id\":\"2411\",\"type\":\"HoverTool\"},{\"attributes\":{},\"id\":\"2433\",\"type\":\"PanTool\"},{\"attributes\":{\"fill_alpha\":{\"value\":0.2},\"fill_color\":{\"value\":\"#e5ae38\"},\"hatch_alpha\":{\"value\":0.2},\"hatch_color\":{\"value\":\"#e5ae38\"},\"line_alpha\":{\"value\":0.2},\"line_color\":{\"value\":\"#e5ae38\"},\"size\":{\"value\":5.477225575051661},\"x\":{\"field\":\"TotalCoinsMined\"},\"y\":{\"field\":\"TotalCoinSupply\"}},\"id\":\"2499\",\"type\":\"Scatter\"},{\"attributes\":{\"end\":1.1,\"reset_end\":1.1,\"reset_start\":-0.1,\"start\":-0.1,\"tags\":[[[\"TotalCoinSupply\",\"TotalCoinSupply\",null]]]},\"id\":\"2410\",\"type\":\"Range1d\"},{\"attributes\":{},\"id\":\"2434\",\"type\":\"WheelZoomTool\"},{\"attributes\":{\"tools\":[{\"id\":\"2411\"},{\"id\":\"2432\"},{\"id\":\"2433\"},{\"id\":\"2434\"},{\"id\":\"2435\"},{\"id\":\"2436\"}]},\"id\":\"2438\",\"type\":\"Toolbar\"},{\"attributes\":{},\"id\":\"2495\",\"type\":\"Selection\"},{\"attributes\":{\"overlay\":{\"id\":\"2437\"}},\"id\":\"2435\",\"type\":\"BoxZoomTool\"},{\"attributes\":{},\"id\":\"2447\",\"type\":\"AllLabels\"},{\"attributes\":{\"label\":{\"value\":\"2\"},\"renderers\":[{\"id\":\"2500\"}]},\"id\":\"2516\",\"type\":\"LegendItem\"},{\"attributes\":{},\"id\":\"2450\",\"type\":\"AllLabels\"},{\"attributes\":{\"fill_alpha\":{\"value\":0.1},\"fill_color\":{\"value\":\"#e5ae38\"},\"hatch_alpha\":{\"value\":0.1},\"hatch_color\":{\"value\":\"#e5ae38\"},\"line_alpha\":{\"value\":0.1},\"line_color\":{\"value\":\"#e5ae38\"},\"size\":{\"value\":5.477225575051661},\"x\":{\"field\":\"TotalCoinsMined\"},\"y\":{\"field\":\"TotalCoinSupply\"}},\"id\":\"2498\",\"type\":\"Scatter\"},{\"attributes\":{},\"id\":\"2436\",\"type\":\"ResetTool\"},{\"attributes\":{},\"id\":\"2446\",\"type\":\"BasicTickFormatter\"},{\"attributes\":{\"data\":{\"Class\":[0,0,0,0,0,0,0,0,0,0,0,0,0,0,0,0,0,0,0,0,0,0,0,0,0,0,0,0,0,0,0,0,0,0,0,0,0,0,0,0,0,0,0,0,0,0,0,0,0,0,0,0,0,0,0,0,0,0,0,0,0,0,0,0,0,0,0,0,0,0,0,0,0,0,0,0,0,0,0,0,0,0,0,0,0,0,0,0,0,0,0,0,0,0,0,0,0,0,0,0,0,0,0,0,0,0,0,0,0,0,0,0,0,0,0,0,0,0,0,0,0,0,0,0,0,0,0,0,0,0,0,0,0,0,0,0,0,0,0,0,0,0,0,0,0,0,0,0,0,0,0,0,0,0,0,0,0,0,0,0,0,0,0,0,0,0,0,0,0,0,0,0,0,0,0,0,0,0,0,0,0,0,0,0,0,0,0,0,0,0,0,0,0,0,0,0,0,0,0,0,0,0,0,0,0,0,0,0,0,0,0,0,0,0,0,0,0,0,0,0,0,0,0,0,0,0,0,0,0,0,0,0,0,0,0,0,0,0,0,0,0,0,0,0,0,0,0,0,0,0,0,0,0,0,0,0,0,0,0,0,0,0,0,0,0,0,0,0,0,0,0,0,0,0,0,0,0,0,0,0,0,0,0,0,0,0,0],\"CoinName\":[\"42 Coin\",\"404Coin\",\"EliteCoin\",\"Dash\",\"Bitshares\",\"BitcoinDark\",\"PayCoin\",\"KoboCoin\",\"Aurora Coin\",\"BlueCoin\",\"EnergyCoin\",\"BitBar\",\"CryptoBullion\",\"CasinoCoin\",\"Diamond\",\"Exclusive Coin\",\"FlutterCoin\",\"HoboNickels\",\"HyperStake\",\"IOCoin\",\"MaxCoin\",\"MintCoin\",\"MazaCoin\",\"Nautilus Coin\",\"NavCoin\",\"OpalCoin\",\"Orbitcoin\",\"PotCoin\",\"PhoenixCoin\",\"Reddcoin\",\"SuperCoin\",\"SyncCoin\",\"TeslaCoin\",\"TittieCoin\",\"TorCoin\",\"UnitaryStatus Dollar\",\"UltraCoin\",\"VeriCoin\",\"X11 Coin\",\"Crypti\",\"StealthCoin\",\"ZCC Coin\",\"BurstCoin\",\"StorjCoin\",\"Neutron\",\"FairCoin\",\"RubyCoin\",\"Kore\",\"Dnotes\",\"8BIT Coin\",\"Sativa Coin\",\"Ucoin\",\"Vtorrent\",\"IslaCoin\",\"Nexus\",\"Droidz\",\"Squall Coin\",\"Diggits\",\"Paycon\",\"Emercoin\",\"EverGreenCoin\",\"Decred\",\"EDRCoin\",\"Hitcoin\",\"DubaiCoin\",\"PWR Coin\",\"BillaryCoin\",\"GPU Coin\",\"EuropeCoin\",\"ZeitCoin\",\"SwingCoin\",\"SafeExchangeCoin\",\"Nebuchadnezzar\",\"Ratecoin\",\"Revenu\",\"Clockcoin\",\"VIP Tokens\",\"BitSend\",\"Let it Ride\",\"PutinCoin\",\"iBankCoin\",\"Frankywillcoin\",\"MudraCoin\",\"Lutetium Coin\",\"GoldBlocks\",\"CarterCoin\",\"BitTokens\",\"MustangCoin\",\"ZoneCoin\",\"RootCoin\",\"BitCurrency\",\"Swiscoin\",\"BuzzCoin\",\"Opair\",\"PesoBit\",\"Halloween Coin\",\"CoffeeCoin\",\"RoyalCoin\",\"GanjaCoin V2\",\"TeamUP\",\"LanaCoin\",\"ARK\",\"InsaneCoin\",\"EmberCoin\",\"XenixCoin\",\"FreeCoin\",\"PLNCoin\",\"AquariusCoin\",\"Creatio\",\"Eternity\",\"Eurocoin\",\"BitcoinFast\",\"Stakenet\",\"BitConnect Coin\",\"MoneyCoin\",\"Enigma\",\"Russiacoin\",\"PandaCoin\",\"GameUnits\",\"GAKHcoin\",\"Allsafe\",\"LiteCreed\",\"Klingon Empire Darsek\",\"Internet of People\",\"KushCoin\",\"Printerium\",\"Impeach\",\"Zilbercoin\",\"FirstCoin\",\"FindCoin\",\"OpenChat\",\"RenosCoin\",\"VirtacoinPlus\",\"TajCoin\",\"Impact\",\"Atmos\",\"HappyCoin\",\"MacronCoin\",\"Condensate\",\"Independent Money System\",\"ArgusCoin\",\"LomoCoin\",\"ProCurrency\",\"GoldReserve\",\"GrowthCoin\",\"Phreak\",\"Degas Coin\",\"HTML5 Coin\",\"Ultimate Secure Cash\",\"QTUM\",\"Espers\",\"Denarius\",\"Virta Unique Coin\",\"Bitcoin Planet\",\"BritCoin\",\"Linda\",\"DeepOnion\",\"Signatum\",\"Cream\",\"Monoeci\",\"Draftcoin\",\"Vechain\",\"Stakecoin\",\"CoinonatX\",\"Ethereum Dark\",\"Obsidian\",\"Cardano\",\"Regalcoin\",\"TrezarCoin\",\"TerraNovaCoin\",\"Rupee\",\"WomenCoin\",\"Theresa May Coin\",\"NamoCoin\",\"LUXCoin\",\"Xios\",\"Bitcloud 2.0\",\"KekCoin\",\"BlackholeCoin\",\"Infinity Economics\",\"Magnet\",\"Lamden Tau\",\"Electra\",\"Bitcoin Diamond\",\"Cash & Back Coin\",\"Bulwark\",\"Kalkulus\",\"GermanCoin\",\"LiteCoin Ultra\",\"PhantomX\",\"Digiwage\",\"Trollcoin\",\"Litecoin Plus\",\"Monkey Project\",\"TokenPay\",\"My Big Coin\",\"Unified Society USDEX\",\"Tokyo Coin\",\"Stipend\",\"Pushi\",\"Ellerium\",\"Velox\",\"Ontology\",\"Bitspace\",\"Briacoin\",\"Ignition\",\"MedicCoin\",\"Bitcoin Green\",\"Deviant Coin\",\"Abjcoin\",\"Semux\",\"Carebit\",\"Zealium\",\"Proton\",\"iDealCash\",\"Bitcoin Incognito\",\"HollyWoodCoin\",\"Swisscoin\",\"Xt3ch\",\"TheVig\",\"EmaratCoin\",\"Dekado\",\"Lynx\",\"Poseidon Quark\",\"BitcoinWSpectrum\",\"Muse\",\"Trivechain\",\"Dystem\",\"Giant\",\"Peony Coin\",\"Absolute Coin\",\"Vitae\",\"TPCash\",\"ARENON\",\"EUNO\",\"MMOCoin\",\"Ketan\",\"XDNA\",\"PAXEX\",\"ThunderStake\",\"Kcash\",\"Bettex coin\",\"BitMoney\",\"Junson Ming Chan Coin\",\"HerbCoin\",\"PirateCash\",\"Oduwa\",\"Galilel\",\"Crypto Sports\",\"Credit\",\"Dash Platinum\",\"Nasdacoin\",\"Beetle Coin\",\"Titan Coin\",\"Award\",\"Insane Coin\",\"ALAX\",\"LiteDoge\",\"TruckCoin\",\"OrangeCoin\",\"BitstarCoin\",\"NeosCoin\",\"HyperCoin\",\"PinkCoin\",\"AudioCoin\",\"IncaKoin\",\"Piggy Coin\",\"Genstake\",\"XiaoMiCoin\",\"CapriCoin\",\" ClubCoin\",\"Radium\",\"Creditbit \",\"OKCash\",\"Lisk\",\"HiCoin\",\"WhiteCoin\",\"FriendshipCoin\",\"Triangles Coin\",\"EOS\",\"Oxycoin\",\"TigerCash\",\"Particl\",\"Nxt\",\"ZEPHYR\",\"Gapcoin\",\"BitcoinPlus\"],\"TotalCoinSupply\":{\"__ndarray__\":\"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\",\"dtype\":\"float64\",\"order\":\"little\",\"shape\":[287]},\"TotalCoinsMined\":{\"__ndarray__\":\"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\",\"dtype\":\"float64\",\"order\":\"little\",\"shape\":[287]}},\"selected\":{\"id\":\"2452\"},\"selection_policy\":{\"id\":\"2466\"}},\"id\":\"2451\",\"type\":\"ColumnDataSource\"},{\"attributes\":{\"bottom_units\":\"screen\",\"coordinates\":null,\"fill_alpha\":0.5,\"fill_color\":\"lightgrey\",\"group\":null,\"left_units\":\"screen\",\"level\":\"overlay\",\"line_alpha\":1.0,\"line_color\":\"black\",\"line_dash\":[4,4],\"line_width\":2,\"right_units\":\"screen\",\"syncable\":false,\"top_units\":\"screen\"},\"id\":\"2437\",\"type\":\"BoxAnnotation\"},{\"attributes\":{\"data\":{\"Class\":[3,3,3,3,3,3,3,3,3,3,3,3,3,3,3,3,3,3,3,3,3,3,3,3,3,3,3,3,3,3,3,3,3,3,3,3,3,3,3,3,3,3,3,3,3,3,3,3,3,3,3,3,3,3,3,3,3,3,3,3,3,3,3,3,3,3,3,3,3,3,3,3,3,3,3,3,3,3,3,3,3,3,3,3,3,3,3,3,3,3,3,3,3,3,3,3,3,3,3,3,3,3,3,3,3,3,3,3,3,3,3,3,3,3,3,3,3,3,3,3,3,3,3,3,3,3,3,3,3,3,3,3,3,3,3,3,3,3,3,3,3,3,3,3,3,3,3,3,3,3,3,3,3,3,3,3,3,3,3,3,3,3,3,3,3,3,3,3,3,3,3,3,3,3,3,3,3,3,3,3,3,3,3,3,3,3,3,3,3,3,3,3,3,3,3,3,3,3,3,3,3,3,3,3,3,3,3,3,3,3,3,3,3,3,3,3,3,3,3,3,3,3,3,3,3,3,3,3,3,3,3,3,3,3,3,3,3,3,3],\"CoinName\":[\"Bitcoin\",\"Ethereum\",\"Litecoin\",\"Monero\",\"Ethereum Classic\",\"ZCash\",\"DigiByte\",\"ProsperCoin\",\"Spreadcoin\",\"Argentum\",\"MyriadCoin\",\"MoonCoin\",\"ZetaCoin\",\"SexCoin\",\"Quatloo\",\"QuarkCoin\",\"Riecoin\",\"Digitalcoin \",\"Catcoin\",\"CannaCoin\",\"CryptCoin\",\"Verge\",\"DevCoin\",\"EarthCoin\",\"E-Gulden\",\"Einsteinium\",\"Emerald\",\"Franko\",\"FeatherCoin\",\"GrandCoin\",\"GlobalCoin\",\"GoldCoin\",\"Infinite Coin\",\"IXcoin\",\"KrugerCoin\",\"LuckyCoin\",\"Litebar \",\"MegaCoin\",\"MediterraneanCoin\",\"MinCoin\",\"NobleCoin\",\"Namecoin\",\"NyanCoin\",\"RonPaulCoin\",\"StableCoin\",\"SmartCoin\",\"SysCoin\",\"TigerCoin\",\"TerraCoin\",\"UnbreakableCoin\",\"Unobtanium\",\"UroCoin\",\"ViaCoin\",\"Vertcoin\",\"WorldCoin\",\"JouleCoin\",\"ByteCoin\",\"DigitalNote \",\"MonaCoin\",\"Gulden\",\"PesetaCoin\",\"Wild Beast Coin\",\"Flo\",\"ArtByte\",\"Folding Coin\",\"Unitus\",\"CypherPunkCoin\",\"OmniCron\",\"GreenCoin\",\"Cryptonite\",\"MasterCoin\",\"SoonCoin\",\"1Credit\",\"MarsCoin \",\"Crypto\",\"Anarchists Prime\",\"BowsCoin\",\"Song Coin\",\"BitZeny\",\"Expanse\",\"Siacoin\",\"MindCoin\",\"I0coin\",\"Revolution VR\",\"HOdlcoin\",\"Gamecredits\",\"CarpeDiemCoin\",\"Adzcoin\",\"SoilCoin\",\"YoCoin\",\"SibCoin\",\"Francs\",\"BolivarCoin\",\"Omni\",\"PizzaCoin\",\"Komodo\",\"Karbo\",\"ZayedCoin\",\"Circuits of Value\",\"DopeCoin\",\"DollarCoin\",\"Shilling\",\"ZCoin\",\"Elementrem\",\"ZClassic\",\"KiloCoin\",\"ArtexCoin\",\"Kurrent\",\"Cannabis Industry Coin\",\"OsmiumCoin\",\"Bikercoins\",\"HexxCoin\",\"PacCoin\",\"Citadel\",\"BeaverCoin\",\"VaultCoin\",\"Zero\",\"Canada eCoin\",\"Zoin\",\"DubaiCoin\",\"EB3coin\",\"Coinonat\",\"BenjiRolls\",\"ILCoin\",\"EquiTrader\",\"Quantum Resistant Ledger\",\"Dynamic\",\"Nano\",\"ChanCoin\",\"Dinastycoin\",\"DigitalPrice\",\"Unify\",\"SocialCoin\",\"ArcticCoin\",\"DAS\",\"LeviarCoin\",\"Bitcore\",\"gCn Coin\",\"SmartCash\",\"Onix\",\"Bitcoin Cash\",\"Sojourn Coin\",\"NewYorkCoin\",\"FrazCoin\",\"Kronecoin\",\"AdCoin\",\"Linx\",\"Sumokoin\",\"BitcoinZ\",\"Elements\",\"VIVO Coin\",\"Bitcoin Gold\",\"Pirl\",\"eBoost\",\"Pura\",\"Innova\",\"Ellaism\",\"GoByte\",\"SHIELD\",\"UltraNote\",\"BitCoal\",\"DaxxCoin\",\"AC3\",\"Lethean\",\"PopularCoin\",\"Photon\",\"Sucre\",\"SparksPay\",\"GunCoin\",\"IrishCoin\",\"Pioneer Coin\",\"UnitedBitcoin\",\"Interzone\",\"1717 Masonic Commemorative Token\",\"TurtleCoin\",\"MUNcoin\",\"Niobio Cash\",\"ShareChain\",\"Travelflex\",\"KREDS\",\"BitFlip\",\"LottoCoin\",\"Crypto Improvement Fund\",\"Callisto Network\",\"BitTube\",\"Poseidon\",\"Aidos Kuneen\",\"Bitrolium\",\"Alpenschillling\",\"FuturoCoin\",\"Monero Classic\",\"Jumpcoin\",\"Infinex\",\"KEYCO\",\"GINcoin\",\"PlatinCoin\",\"Loki\",\"Newton Coin\",\"MassGrid\",\"PluraCoin\",\"Motion\",\"PlusOneCoin\",\"Axe\",\"HexCoin\",\"Webchain\",\"Ryo\",\"Urals Coin\",\"Qwertycoin\",\"Project Pai\",\"Azart\",\"Xchange\",\"CrypticCoin\",\"Actinium\",\"Bitcoin SV\",\"FREDEnergy\",\"Universal Molecule\",\"Lithium\",\"Exosis\",\"Block-Logic\",\"Beam\",\"Bithereum\",\"SLICE\",\"BLAST\",\"Bitcoin Rhodium\",\"GlobalToken\",\"SolarCoin\",\"UFO Coin\",\"BlakeCoin\",\"Crypto Escudo\",\"Crown Coin\",\"SmileyCoin\",\"Groestlcoin\",\"Bata\",\"Pakcoin\",\"JoinCoin\",\"Vollar\",\"Reality Clash\",\"Beldex\",\"Horizen\"],\"TotalCoinSupply\":{\"__ndarray__\":\"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\",\"dtype\":\"float64\",\"order\":\"little\",\"shape\":[239]},\"TotalCoinsMined\":{\"__ndarray__\":\"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\",\"dtype\":\"float64\",\"order\":\"little\",\"shape\":[239]}},\"selected\":{\"id\":\"2519\"},\"selection_policy\":{\"id\":\"2539\"}},\"id\":\"2518\",\"type\":\"ColumnDataSource\"},{\"attributes\":{\"angle\":{\"value\":0.0},\"fill_alpha\":{\"value\":1.0},\"fill_color\":{\"value\":\"#e5ae38\"},\"hatch_alpha\":{\"value\":1.0},\"hatch_color\":{\"value\":\"#e5ae38\"},\"hatch_scale\":{\"value\":12.0},\"hatch_weight\":{\"value\":1.0},\"line_alpha\":{\"value\":1.0},\"line_cap\":{\"value\":\"butt\"},\"line_color\":{\"value\":\"#e5ae38\"},\"line_dash\":{\"value\":[]},\"line_dash_offset\":{\"value\":0},\"line_join\":{\"value\":\"bevel\"},\"line_width\":{\"value\":1},\"marker\":{\"value\":\"circle\"},\"size\":{\"value\":5.477225575051661},\"x\":{\"field\":\"TotalCoinsMined\"},\"y\":{\"field\":\"TotalCoinSupply\"}},\"id\":\"2517\",\"type\":\"Scatter\"},{\"attributes\":{},\"id\":\"2519\",\"type\":\"Selection\"}],\"root_ids\":[\"2407\"]},\"title\":\"Bokeh Application\",\"version\":\"2.4.3\"}};\n",
       "    var render_items = [{\"docid\":\"a3dbfd5a-d7ba-4913-9605-285ab1f35a94\",\"root_ids\":[\"2407\"],\"roots\":{\"2407\":\"72203acc-75b9-42e3-97d0-ceacdfc416b1\"}}];\n",
       "    root.Bokeh.embed.embed_items_notebook(docs_json, render_items);\n",
       "  }\n",
       "  if (root.Bokeh !== undefined && root.Bokeh.Panel !== undefined) {\n",
       "    embed_document(root);\n",
       "  } else {\n",
       "    var attempts = 0;\n",
       "    var timer = setInterval(function(root) {\n",
       "      if (root.Bokeh !== undefined && root.Bokeh.Panel !== undefined) {\n",
       "        clearInterval(timer);\n",
       "        embed_document(root);\n",
       "      } else if (document.readyState == \"complete\") {\n",
       "        attempts++;\n",
       "        if (attempts > 200) {\n",
       "          clearInterval(timer);\n",
       "          console.log(\"Bokeh: ERROR: Unable to run BokehJS code because BokehJS library is missing\");\n",
       "        }\n",
       "      }\n",
       "    }, 25, root)\n",
       "  }\n",
       "})(window);</script>"
      ],
      "text/plain": [
       ":NdOverlay   [Class]\n",
       "   :Scatter   [TotalCoinsMined]   (TotalCoinSupply,CoinName)"
      ]
     },
     "execution_count": 145,
     "metadata": {
      "application/vnd.holoviews_exec.v0+json": {
       "id": "2407"
      }
     },
     "output_type": "execute_result"
    }
   ],
   "source": [
    "# Create a hvplot.scatter plot using x=\"TotalCoinsMined\" and y=\"TotalCoinSupply\".\n",
    "plot_df.hvplot.scatter(\n",
    "    x='TotalCoinsMined',\n",
    "    y='TotalCoinSupply',\n",
    "    hover_cols=['CoinName'],\n",
    "    by='Class',)\n"
   ]
  },
  {
   "cell_type": "code",
   "execution_count": null,
   "metadata": {},
   "outputs": [],
   "source": []
  }
 ],
 "metadata": {
  "file_extension": ".py",
  "kernelspec": {
   "display_name": "Python 3 (ipykernel)",
   "language": "python",
   "name": "python3"
  },
  "language_info": {
   "codemirror_mode": {
    "name": "ipython",
    "version": 3
   },
   "file_extension": ".py",
   "mimetype": "text/x-python",
   "name": "python",
   "nbconvert_exporter": "python",
   "pygments_lexer": "ipython3",
   "version": "3.7.13"
  },
  "latex_envs": {
   "LaTeX_envs_menu_present": true,
   "autoclose": false,
   "autocomplete": true,
   "bibliofile": "biblio.bib",
   "cite_by": "apalike",
   "current_citInitial": 1,
   "eqLabelWithNumbers": true,
   "eqNumInitial": 1,
   "hotkeys": {
    "equation": "Ctrl-E",
    "itemize": "Ctrl-I"
   },
   "labels_anchors": false,
   "latex_user_defs": false,
   "report_style_numbering": false,
   "user_envs_cfg": false
  },
  "mimetype": "text/x-python",
  "name": "python",
  "npconvert_exporter": "python",
  "pygments_lexer": "ipython3",
  "version": 3
 },
 "nbformat": 4,
 "nbformat_minor": 2
}
